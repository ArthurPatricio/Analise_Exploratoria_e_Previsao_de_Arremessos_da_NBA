{
 "cells": [
  {
   "cell_type": "code",
   "execution_count": 1,
   "source": [
    "#Import Libs\r\n",
    "\r\n",
    "import pandas as pd\r\n",
    "import requests\r\n",
    "import json"
   ],
   "outputs": [],
   "metadata": {}
  },
  {
   "cell_type": "code",
   "execution_count": 2,
   "source": [
    "#Get players ID's from xls file\r\n",
    "\r\n",
    "players = pd.read_excel('players.xls')"
   ],
   "outputs": [],
   "metadata": {}
  },
  {
   "cell_type": "code",
   "execution_count": 3,
   "source": [
    "#Check player's Dataframe\r\n",
    "\r\n",
    "players.head()"
   ],
   "outputs": [
    {
     "output_type": "execute_result",
     "data": {
      "text/plain": [
       "   PLAYER_ID    PLAYER_NAME\n",
       "0     203932   Aaron Gordon\n",
       "1    1628988  Aaron Holiday\n",
       "2    1630174  Aaron Nesmith\n",
       "3    1627846    Abdel Nader\n",
       "4    1629690    Adam Mokoka"
      ],
      "text/html": [
       "<div>\n",
       "<style scoped>\n",
       "    .dataframe tbody tr th:only-of-type {\n",
       "        vertical-align: middle;\n",
       "    }\n",
       "\n",
       "    .dataframe tbody tr th {\n",
       "        vertical-align: top;\n",
       "    }\n",
       "\n",
       "    .dataframe thead th {\n",
       "        text-align: right;\n",
       "    }\n",
       "</style>\n",
       "<table border=\"1\" class=\"dataframe\">\n",
       "  <thead>\n",
       "    <tr style=\"text-align: right;\">\n",
       "      <th></th>\n",
       "      <th>PLAYER_ID</th>\n",
       "      <th>PLAYER_NAME</th>\n",
       "    </tr>\n",
       "  </thead>\n",
       "  <tbody>\n",
       "    <tr>\n",
       "      <th>0</th>\n",
       "      <td>203932</td>\n",
       "      <td>Aaron Gordon</td>\n",
       "    </tr>\n",
       "    <tr>\n",
       "      <th>1</th>\n",
       "      <td>1628988</td>\n",
       "      <td>Aaron Holiday</td>\n",
       "    </tr>\n",
       "    <tr>\n",
       "      <th>2</th>\n",
       "      <td>1630174</td>\n",
       "      <td>Aaron Nesmith</td>\n",
       "    </tr>\n",
       "    <tr>\n",
       "      <th>3</th>\n",
       "      <td>1627846</td>\n",
       "      <td>Abdel Nader</td>\n",
       "    </tr>\n",
       "    <tr>\n",
       "      <th>4</th>\n",
       "      <td>1629690</td>\n",
       "      <td>Adam Mokoka</td>\n",
       "    </tr>\n",
       "  </tbody>\n",
       "</table>\n",
       "</div>"
      ]
     },
     "metadata": {},
     "execution_count": 3
    }
   ],
   "metadata": {}
  },
  {
   "cell_type": "code",
   "execution_count": 4,
   "source": [
    "#Check Dataframe shape\r\n",
    "\r\n",
    "players.shape"
   ],
   "outputs": [
    {
     "output_type": "execute_result",
     "data": {
      "text/plain": [
       "(540, 2)"
      ]
     },
     "metadata": {},
     "execution_count": 4
    }
   ],
   "metadata": {}
  },
  {
   "cell_type": "code",
   "execution_count": 5,
   "source": [
    "#Create a list of the Dataframe's \"PLAYER_ID\" column\r\n",
    "\r\n",
    "players_ids = players[\"PLAYER_ID\"].tolist()"
   ],
   "outputs": [],
   "metadata": {}
  },
  {
   "cell_type": "code",
   "execution_count": null,
   "source": [
    "#Get player's shot charts info from NBA's API \r\n",
    "\r\n",
    "url_base = 'https://stats.nba.com/stats/shotchartdetail'\r\n",
    "\r\n",
    "headers = {\r\n",
    "\t\t'Host': 'stats.nba.com',\r\n",
    "\t\t'Connection': 'keep-alive',\r\n",
    "\t\t'Accept': 'application/json, text/plain, */*',\r\n",
    "\t\t'User-Agent': 'Mozilla/5.0 (Windows NT 10.0; Win64; x64) AppleWebKit/537.36 (KHTML, like Gecko) Chrome/79.0.3945.130 Safari/537.36',\r\n",
    "\t\t'Referer': 'https://stats.nba.com/',\r\n",
    "\t\t\"x-nba-stats-origin\": \"stats\",\r\n",
    "\t\t\"x-nba-stats-token\": \"true\",\r\n",
    "\t\t'Accept-Encoding': 'gzip, deflate, br',\r\n",
    "\t\t'Accept-Language': 'en-US,en;q=0.9',\r\n",
    "\t}\r\n",
    "\r\n",
    "columns_list = ['GRID_TYPE',\r\n",
    "\t\t\t\t'GAME_ID',\r\n",
    "\t\t\t\t'GAME_EVENT_ID',\r\n",
    "\t\t\t\t'PLAYER_ID',\r\n",
    "\t\t\t\t'PLAYER_NAME',\r\n",
    "\t\t\t\t'TEAM_ID',\r\n",
    "\t\t\t\t'TEAM_NAME',\r\n",
    "\t\t\t\t'PERIOD',\r\n",
    "\t\t\t\t'MINUTES_REMAINING',\r\n",
    "\t\t\t\t'SECONDS_REMAINING',\r\n",
    "\t\t\t\t'EVENT_TYPE',\r\n",
    "\t\t\t\t'ACTION_TYPE',\r\n",
    "\t\t\t\t'SHOT_TYPE',\r\n",
    "\t\t\t\t'SHOT_ZONE_BASIC',\r\n",
    "\t\t\t\t'SHOT_ZONE_AREA',\r\n",
    "\t\t\t\t'SHOT_ZONE_RANGE',\r\n",
    "\t\t\t\t'SHOT_DISTANCE','LOC_X',\r\n",
    "\t\t\t\t'LOC_Y',\r\n",
    "\t\t\t\t'SHOT_ATTEMPTED_FLAG',\r\n",
    "\t\t\t\t'SHOT_MADE_FLAG',\r\n",
    "\t\t\t\t'GAME_DATE',\r\n",
    "\t\t\t\t'HTM',\r\n",
    "\t\t\t\t'VTM']\r\n",
    "\r\n",
    "dfs=[]\r\n",
    "for i in players_ids:\r\n",
    "\r\n",
    "\tparameters = {\r\n",
    "\t\t'ContextMeasure': 'FGA',\r\n",
    "\t\t'LastNGames': 0,\r\n",
    "\t\t'LeagueID': '00',\r\n",
    "\t\t'Month': 0,\r\n",
    "\t\t'OpponentTeamID': 0,\r\n",
    "\t\t'Period': 0,\r\n",
    "\t\t'PlayerID': i,\r\n",
    "\t\t'SeasonType': 'Regular Season',\r\n",
    "\t\t'TeamID': 0,\r\n",
    "\t\t'VsDivision': '',\r\n",
    "\t\t'VsConference': '',\r\n",
    "\t\t'SeasonSegment': '',\r\n",
    "\t\t'Season': '2017-18',\r\n",
    "\t\t'RookieYear': '',\r\n",
    "\t\t'PlayerPosition': '',\r\n",
    "\t\t'Outcome': '',\r\n",
    "\t\t'Location': '',\r\n",
    "\t\t'GameSegment': '',\r\n",
    "\t\t'GameId': '',\r\n",
    "\t\t'DateTo': '',\r\n",
    "\t\t'DateFrom': ''\r\n",
    "\t}\r\n",
    "\r\n",
    "\tresponse = requests.get(url_base, params=parameters, headers=headers).json()\r\n",
    "\r\n",
    "\timport pandas as pd\r\n",
    "\r\n",
    "\t# transform contents into dataframe\r\n",
    "\tresults = response['resultSets'][0]['rowSet']\r\n",
    "\tdf = pd.DataFrame(results, columns=columns_list)\r\n",
    "\tdfs.append(df)\r\n",
    "\tprint(i)"
   ],
   "outputs": [],
   "metadata": {}
  },
  {
   "cell_type": "code",
   "execution_count": 12,
   "source": [
    "# Write file to xlsx\r\n",
    "final_dfs = pd.concat(dfs, sort=False)\r\n",
    "final_dfs.head()\r\n",
    "final_dfs.to_excel(\"nba_shots_2017-18.xlsx\")"
   ],
   "outputs": [],
   "metadata": {}
  }
 ],
 "metadata": {
  "orig_nbformat": 4,
  "language_info": {
   "name": "python",
   "version": "3.8.6",
   "mimetype": "text/x-python",
   "codemirror_mode": {
    "name": "ipython",
    "version": 3
   },
   "pygments_lexer": "ipython3",
   "nbconvert_exporter": "python",
   "file_extension": ".py"
  },
  "kernelspec": {
   "name": "python3",
   "display_name": "Python 3.8.6 64-bit"
  },
  "interpreter": {
   "hash": "f499c09746ed89bb16a1ef7cbb581cc63f8572953d5a366b82ca25faa5a00be4"
  }
 },
 "nbformat": 4,
 "nbformat_minor": 2
}