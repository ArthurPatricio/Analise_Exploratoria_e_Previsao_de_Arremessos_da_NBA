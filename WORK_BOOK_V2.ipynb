{
  "nbformat": 4,
  "nbformat_minor": 2,
  "metadata": {
    "orig_nbformat": 4,
    "language_info": {
      "name": "python",
      "version": "3.8.6",
      "mimetype": "text/x-python",
      "codemirror_mode": {
        "name": "ipython",
        "version": 3
      },
      "pygments_lexer": "ipython3",
      "nbconvert_exporter": "python",
      "file_extension": ".py"
    },
    "kernelspec": {
      "name": "python3",
      "display_name": "Python 3.8.6 64-bit"
    },
    "interpreter": {
      "hash": "f499c09746ed89bb16a1ef7cbb581cc63f8572953d5a366b82ca25faa5a00be4"
    },
    "colab": {
      "name": "WORK_BOOK_V2.ipynb",
      "provenance": []
    }
  },
  "cells": [
    {
      "cell_type": "markdown",
      "source": [
        "#Análise Exploratória e Previsão de Arremessos da NBA"
      ],
      "metadata": {}
    },
    {
      "cell_type": "markdown",
      "source": [
        "#Objetivo\r\n",
        "    Este projeto visa primeiramente, realizar uma análise exploratória dos dados obtidos das últimas 6 temporadas regulares da NBA (2015-16 a 2020-21) e treinar diferentes modelos de machine learning com o intuito de prever se um arremesso é bem-sucedido ou não.\r\n"
      ],
      "metadata": {}
    },
    {
      "cell_type": "markdown",
      "source": [
        "#Conjunto de Dados\r\n",
        "    Os dados foram obtidos através da API da NBA, o script 'get_players_shot_charts.ipynb' criado e a planilha com os ID's dos jogadores pode ser encontrados em:\r\n",
        "    \r\n",
        "    - (https://github.com/ArthurPatricio/Analise_Exploratoria_e_Previsao_de_Arremessos_da_NBA)\r\n",
        "\r\n",
        "    Os conjuntos de dados foram salvos por temporada em arquivos .xlsx (Ex: 'nba_shots_2020-21')\r\n"
      ],
      "metadata": {}
    },
    {
      "cell_type": "markdown",
      "source": [
        "#Linguagem, Bibliotecas e Pacotes\r\n",
        "    O trabalho foi feito todo em Python 3. Abaixo, segue a listagem de todas bibliotecas e pacotes utilizados:\r\n"
      ],
      "metadata": {}
    },
    {
      "cell_type": "code",
      "execution_count": null,
      "source": [
        "#Import Libs\r\n",
        "\r\n",
        "import pandas as pd\r\n",
        "import numpy as np\r\n",
        "import matplotlib.pyplot as plt\r\n",
        "import seaborn as sns\r\n",
        "import os\r\n",
        "import missingno as msno\r\n",
        "from pandas_profiling import ProfileReport\r\n",
        "import plotly.express as px\r\n",
        "import matplotlib as mpl\r\n",
        "import time\r\n",
        "from matplotlib.patches import Circle, Rectangle, Arc, ConnectionPatch\r\n",
        "from matplotlib.patches import Polygon\r\n",
        "from matplotlib.collections import PatchCollection\r\n",
        "from matplotlib.colors import LinearSegmentedColormap, ListedColormap, BoundaryNorm\r\n",
        "from matplotlib.path import Path\r\n",
        "from matplotlib.patches import PathPatch"
      ],
      "outputs": [],
      "metadata": {
        "id": "GLUma1CdaqQ6"
      }
    },
    {
      "cell_type": "code",
      "execution_count": null,
      "source": [
        "# Import Libs\r\n",
        "\r\n",
        "from sklearn.feature_selection import VarianceThreshold\r\n",
        "from sklearn.model_selection import train_test_split\r\n",
        "from sklearn.svm import SVC\r\n",
        "from sklearn.svm import LinearSVC\r\n",
        "from sklearn.tree import DecisionTreeClassifier\r\n",
        "from sklearn import tree\r\n",
        "from sklearn.preprocessing import StandardScaler\r\n",
        "from sklearn.model_selection import GridSearchCV\r\n",
        "from sklearn.metrics import classification_report\r\n",
        "from sklearn.ensemble import RandomForestClassifier\r\n",
        "from sklearn.ensemble import GradientBoostingClassifier\r\n",
        "import xgboost as xgb"
      ],
      "outputs": [],
      "metadata": {
        "id": "ltXTB0vpaqRH"
      }
    },
    {
      "cell_type": "markdown",
      "source": [
        "# Leitura dos Dados\r\n",
        "    As 6 planilhas foram importandas e inseridas em Dataframes utilizando a biblioteca pandas."
      ],
      "metadata": {}
    },
    {
      "cell_type": "code",
      "execution_count": null,
      "source": [
        "#Read NBA Shots excel files\r\n",
        "\r\n",
        "nba_shots_2020_21 = pd.read_excel('nba_shots_2020-21.xlsx', engine='openpyxl')\r\n",
        "nba_shots_2019_20 = pd.read_excel('nba_shots_2019-20.xlsx', engine='openpyxl')\r\n",
        "nba_shots_2018_19 = pd.read_excel('nba_shots_2018-19.xlsx', engine='openpyxl')\r\n",
        "nba_shots_2017_18 = pd.read_excel('nba_shots_2017-18.xlsx', engine='openpyxl')\r\n",
        "nba_shots_2016_17 = pd.read_excel('nba_shots_2016-17.xlsx', engine='openpyxl')\r\n",
        "nba_shots_2015_16 = pd.read_excel('nba_shots_2015-16.xlsx', engine='openpyxl')"
      ],
      "outputs": [],
      "metadata": {
        "id": "EJSsgCRhaqQ8"
      }
    },
    {
      "cell_type": "markdown",
      "source": [
        "Cada Dataframe tem a coluna \"Unnamed: 0\" retirada e a coluna \"SEASON_ID\" adicionada sendo inserida a respectiva temporada do Dataframe em questão."
      ],
      "metadata": {}
    },
    {
      "cell_type": "code",
      "execution_count": null,
      "source": [
        "#Drop \"Unnamed: 0\" column, Add \"SEASON_ID\" column in nba_shots_2020_21\r\n",
        "\r\n",
        "nba_shots_2020_21.drop(['Unnamed: 0'], axis=1, inplace=True)\r\n",
        "nba_shots_2020_21['SEASON_ID'] = '2020-21'\r\n",
        "nba_shots_2020_21.head()"
      ],
      "outputs": [],
      "metadata": {
        "colab": {
          "base_uri": "https://localhost:8080/",
          "height": 309
        },
        "id": "PUkSPZZhaqQ9",
        "outputId": "3b9da2df-fa02-4330-c403-e102c983fc54"
      }
    },
    {
      "cell_type": "code",
      "execution_count": null,
      "source": [
        "#Drop \"Unnamed: 0\" column, Add \"SEASON_ID\" column in nba_shots_2019_20\r\n",
        "\r\n",
        "nba_shots_2019_20.drop(['Unnamed: 0'], axis=1, inplace=True)\r\n",
        "nba_shots_2019_20['SEASON_ID'] = '2019-20'\r\n",
        "nba_shots_2019_20.head()"
      ],
      "outputs": [],
      "metadata": {
        "colab": {
          "base_uri": "https://localhost:8080/",
          "height": 309
        },
        "id": "YeZ1-SAHaqQ-",
        "outputId": "1e07d56d-f618-4820-8e47-ecd48887b95a"
      }
    },
    {
      "cell_type": "code",
      "execution_count": null,
      "source": [
        "#Drop \"Unnamed: 0\" column, Add \"SEASON_ID\" column in nba_shots_2018_19\r\n",
        "\r\n",
        "nba_shots_2018_19.drop(['Unnamed: 0'], axis=1, inplace=True)\r\n",
        "nba_shots_2018_19['SEASON_ID'] = '2018-19'\r\n",
        "nba_shots_2018_19.head()"
      ],
      "outputs": [],
      "metadata": {
        "colab": {
          "base_uri": "https://localhost:8080/",
          "height": 309
        },
        "id": "Y0R2c_vNaqQ-",
        "outputId": "07c66164-4416-4924-915b-5db79c12d118"
      }
    },
    {
      "cell_type": "code",
      "execution_count": null,
      "source": [
        "#Drop \"Unnamed: 0\" column, Add \"SEASON_ID\" column in nba_shots_2017_18\r\n",
        "\r\n",
        "nba_shots_2017_18.drop(['Unnamed: 0'], axis=1, inplace=True)\r\n",
        "nba_shots_2017_18['SEASON_ID'] = '2017-18'\r\n",
        "nba_shots_2017_18.head()"
      ],
      "outputs": [],
      "metadata": {}
    },
    {
      "cell_type": "code",
      "execution_count": null,
      "source": [
        "#Drop \"Unnamed: 0\" column, Add \"SEASON_ID\" column in nba_shots_2016_17\r\n",
        "\r\n",
        "nba_shots_2016_17.drop(['Unnamed: 0'], axis=1, inplace=True)\r\n",
        "nba_shots_2016_17['SEASON_ID'] = '2016-17'\r\n",
        "nba_shots_2016_17.head()"
      ],
      "outputs": [],
      "metadata": {}
    },
    {
      "cell_type": "code",
      "execution_count": null,
      "source": [
        "#Drop \"Unnamed: 0\" column, Add \"SEASON_ID\" column in nba_shots_2015_16\r\n",
        "\r\n",
        "nba_shots_2015_16.drop(['Unnamed: 0'], axis=1, inplace=True)\r\n",
        "nba_shots_2015_16['SEASON_ID'] = '2015-16'\r\n",
        "nba_shots_2015_16.head()"
      ],
      "outputs": [],
      "metadata": {}
    },
    {
      "cell_type": "markdown",
      "source": [],
      "metadata": {}
    },
    {
      "cell_type": "code",
      "execution_count": null,
      "source": [
        "#Create nba_shots as a concatenation of the 3 Dataframes from each reagular season\r\n",
        "\r\n",
        "nba_shots = pd.concat([nba_shots_2020_21, nba_shots_2019_20, nba_shots_2018_19, nba_shots_2017_18, nba_shots_2016_17, nba_shots_2015_16], sort=False)\r\n",
        "\r\n",
        "nba_shots.head()"
      ],
      "outputs": [],
      "metadata": {
        "colab": {
          "base_uri": "https://localhost:8080/",
          "height": 309
        },
        "id": "imiei5zFaqQ_",
        "outputId": "ed77f1d3-db8b-417d-81cb-3fdc58c0f300"
      }
    },
    {
      "cell_type": "markdown",
      "source": [
        "# Análise Inicial de nba_shots"
      ],
      "metadata": {}
    },
    {
      "cell_type": "code",
      "execution_count": null,
      "source": [
        "#Get nba_shots dataframe shape\r\n",
        "\r\n",
        "nba_shots.shape"
      ],
      "outputs": [],
      "metadata": {
        "colab": {
          "base_uri": "https://localhost:8080/"
        },
        "id": "LRuMpbdgaqRA",
        "outputId": "86d764d8-2047-471a-9a7a-6b82c17878fb"
      }
    },
    {
      "cell_type": "code",
      "execution_count": null,
      "source": [
        "#Get nba_shots dataframe columns\r\n",
        "\r\n",
        "nba_shots.columns"
      ],
      "outputs": [],
      "metadata": {
        "colab": {
          "base_uri": "https://localhost:8080/"
        },
        "id": "gCHDNp4waqRB",
        "outputId": "0f1fb9ce-86b5-487e-f63e-cfe4a32a1944"
      }
    },
    {
      "cell_type": "code",
      "execution_count": null,
      "source": [
        "#Get nba_shots dataframe describe\r\n",
        "\r\n",
        "nba_shots.describe()"
      ],
      "outputs": [],
      "metadata": {
        "colab": {
          "base_uri": "https://localhost:8080/",
          "height": 317
        },
        "id": "Pv0oBW9uaqRB",
        "outputId": "b84f048b-ce7d-4b35-8803-8da4fb177923"
      }
    },
    {
      "cell_type": "code",
      "execution_count": null,
      "source": [
        "#Get nba_shots dataframe info\r\n",
        "\r\n",
        "nba_shots.info()"
      ],
      "outputs": [],
      "metadata": {
        "colab": {
          "base_uri": "https://localhost:8080/"
        },
        "id": "Tng8tFdBaqRC",
        "outputId": "bffb4575-1e8d-4678-fddb-4faf490e0b4f"
      }
    },
    {
      "cell_type": "markdown",
      "source": [
        "# Checagem de valores nulos\r\n",
        "    nba_shots não possui nenhum valor faltante.\r\n",
        "\r\n",
        "    Foi utulizado a biblioteca missingno para realizar a checagem."
      ],
      "metadata": {}
    },
    {
      "cell_type": "code",
      "execution_count": null,
      "source": [
        "#Check for messing values in the nba_shots dataframe\r\n",
        "\r\n",
        "msno.matrix(nba_shots)"
      ],
      "outputs": [],
      "metadata": {
        "colab": {
          "base_uri": "https://localhost:8080/"
        },
        "id": "3UMQQyXHaqRC",
        "outputId": "4cd05c17-2857-413d-da53-9401b8e41e26"
      }
    },
    {
      "cell_type": "markdown",
      "source": [
        "# Relatório Pandas Profile\r\n",
        "\r\n",
        "    Foi gerado o 'Pandas Profile Report' que oferece uma análise extensa do conjunto de dados que está sendo abordado."
      ],
      "metadata": {}
    },
    {
      "cell_type": "code",
      "execution_count": null,
      "source": [
        "#Generate and export as a .html file the Pandas Profile Report of the nba_shots dataframe\r\n",
        "\r\n",
        "profile_shots = ProfileReport(nba_shots, title ='nba_shots')\r\n",
        "profile_shots.to_file(\"nba_shots.html\")"
      ],
      "outputs": [],
      "metadata": {
        "id": "DeyWFj18aqRD",
        "outputId": "57b30765-0186-4d4e-ce88-111332cc455c"
      }
    },
    {
      "cell_type": "code",
      "execution_count": null,
      "source": [
        "#Show Profile Report in this notebook\r\n",
        "\r\n",
        "profile_shots.to_notebook_iframe()"
      ],
      "outputs": [],
      "metadata": {
        "id": "pp-AtvjNaqRD"
      }
    },
    {
      "cell_type": "markdown",
      "source": [
        "#Função para desenhar a quadra\r\n",
        "    A função 'create_court' abaixo foi obtida do seguinte artigo: \r\n",
        "    \r\n",
        "    - (https://towardsdatascience.com/make-a-simple-nba-shot-chart-with-python-e5d70db45d0d)\r\n",
        "\r\n",
        "    Esta função cria desenha uma quadra de basquete nas proporções da NBA utilizando matplotlib."
      ],
      "metadata": {}
    },
    {
      "cell_type": "code",
      "execution_count": null,
      "source": [
        "# Function to draw basketball court\r\n",
        "\r\n",
        "def create_court(ax, color):\r\n",
        "    \r\n",
        "    # Short corner 3PT lines\r\n",
        "    ax.plot([-220, -220], [0, 140], linewidth=2, color=color)\r\n",
        "    ax.plot([220, 220], [0, 140], linewidth=2, color=color)\r\n",
        "    \r\n",
        "    # 3PT Arc\r\n",
        "    ax.add_artist(mpl.patches.Arc((0, 140), 440, 315, theta1=0, theta2=180, facecolor='none', edgecolor=color, lw=2))\r\n",
        "    \r\n",
        "    # Lane and Key\r\n",
        "    ax.plot([-80, -80], [0, 190], linewidth=2, color=color)\r\n",
        "    ax.plot([80, 80], [0, 190], linewidth=2, color=color)\r\n",
        "    ax.plot([-60, -60], [0, 190], linewidth=2, color=color)\r\n",
        "    ax.plot([60, 60], [0, 190], linewidth=2, color=color)\r\n",
        "    ax.plot([-80, 80], [190, 190], linewidth=2, color=color)\r\n",
        "    ax.add_artist(mpl.patches.Circle((0, 190), 60, facecolor='none', edgecolor=color, lw=2))\r\n",
        "    \r\n",
        "    # Rim\r\n",
        "    ax.add_artist(mpl.patches.Circle((0, 60), 15, facecolor='none', edgecolor=color, lw=2))\r\n",
        "    \r\n",
        "    # Backboard\r\n",
        "    ax.plot([-30, 30], [40, 40], linewidth=2, color=color)\r\n",
        "    \r\n",
        "    # Remove ticks\r\n",
        "    ax.set_xticks([])\r\n",
        "    ax.set_yticks([])\r\n",
        "    \r\n",
        "    # Set axis limits\r\n",
        "    ax.set_xlim(-250, 250)\r\n",
        "    ax.set_ylim(0, 470)\r\n",
        "\r\n",
        "    # General plot parameters\r\n",
        "    #mpl.rcParams['font.family'] = 'Avenir'\r\n",
        "    mpl.rcParams['font.size'] = 18\r\n",
        "    mpl.rcParams['axes.linewidth'] = 2\r\n",
        "    \r\n",
        "    return ax\r\n"
      ],
      "outputs": [],
      "metadata": {
        "id": "VqgmErDUaqRD"
      }
    },
    {
      "cell_type": "markdown",
      "source": [
        "# Análise Exploratória\r\n"
      ],
      "metadata": {}
    },
    {
      "cell_type": "markdown",
      "source": [
        "# 1.Arremessos por Jogador\r\n",
        "    De ínicio foram plotados todos os arremessos tentados na temporada 20-21 de 3 atletas da liga (James Harden, Stephen Curry e Nikola Jokic). "
      ],
      "metadata": {}
    },
    {
      "cell_type": "code",
      "execution_count": null,
      "source": [
        "# JAMES HARDEN 2020-21 REGULAR SEASON SHOTS\r\n",
        "\r\n",
        "# Create figure and axes\r\n",
        "fig = plt.figure(figsize=(10, 9))\r\n",
        "ax = fig.add_axes([0, 0, 1, 1])\r\n",
        "\r\n",
        "# Draw court\r\n",
        "ax = create_court(ax, 'black')\r\n",
        "\r\n",
        "# Shots Scatter Plots\r\n",
        "ax.scatter(nba_shots[(nba_shots['SEASON_ID'] == '2020-21') & (nba_shots['SHOT_MADE_FLAG']==1) & (nba_shots['PLAYER_NAME'] == 'James Harden')]['LOC_X'],\r\n",
        "            nba_shots[(nba_shots['SEASON_ID'] == '2020-21') & (nba_shots['SHOT_MADE_FLAG']==1) & (nba_shots['PLAYER_NAME'] == 'James Harden')]['LOC_Y'] +60, marker = \"o\", color = \"Green\")\r\n",
        "\r\n",
        "ax.scatter(nba_shots[(nba_shots['SEASON_ID'] == '2020-21') & (nba_shots['SHOT_MADE_FLAG']==0) & (nba_shots['PLAYER_NAME'] == 'James Harden')]['LOC_X'],\r\n",
        "            nba_shots[(nba_shots['SEASON_ID'] == '2020-21') & (nba_shots['SHOT_MADE_FLAG']==0) & (nba_shots['PLAYER_NAME'] == 'James Harden')]['LOC_Y'] +60, marker = \"x\", color = \"Red\")\r\n",
        "\r\n",
        "plt.title('JAMES HARDEN 2020-21 REGULAR SEASON SHOTS', fontsize = 20)\r\n",
        "plt.show()"
      ],
      "outputs": [],
      "metadata": {
        "id": "Zx-EKedWaqRE"
      }
    },
    {
      "cell_type": "code",
      "execution_count": null,
      "source": [
        "# SEPHEN CURRY 2020-21 REGULAR SEASON SHOTS\r\n",
        "\r\n",
        "# Create figure and axes\r\n",
        "fig = plt.figure(figsize=(10, 9))\r\n",
        "ax = fig.add_axes([0, 0, 1, 1])\r\n",
        "\r\n",
        "# Draw court\r\n",
        "ax = create_court(ax, 'black')\r\n",
        "\r\n",
        "# Plot scatter of shots\r\n",
        "ax.scatter(nba_shots[(nba_shots['SEASON_ID'] == '2020-21') & (nba_shots['SHOT_MADE_FLAG']==1) & (nba_shots['PLAYER_NAME'] == 'Stephen Curry')]['LOC_X'],\r\n",
        "            nba_shots[(nba_shots['SEASON_ID'] == '2020-21') & (nba_shots['SHOT_MADE_FLAG']==1) & (nba_shots['PLAYER_NAME'] == 'Stephen Curry')]['LOC_Y'] +60, marker = \"o\", color = \"Green\")\r\n",
        "\r\n",
        "ax.scatter(nba_shots[(nba_shots['SEASON_ID'] == '2020-21') & (nba_shots['SHOT_MADE_FLAG']==0) & (nba_shots['PLAYER_NAME'] == 'Stephen Curry')]['LOC_X'],\r\n",
        "            nba_shots[(nba_shots['SEASON_ID'] == '2020-21') & (nba_shots['SHOT_MADE_FLAG']==0) & (nba_shots['PLAYER_NAME'] == 'Stephen Curry')]['LOC_Y'] +60, marker = \"x\", color = \"Red\")\r\n",
        "\r\n",
        "plt.title('STEPHEN CURRY 2020-21 REGULAR SEASON SHOTS', fontsize = 20)\r\n",
        "plt.show()"
      ],
      "outputs": [],
      "metadata": {
        "id": "Ya09Ht6daqRE"
      }
    },
    {
      "cell_type": "code",
      "execution_count": null,
      "source": [
        "# NIKOLA JOKIC 2020-21 REGULAR SEASON SHOTS\r\n",
        "\r\n",
        "# Create figure and axes\r\n",
        "fig = plt.figure(figsize=(10, 9))\r\n",
        "ax = fig.add_axes([0, 0, 1, 1])\r\n",
        "\r\n",
        "# Draw court\r\n",
        "ax = create_court(ax, 'black')\r\n",
        "\r\n",
        "# Plot scatter of shots\r\n",
        "ax.scatter(nba_shots[(nba_shots['SEASON_ID'] == '2020-21') & (nba_shots['SHOT_MADE_FLAG']==1) & (nba_shots['PLAYER_NAME'] == 'Nikola Jokic')]['LOC_X'],\r\n",
        "            nba_shots[(nba_shots['SEASON_ID'] == '2020-21') & (nba_shots['SHOT_MADE_FLAG']==1) & (nba_shots['PLAYER_NAME'] == 'Nikola Jokic')]['LOC_Y'] +60, marker = \"o\", color = \"Green\")\r\n",
        "\r\n",
        "ax.scatter(nba_shots[(nba_shots['SEASON_ID'] == '2020-21') & (nba_shots['SHOT_MADE_FLAG']==0) & (nba_shots['PLAYER_NAME'] == 'Nikola Jokic')]['LOC_X'],\r\n",
        "            nba_shots[(nba_shots['SEASON_ID'] == '2020-21') & (nba_shots['SHOT_MADE_FLAG']==0) & (nba_shots['PLAYER_NAME'] == 'Nikola Jokic')]['LOC_Y'] +60, marker = \"x\", color = \"Red\")\r\n",
        "\r\n",
        "plt.title('NIKOLA JOKIC 2020-21 REGULAR SEASON SHOTS', fontsize = 20)\r\n",
        "plt.show()"
      ],
      "outputs": [],
      "metadata": {
        "id": "54Go_BvuaqRE"
      }
    },
    {
      "cell_type": "markdown",
      "source": [
        "# 2.Arremessos Acertados por Temporada\r\n",
        "    Abaixo temos as plotagens utilizando a função .hexbin da biblioteca matplotlib.\r\n",
        "    \r\n",
        "    Nessa sequência de gráficos possível notar como o arremesso de 3 pontos se tornou cada vez mais o arremesso* mais popular na liga.\r\n",
        "\r\n",
        "    *Arremessos não incluem ações ofensivas como bandejas e enterradas, que são feitas próximas da cesta e que continuam proeminentes na liga como pode ser notado em todas as imagens."
      ],
      "metadata": {}
    },
    {
      "cell_type": "code",
      "execution_count": null,
      "source": [
        "# 2020-21 REGULAR SEASON MADE SHOTS\r\n",
        "\r\n",
        "# Create figure and axes\r\n",
        "fig = plt.figure(figsize=(10, 9))\r\n",
        "ax = fig.add_axes([0, 0, 1, 1])\r\n",
        "\r\n",
        "# Draw court\r\n",
        "ax = create_court(ax, 'black')\r\n",
        "\r\n",
        "# Plot scatter of shots\r\n",
        "ax.hexbin(nba_shots[(nba_shots['SEASON_ID'] == '2020-21') & (nba_shots['SHOT_MADE_FLAG']==1)]['LOC_X'],\r\n",
        "            nba_shots[(nba_shots['SEASON_ID'] == '2020-21') & (nba_shots['SHOT_MADE_FLAG']==1)]['LOC_Y'] +60, gridsize=(30, 30), extent=(-300, 300, 0, 940), bins='log', cmap='Greens')\r\n",
        "\r\n",
        "plt.title('2020-21 REGULAR SEASON MADE SHOTS', fontsize = 20)\r\n",
        "plt.show()"
      ],
      "outputs": [],
      "metadata": {
        "id": "NhIDe7dDaqRF"
      }
    },
    {
      "cell_type": "code",
      "execution_count": null,
      "source": [
        "# 2019-20 REGULAR SEASON MADE SHOTS\r\n",
        "\r\n",
        "# Create figure and axes\r\n",
        "fig = plt.figure(figsize=(10, 9))\r\n",
        "ax = fig.add_axes([0, 0, 1, 1])\r\n",
        "\r\n",
        "# Draw court\r\n",
        "ax = create_court(ax, 'black')\r\n",
        "\r\n",
        "# Plot scatter of shots\r\n",
        "ax.hexbin(nba_shots[(nba_shots['SEASON_ID'] == '2019-20') & (nba_shots['SHOT_MADE_FLAG']==1)]['LOC_X'],\r\n",
        "            nba_shots[(nba_shots['SEASON_ID'] == '2019-20') & (nba_shots['SHOT_MADE_FLAG']==1)]['LOC_Y'] +60, gridsize=(30, 30), extent=(-300, 300, 0, 940), bins='log', cmap='Greens')\r\n",
        "\r\n",
        "plt.title('2019-20 REGULAR SEASON MADE SHOTS', fontsize = 20)\r\n",
        "plt.show()"
      ],
      "outputs": [],
      "metadata": {
        "id": "Nw2aPgbMaqRF"
      }
    },
    {
      "cell_type": "code",
      "execution_count": null,
      "source": [
        "# 2018-19 REGULAR SEASON MADE SHOTS\r\n",
        "\r\n",
        "# Create figure and axes\r\n",
        "fig = plt.figure(figsize=(10, 9))\r\n",
        "ax = fig.add_axes([0, 0, 1, 1])\r\n",
        "\r\n",
        "# Draw court\r\n",
        "ax = create_court(ax, 'black')\r\n",
        "\r\n",
        "# Plot scatter of shots\r\n",
        "ax.hexbin(nba_shots[(nba_shots['SEASON_ID'] == '2018-19') & (nba_shots['SHOT_MADE_FLAG']==1)]['LOC_X'],\r\n",
        "            nba_shots[(nba_shots['SEASON_ID'] == '2018-19') & (nba_shots['SHOT_MADE_FLAG']==1)]['LOC_Y'] +60, gridsize=(30, 30), extent=(-300, 300, 0, 940), bins='log', cmap='Greens')\r\n",
        "\r\n",
        "plt.title('2018-19 REGULAR SEASON MADE SHOTS', fontsize = 20)\r\n",
        "plt.show()"
      ],
      "outputs": [],
      "metadata": {
        "id": "LyHnvvFDaqRG"
      }
    },
    {
      "cell_type": "code",
      "execution_count": null,
      "source": [
        "# 2017-18 REGULAR SEASON MADE SHOTS\r\n",
        "\r\n",
        "# Create figure and axes\r\n",
        "fig = plt.figure(figsize=(10, 9))\r\n",
        "ax = fig.add_axes([0, 0, 1, 1])\r\n",
        "\r\n",
        "# Draw court\r\n",
        "ax = create_court(ax, 'black')\r\n",
        "\r\n",
        "# Plot scatter of shots\r\n",
        "ax.hexbin(nba_shots[(nba_shots['SEASON_ID'] == '2017-18') & (nba_shots['SHOT_MADE_FLAG']==1)]['LOC_X'],\r\n",
        "            nba_shots[(nba_shots['SEASON_ID'] == '2017-18') & (nba_shots['SHOT_MADE_FLAG']==1)]['LOC_Y'] +60, gridsize=(30, 30), extent=(-300, 300, 0, 940), bins='log', cmap='Greens')\r\n",
        "\r\n",
        "plt.title('2017-18 REGULAR SEASON MADE SHOTS', fontsize = 20)\r\n",
        "plt.show()"
      ],
      "outputs": [],
      "metadata": {}
    },
    {
      "cell_type": "code",
      "execution_count": null,
      "source": [
        "# 2016-17 REGULAR SEASON MADE SHOTS\r\n",
        "\r\n",
        "# Create figure and axes\r\n",
        "fig = plt.figure(figsize=(10, 9))\r\n",
        "ax = fig.add_axes([0, 0, 1, 1])\r\n",
        "\r\n",
        "# Draw court\r\n",
        "ax = create_court(ax, 'black')\r\n",
        "\r\n",
        "# Plot scatter of shots\r\n",
        "ax.hexbin(nba_shots[(nba_shots['SEASON_ID'] == '2016-17') & (nba_shots['SHOT_MADE_FLAG']==1)]['LOC_X'],\r\n",
        "            nba_shots[(nba_shots['SEASON_ID'] == '2016-17') & (nba_shots['SHOT_MADE_FLAG']==1)]['LOC_Y'] +60, gridsize=(30, 30), extent=(-300, 300, 0, 940), bins='log', cmap='Greens')\r\n",
        "\r\n",
        "plt.title('2016-17 REGULAR SEASON MADE SHOTS', fontsize = 20)\r\n",
        "plt.show()"
      ],
      "outputs": [],
      "metadata": {}
    },
    {
      "cell_type": "code",
      "execution_count": null,
      "source": [
        "# 2015-16 REGULAR SEASON MADE SHOTS\r\n",
        "\r\n",
        "# Create figure and axes\r\n",
        "fig = plt.figure(figsize=(10, 9))\r\n",
        "ax = fig.add_axes([0, 0, 1, 1])\r\n",
        "\r\n",
        "# Draw court\r\n",
        "ax = create_court(ax, 'black')\r\n",
        "\r\n",
        "# Plot scatter of shots\r\n",
        "ax.hexbin(nba_shots[(nba_shots['SEASON_ID'] == '2015-16') & (nba_shots['SHOT_MADE_FLAG']==1)]['LOC_X'],\r\n",
        "            nba_shots[(nba_shots['SEASON_ID'] == '2015-16') & (nba_shots['SHOT_MADE_FLAG']==1)]['LOC_Y'] +60, gridsize=(30, 30), extent=(-300, 300, 0, 940), bins='log', cmap='Greens')\r\n",
        "\r\n",
        "plt.title('2015-16 REGULAR SEASON MADE SHOTS', fontsize = 20)\r\n",
        "plt.show()"
      ],
      "outputs": [],
      "metadata": {}
    },
    {
      "cell_type": "markdown",
      "source": [
        "# 3.Outras Visualizações de Arremessos\r\n",
        "    Os dados obtidos permitem ainda outras plotagens dos arremessos a seguir são mostradas 3 diferentes formas de enxergar os arremessos de acordo com sua posição em quadra."
      ],
      "metadata": {}
    },
    {
      "cell_type": "markdown",
      "source": [
        "Arremessos acertados por região da quadra\r\n",
        "\r\n",
        "    O atributo 'SHOT_ZONE_AREA' oferece as regiões da quadra utilizadas nessa plotagem.\r\n"
      ],
      "metadata": {}
    },
    {
      "cell_type": "code",
      "execution_count": null,
      "source": [
        "# 2020-21 REGULAR SEASON SHOTS MADE PER ZONE AREA\r\n",
        "\r\n",
        "# Create figure and axes\r\n",
        "fig = plt.figure(figsize=(20, 9))\r\n",
        "ax = fig.add_axes([0, 0, 1, 1])\r\n",
        "\r\n",
        "# Draw court\r\n",
        "ax = create_court(ax, 'black')\r\n",
        "\r\n",
        "# Plot scatter of shots\r\n",
        "sns.scatterplot(nba_shots[(nba_shots['SEASON_ID'] == '2020-21') & (nba_shots['SHOT_MADE_FLAG']==1)]['LOC_X'],\r\n",
        "            nba_shots[(nba_shots['SEASON_ID'] == '2020-21') & (nba_shots['SHOT_MADE_FLAG']==1)]['LOC_Y'] + 60, hue = nba_shots[(nba_shots['SEASON_ID'] == '2020-21') & (nba_shots['SHOT_MADE_FLAG']==1)]['SHOT_ZONE_AREA'])\r\n",
        "\r\n",
        "plt.title('2020-21 REGULAR SEASON SHOTS MADE PER ZONE AREA', fontsize = 20)\r\n",
        "plt.show()"
      ],
      "outputs": [],
      "metadata": {
        "id": "Qk45C-R4aqRF"
      }
    },
    {
      "cell_type": "markdown",
      "source": [
        "Arremessos acertados por zonas de distância.\r\n",
        "\r\n",
        "    O atributo 'SHOT_ZONE_RANGE' oferece as zonas por diferentes distâncias utilizadas nessa pltagem."
      ],
      "metadata": {}
    },
    {
      "cell_type": "code",
      "execution_count": null,
      "source": [
        "# 2020-21 REGULAR SEASON SHOTS MADE PER ZONE RANGE\r\n",
        "\r\n",
        "# Create figure and axes\r\n",
        "fig = plt.figure(figsize=(20, 9))\r\n",
        "ax = fig.add_axes([0, 0, 1, 1])\r\n",
        "\r\n",
        "# Draw court\r\n",
        "ax = create_court(ax, 'black')\r\n",
        "\r\n",
        "# Plot scatter of shots\r\n",
        "sns.scatterplot(nba_shots[(nba_shots['SEASON_ID'] == '2020-21') & (nba_shots['SHOT_MADE_FLAG']==1)]['LOC_X'],\r\n",
        "            nba_shots[(nba_shots['SEASON_ID'] == '2020-21') & (nba_shots['SHOT_MADE_FLAG']==1)]['LOC_Y'] + 60, hue = nba_shots[(nba_shots['SEASON_ID'] == '2020-21') & (nba_shots['SHOT_MADE_FLAG']==1)]['SHOT_ZONE_RANGE'])\r\n",
        "\r\n",
        "plt.title('2020-21 REGULAR SEASON SHOTS MADE PER ZONE RANGE', fontsize = 20)\r\n",
        "plt.show()"
      ],
      "outputs": [],
      "metadata": {}
    },
    {
      "cell_type": "markdown",
      "source": [
        "Arremessos acertados por regiões da quadra (simplificado).\r\n",
        "\r\n",
        "    O atributo 'SHOT_ZONE_BASIC' oferece regiões da quadra, diferentes das presentes em 'SHOT_ZONE_AREA', utilizadas nessa plotagem.\r\n",
        "\r\n"
      ],
      "metadata": {}
    },
    {
      "cell_type": "code",
      "execution_count": null,
      "source": [
        "# 2020-21 REGULAR SEASON SHOTS MADE PER ZONE AREA (BASIC)\r\n",
        "\r\n",
        "# Create figure and axes\r\n",
        "fig = plt.figure(figsize=(20, 9))\r\n",
        "ax = fig.add_axes([0, 0, 1, 1])\r\n",
        "\r\n",
        "# Draw court\r\n",
        "ax = create_court(ax, 'black')\r\n",
        "\r\n",
        "# Plot scatter of shots\r\n",
        "sns.scatterplot(nba_shots[(nba_shots['SEASON_ID'] == '2020-21') & (nba_shots['SHOT_MADE_FLAG']==1)]['LOC_X'],\r\n",
        "            nba_shots[(nba_shots['SEASON_ID'] == '2020-21') & (nba_shots['SHOT_MADE_FLAG']==1)]['LOC_Y'] + 60, hue = nba_shots[(nba_shots['SEASON_ID'] == '2020-21') & (nba_shots['SHOT_MADE_FLAG']==1)]['SHOT_ZONE_BASIC'])\r\n",
        "\r\n",
        "plt.title('2020-21 REGULAR SEASON SHOTS MADE PER ZONE AREA (BASIC)', fontsize = 20)\r\n",
        "plt.show()"
      ],
      "outputs": [],
      "metadata": {}
    },
    {
      "cell_type": "markdown",
      "source": [
        "# 4.Distribuição de arrmessos por distância e tipo de Arremesso ( 2 ou 3 pontos)\r\n",
        "\r\n",
        "    O gráfico abaixo apresenta a distribuição dos arremessos das 6 temporadas em análise pela distância em que os arremessos foram feitos.\r\n",
        "\r\n",
        "    Nele é fácil de se notar que a maioria das tentatidas de pontuação ocorre por arremessos de longa distância (atrás da linha de 3 pontos) ou por arremessos, bandejas ou enterradas feitos bem próximos da cesta. Os arremessos de média distância se tornaram algo do passado. "
      ],
      "metadata": {}
    },
    {
      "cell_type": "code",
      "execution_count": 35,
      "source": [
        "# SHOT DISTANCE DISTRIBUTION PLOT\r\n",
        "\r\n",
        "plt.figure(figsize=(20,12))\r\n",
        "fig1 = sns.histplot(data=nba_shots, x='SHOT_DISTANCE', hue = 'SHOT_TYPE')\r\n",
        "fig1.set_xlabel('SHOT_DISTANCE', fontsize=20)\r\n",
        "fig1.set_ylabel('COUNT', fontsize=20)\r\n",
        "fig1.tick_params(labelsize=15)\r\n",
        "plt.title('SHOT DISTANCE DISTRIBUTION', fontsize = 20)\r\n",
        "plt.xlim(0,40)\r\n",
        "plt.show()"
      ],
      "outputs": [
        {
          "output_type": "stream",
          "name": "stderr",
          "text": [
            "findfont: Font family ['Avenir'] not found. Falling back to DejaVu Sans.\n"
          ]
        },
        {
          "output_type": "display_data",
          "data": {
            "text/plain": [
              "<Figure size 1440x864 with 1 Axes>"
            ],
            "image/svg+xml": "<?xml version=\"1.0\" encoding=\"utf-8\" standalone=\"no\"?>\r\n<!DOCTYPE svg PUBLIC \"-//W3C//DTD SVG 1.1//EN\"\r\n  \"http://www.w3.org/Graphics/SVG/1.1/DTD/svg11.dtd\">\r\n<!-- Created with matplotlib (https://matplotlib.org/) -->\r\n<svg height=\"736.493437pt\" version=\"1.1\" viewBox=\"0 0 1231.0625 736.493437\" width=\"1231.0625pt\" xmlns=\"http://www.w3.org/2000/svg\" xmlns:xlink=\"http://www.w3.org/1999/xlink\">\r\n <metadata>\r\n  <rdf:RDF xmlns:cc=\"http://creativecommons.org/ns#\" xmlns:dc=\"http://purl.org/dc/elements/1.1/\" xmlns:rdf=\"http://www.w3.org/1999/02/22-rdf-syntax-ns#\">\r\n   <cc:Work>\r\n    <dc:type rdf:resource=\"http://purl.org/dc/dcmitype/StillImage\"/>\r\n    <dc:date>2021-09-05T21:53:17.152998</dc:date>\r\n    <dc:format>image/svg+xml</dc:format>\r\n    <dc:creator>\r\n     <cc:Agent>\r\n      <dc:title>Matplotlib v3.3.2, https://matplotlib.org/</dc:title>\r\n     </cc:Agent>\r\n    </dc:creator>\r\n   </cc:Work>\r\n  </rdf:RDF>\r\n </metadata>\r\n <defs>\r\n  <style type=\"text/css\">*{stroke-linecap:butt;stroke-linejoin:round;}</style>\r\n </defs>\r\n <g id=\"figure_1\">\r\n  <g id=\"patch_1\">\r\n   <path d=\"M 0 736.493437 \r\nL 1231.0625 736.493437 \r\nL 1231.0625 0 \r\nL 0 0 \r\nz\r\n\" style=\"fill:#ffffff;\"/>\r\n  </g>\r\n  <g id=\"axes_1\">\r\n   <g id=\"patch_2\">\r\n    <path d=\"M 98.31875 680.716875 \r\nL 1214.31875 680.716875 \r\nL 1214.31875 28.396875 \r\nL 98.31875 28.396875 \r\nz\r\n\" style=\"fill:#ffffff;\"/>\r\n   </g>\r\n   <g id=\"matplotlib.axis_1\">\r\n    <g id=\"xtick_1\">\r\n     <g id=\"text_1\">\r\n      <!-- 0 -->\r\n      <g style=\"fill:#262626;\" transform=\"translate(93.546875 702.614531)scale(0.15 -0.15)\">\r\n       <defs>\r\n        <path d=\"M 31.78125 66.40625 \r\nQ 24.171875 66.40625 20.328125 58.90625 \r\nQ 16.5 51.421875 16.5 36.375 \r\nQ 16.5 21.390625 20.328125 13.890625 \r\nQ 24.171875 6.390625 31.78125 6.390625 \r\nQ 39.453125 6.390625 43.28125 13.890625 \r\nQ 47.125 21.390625 47.125 36.375 \r\nQ 47.125 51.421875 43.28125 58.90625 \r\nQ 39.453125 66.40625 31.78125 66.40625 \r\nz\r\nM 31.78125 74.21875 \r\nQ 44.046875 74.21875 50.515625 64.515625 \r\nQ 56.984375 54.828125 56.984375 36.375 \r\nQ 56.984375 17.96875 50.515625 8.265625 \r\nQ 44.046875 -1.421875 31.78125 -1.421875 \r\nQ 19.53125 -1.421875 13.0625 8.265625 \r\nQ 6.59375 17.96875 6.59375 36.375 \r\nQ 6.59375 54.828125 13.0625 64.515625 \r\nQ 19.53125 74.21875 31.78125 74.21875 \r\nz\r\n\" id=\"DejaVuSans-48\"/>\r\n       </defs>\r\n       <use xlink:href=\"#DejaVuSans-48\"/>\r\n      </g>\r\n     </g>\r\n    </g>\r\n    <g id=\"xtick_2\">\r\n     <g id=\"text_2\">\r\n      <!-- 5 -->\r\n      <g style=\"fill:#262626;\" transform=\"translate(233.046875 702.614531)scale(0.15 -0.15)\">\r\n       <defs>\r\n        <path d=\"M 10.796875 72.90625 \r\nL 49.515625 72.90625 \r\nL 49.515625 64.59375 \r\nL 19.828125 64.59375 \r\nL 19.828125 46.734375 \r\nQ 21.96875 47.46875 24.109375 47.828125 \r\nQ 26.265625 48.1875 28.421875 48.1875 \r\nQ 40.625 48.1875 47.75 41.5 \r\nQ 54.890625 34.8125 54.890625 23.390625 \r\nQ 54.890625 11.625 47.5625 5.09375 \r\nQ 40.234375 -1.421875 26.90625 -1.421875 \r\nQ 22.3125 -1.421875 17.546875 -0.640625 \r\nQ 12.796875 0.140625 7.71875 1.703125 \r\nL 7.71875 11.625 \r\nQ 12.109375 9.234375 16.796875 8.0625 \r\nQ 21.484375 6.890625 26.703125 6.890625 \r\nQ 35.15625 6.890625 40.078125 11.328125 \r\nQ 45.015625 15.765625 45.015625 23.390625 \r\nQ 45.015625 31 40.078125 35.4375 \r\nQ 35.15625 39.890625 26.703125 39.890625 \r\nQ 22.75 39.890625 18.8125 39.015625 \r\nQ 14.890625 38.140625 10.796875 36.28125 \r\nz\r\n\" id=\"DejaVuSans-53\"/>\r\n       </defs>\r\n       <use xlink:href=\"#DejaVuSans-53\"/>\r\n      </g>\r\n     </g>\r\n    </g>\r\n    <g id=\"xtick_3\">\r\n     <g id=\"text_3\">\r\n      <!-- 10 -->\r\n      <g style=\"fill:#262626;\" transform=\"translate(367.775 702.614531)scale(0.15 -0.15)\">\r\n       <defs>\r\n        <path d=\"M 12.40625 8.296875 \r\nL 28.515625 8.296875 \r\nL 28.515625 63.921875 \r\nL 10.984375 60.40625 \r\nL 10.984375 69.390625 \r\nL 28.421875 72.90625 \r\nL 38.28125 72.90625 \r\nL 38.28125 8.296875 \r\nL 54.390625 8.296875 \r\nL 54.390625 0 \r\nL 12.40625 0 \r\nz\r\n\" id=\"DejaVuSans-49\"/>\r\n       </defs>\r\n       <use xlink:href=\"#DejaVuSans-49\"/>\r\n       <use x=\"63.623047\" xlink:href=\"#DejaVuSans-48\"/>\r\n      </g>\r\n     </g>\r\n    </g>\r\n    <g id=\"xtick_4\">\r\n     <g id=\"text_4\">\r\n      <!-- 15 -->\r\n      <g style=\"fill:#262626;\" transform=\"translate(507.275 702.614531)scale(0.15 -0.15)\">\r\n       <use xlink:href=\"#DejaVuSans-49\"/>\r\n       <use x=\"63.623047\" xlink:href=\"#DejaVuSans-53\"/>\r\n      </g>\r\n     </g>\r\n    </g>\r\n    <g id=\"xtick_5\">\r\n     <g id=\"text_5\">\r\n      <!-- 20 -->\r\n      <g style=\"fill:#262626;\" transform=\"translate(646.775 702.614531)scale(0.15 -0.15)\">\r\n       <defs>\r\n        <path d=\"M 19.1875 8.296875 \r\nL 53.609375 8.296875 \r\nL 53.609375 0 \r\nL 7.328125 0 \r\nL 7.328125 8.296875 \r\nQ 12.9375 14.109375 22.625 23.890625 \r\nQ 32.328125 33.6875 34.8125 36.53125 \r\nQ 39.546875 41.84375 41.421875 45.53125 \r\nQ 43.3125 49.21875 43.3125 52.78125 \r\nQ 43.3125 58.59375 39.234375 62.25 \r\nQ 35.15625 65.921875 28.609375 65.921875 \r\nQ 23.96875 65.921875 18.8125 64.3125 \r\nQ 13.671875 62.703125 7.8125 59.421875 \r\nL 7.8125 69.390625 \r\nQ 13.765625 71.78125 18.9375 73 \r\nQ 24.125 74.21875 28.421875 74.21875 \r\nQ 39.75 74.21875 46.484375 68.546875 \r\nQ 53.21875 62.890625 53.21875 53.421875 \r\nQ 53.21875 48.921875 51.53125 44.890625 \r\nQ 49.859375 40.875 45.40625 35.40625 \r\nQ 44.1875 33.984375 37.640625 27.21875 \r\nQ 31.109375 20.453125 19.1875 8.296875 \r\nz\r\n\" id=\"DejaVuSans-50\"/>\r\n       </defs>\r\n       <use xlink:href=\"#DejaVuSans-50\"/>\r\n       <use x=\"63.623047\" xlink:href=\"#DejaVuSans-48\"/>\r\n      </g>\r\n     </g>\r\n    </g>\r\n    <g id=\"xtick_6\">\r\n     <g id=\"text_6\">\r\n      <!-- 25 -->\r\n      <g style=\"fill:#262626;\" transform=\"translate(786.275 702.614531)scale(0.15 -0.15)\">\r\n       <use xlink:href=\"#DejaVuSans-50\"/>\r\n       <use x=\"63.623047\" xlink:href=\"#DejaVuSans-53\"/>\r\n      </g>\r\n     </g>\r\n    </g>\r\n    <g id=\"xtick_7\">\r\n     <g id=\"text_7\">\r\n      <!-- 30 -->\r\n      <g style=\"fill:#262626;\" transform=\"translate(925.775 702.614531)scale(0.15 -0.15)\">\r\n       <defs>\r\n        <path d=\"M 40.578125 39.3125 \r\nQ 47.65625 37.796875 51.625 33 \r\nQ 55.609375 28.21875 55.609375 21.1875 \r\nQ 55.609375 10.40625 48.1875 4.484375 \r\nQ 40.765625 -1.421875 27.09375 -1.421875 \r\nQ 22.515625 -1.421875 17.65625 -0.515625 \r\nQ 12.796875 0.390625 7.625 2.203125 \r\nL 7.625 11.71875 \r\nQ 11.71875 9.328125 16.59375 8.109375 \r\nQ 21.484375 6.890625 26.8125 6.890625 \r\nQ 36.078125 6.890625 40.9375 10.546875 \r\nQ 45.796875 14.203125 45.796875 21.1875 \r\nQ 45.796875 27.640625 41.28125 31.265625 \r\nQ 36.765625 34.90625 28.71875 34.90625 \r\nL 20.21875 34.90625 \r\nL 20.21875 43.015625 \r\nL 29.109375 43.015625 \r\nQ 36.375 43.015625 40.234375 45.921875 \r\nQ 44.09375 48.828125 44.09375 54.296875 \r\nQ 44.09375 59.90625 40.109375 62.90625 \r\nQ 36.140625 65.921875 28.71875 65.921875 \r\nQ 24.65625 65.921875 20.015625 65.03125 \r\nQ 15.375 64.15625 9.8125 62.3125 \r\nL 9.8125 71.09375 \r\nQ 15.4375 72.65625 20.34375 73.4375 \r\nQ 25.25 74.21875 29.59375 74.21875 \r\nQ 40.828125 74.21875 47.359375 69.109375 \r\nQ 53.90625 64.015625 53.90625 55.328125 \r\nQ 53.90625 49.265625 50.4375 45.09375 \r\nQ 46.96875 40.921875 40.578125 39.3125 \r\nz\r\n\" id=\"DejaVuSans-51\"/>\r\n       </defs>\r\n       <use xlink:href=\"#DejaVuSans-51\"/>\r\n       <use x=\"63.623047\" xlink:href=\"#DejaVuSans-48\"/>\r\n      </g>\r\n     </g>\r\n    </g>\r\n    <g id=\"xtick_8\">\r\n     <g id=\"text_8\">\r\n      <!-- 35 -->\r\n      <g style=\"fill:#262626;\" transform=\"translate(1065.275 702.614531)scale(0.15 -0.15)\">\r\n       <use xlink:href=\"#DejaVuSans-51\"/>\r\n       <use x=\"63.623047\" xlink:href=\"#DejaVuSans-53\"/>\r\n      </g>\r\n     </g>\r\n    </g>\r\n    <g id=\"xtick_9\">\r\n     <g id=\"text_9\">\r\n      <!-- 40 -->\r\n      <g style=\"fill:#262626;\" transform=\"translate(1204.775 702.614531)scale(0.15 -0.15)\">\r\n       <defs>\r\n        <path d=\"M 37.796875 64.3125 \r\nL 12.890625 25.390625 \r\nL 37.796875 25.390625 \r\nz\r\nM 35.203125 72.90625 \r\nL 47.609375 72.90625 \r\nL 47.609375 25.390625 \r\nL 58.015625 25.390625 \r\nL 58.015625 17.1875 \r\nL 47.609375 17.1875 \r\nL 47.609375 0 \r\nL 37.796875 0 \r\nL 37.796875 17.1875 \r\nL 4.890625 17.1875 \r\nL 4.890625 26.703125 \r\nz\r\n\" id=\"DejaVuSans-52\"/>\r\n       </defs>\r\n       <use xlink:href=\"#DejaVuSans-52\"/>\r\n       <use x=\"63.623047\" xlink:href=\"#DejaVuSans-48\"/>\r\n      </g>\r\n     </g>\r\n    </g>\r\n    <g id=\"text_10\">\r\n     <!-- SHOT_DISTANCE -->\r\n     <g style=\"fill:#262626;\" transform=\"translate(573.515625 724.577812)scale(0.2 -0.2)\">\r\n      <defs>\r\n       <path d=\"M 53.515625 70.515625 \r\nL 53.515625 60.890625 \r\nQ 47.90625 63.578125 42.921875 64.890625 \r\nQ 37.9375 66.21875 33.296875 66.21875 \r\nQ 25.25 66.21875 20.875 63.09375 \r\nQ 16.5 59.96875 16.5 54.203125 \r\nQ 16.5 49.359375 19.40625 46.890625 \r\nQ 22.3125 44.4375 30.421875 42.921875 \r\nL 36.375 41.703125 \r\nQ 47.40625 39.59375 52.65625 34.296875 \r\nQ 57.90625 29 57.90625 20.125 \r\nQ 57.90625 9.515625 50.796875 4.046875 \r\nQ 43.703125 -1.421875 29.984375 -1.421875 \r\nQ 24.8125 -1.421875 18.96875 -0.25 \r\nQ 13.140625 0.921875 6.890625 3.21875 \r\nL 6.890625 13.375 \r\nQ 12.890625 10.015625 18.65625 8.296875 \r\nQ 24.421875 6.59375 29.984375 6.59375 \r\nQ 38.421875 6.59375 43.015625 9.90625 \r\nQ 47.609375 13.234375 47.609375 19.390625 \r\nQ 47.609375 24.75 44.3125 27.78125 \r\nQ 41.015625 30.8125 33.5 32.328125 \r\nL 27.484375 33.5 \r\nQ 16.453125 35.6875 11.515625 40.375 \r\nQ 6.59375 45.0625 6.59375 53.421875 \r\nQ 6.59375 63.09375 13.40625 68.65625 \r\nQ 20.21875 74.21875 32.171875 74.21875 \r\nQ 37.3125 74.21875 42.625 73.28125 \r\nQ 47.953125 72.359375 53.515625 70.515625 \r\nz\r\n\" id=\"DejaVuSans-83\"/>\r\n       <path d=\"M 9.8125 72.90625 \r\nL 19.671875 72.90625 \r\nL 19.671875 43.015625 \r\nL 55.515625 43.015625 \r\nL 55.515625 72.90625 \r\nL 65.375 72.90625 \r\nL 65.375 0 \r\nL 55.515625 0 \r\nL 55.515625 34.71875 \r\nL 19.671875 34.71875 \r\nL 19.671875 0 \r\nL 9.8125 0 \r\nz\r\n\" id=\"DejaVuSans-72\"/>\r\n       <path d=\"M 39.40625 66.21875 \r\nQ 28.65625 66.21875 22.328125 58.203125 \r\nQ 16.015625 50.203125 16.015625 36.375 \r\nQ 16.015625 22.609375 22.328125 14.59375 \r\nQ 28.65625 6.59375 39.40625 6.59375 \r\nQ 50.140625 6.59375 56.421875 14.59375 \r\nQ 62.703125 22.609375 62.703125 36.375 \r\nQ 62.703125 50.203125 56.421875 58.203125 \r\nQ 50.140625 66.21875 39.40625 66.21875 \r\nz\r\nM 39.40625 74.21875 \r\nQ 54.734375 74.21875 63.90625 63.9375 \r\nQ 73.09375 53.65625 73.09375 36.375 \r\nQ 73.09375 19.140625 63.90625 8.859375 \r\nQ 54.734375 -1.421875 39.40625 -1.421875 \r\nQ 24.03125 -1.421875 14.8125 8.828125 \r\nQ 5.609375 19.09375 5.609375 36.375 \r\nQ 5.609375 53.65625 14.8125 63.9375 \r\nQ 24.03125 74.21875 39.40625 74.21875 \r\nz\r\n\" id=\"DejaVuSans-79\"/>\r\n       <path d=\"M -0.296875 72.90625 \r\nL 61.375 72.90625 \r\nL 61.375 64.59375 \r\nL 35.5 64.59375 \r\nL 35.5 0 \r\nL 25.59375 0 \r\nL 25.59375 64.59375 \r\nL -0.296875 64.59375 \r\nz\r\n\" id=\"DejaVuSans-84\"/>\r\n       <path d=\"M 50.984375 -16.609375 \r\nL 50.984375 -23.578125 \r\nL -0.984375 -23.578125 \r\nL -0.984375 -16.609375 \r\nz\r\n\" id=\"DejaVuSans-95\"/>\r\n       <path d=\"M 19.671875 64.796875 \r\nL 19.671875 8.109375 \r\nL 31.59375 8.109375 \r\nQ 46.6875 8.109375 53.6875 14.9375 \r\nQ 60.6875 21.78125 60.6875 36.53125 \r\nQ 60.6875 51.171875 53.6875 57.984375 \r\nQ 46.6875 64.796875 31.59375 64.796875 \r\nz\r\nM 9.8125 72.90625 \r\nL 30.078125 72.90625 \r\nQ 51.265625 72.90625 61.171875 64.09375 \r\nQ 71.09375 55.28125 71.09375 36.53125 \r\nQ 71.09375 17.671875 61.125 8.828125 \r\nQ 51.171875 0 30.078125 0 \r\nL 9.8125 0 \r\nz\r\n\" id=\"DejaVuSans-68\"/>\r\n       <path d=\"M 9.8125 72.90625 \r\nL 19.671875 72.90625 \r\nL 19.671875 0 \r\nL 9.8125 0 \r\nz\r\n\" id=\"DejaVuSans-73\"/>\r\n       <path d=\"M 34.1875 63.1875 \r\nL 20.796875 26.90625 \r\nL 47.609375 26.90625 \r\nz\r\nM 28.609375 72.90625 \r\nL 39.796875 72.90625 \r\nL 67.578125 0 \r\nL 57.328125 0 \r\nL 50.6875 18.703125 \r\nL 17.828125 18.703125 \r\nL 11.1875 0 \r\nL 0.78125 0 \r\nz\r\n\" id=\"DejaVuSans-65\"/>\r\n       <path d=\"M 9.8125 72.90625 \r\nL 23.09375 72.90625 \r\nL 55.421875 11.921875 \r\nL 55.421875 72.90625 \r\nL 64.984375 72.90625 \r\nL 64.984375 0 \r\nL 51.703125 0 \r\nL 19.390625 60.984375 \r\nL 19.390625 0 \r\nL 9.8125 0 \r\nz\r\n\" id=\"DejaVuSans-78\"/>\r\n       <path d=\"M 64.40625 67.28125 \r\nL 64.40625 56.890625 \r\nQ 59.421875 61.53125 53.78125 63.8125 \r\nQ 48.140625 66.109375 41.796875 66.109375 \r\nQ 29.296875 66.109375 22.65625 58.46875 \r\nQ 16.015625 50.828125 16.015625 36.375 \r\nQ 16.015625 21.96875 22.65625 14.328125 \r\nQ 29.296875 6.6875 41.796875 6.6875 \r\nQ 48.140625 6.6875 53.78125 8.984375 \r\nQ 59.421875 11.28125 64.40625 15.921875 \r\nL 64.40625 5.609375 \r\nQ 59.234375 2.09375 53.4375 0.328125 \r\nQ 47.65625 -1.421875 41.21875 -1.421875 \r\nQ 24.65625 -1.421875 15.125 8.703125 \r\nQ 5.609375 18.84375 5.609375 36.375 \r\nQ 5.609375 53.953125 15.125 64.078125 \r\nQ 24.65625 74.21875 41.21875 74.21875 \r\nQ 47.75 74.21875 53.53125 72.484375 \r\nQ 59.328125 70.75 64.40625 67.28125 \r\nz\r\n\" id=\"DejaVuSans-67\"/>\r\n       <path d=\"M 9.8125 72.90625 \r\nL 55.90625 72.90625 \r\nL 55.90625 64.59375 \r\nL 19.671875 64.59375 \r\nL 19.671875 43.015625 \r\nL 54.390625 43.015625 \r\nL 54.390625 34.71875 \r\nL 19.671875 34.71875 \r\nL 19.671875 8.296875 \r\nL 56.78125 8.296875 \r\nL 56.78125 0 \r\nL 9.8125 0 \r\nz\r\n\" id=\"DejaVuSans-69\"/>\r\n      </defs>\r\n      <use xlink:href=\"#DejaVuSans-83\"/>\r\n      <use x=\"63.476562\" xlink:href=\"#DejaVuSans-72\"/>\r\n      <use x=\"138.671875\" xlink:href=\"#DejaVuSans-79\"/>\r\n      <use x=\"217.382812\" xlink:href=\"#DejaVuSans-84\"/>\r\n      <use x=\"278.466797\" xlink:href=\"#DejaVuSans-95\"/>\r\n      <use x=\"328.466797\" xlink:href=\"#DejaVuSans-68\"/>\r\n      <use x=\"405.46875\" xlink:href=\"#DejaVuSans-73\"/>\r\n      <use x=\"434.960938\" xlink:href=\"#DejaVuSans-83\"/>\r\n      <use x=\"498.4375\" xlink:href=\"#DejaVuSans-84\"/>\r\n      <use x=\"551.771484\" xlink:href=\"#DejaVuSans-65\"/>\r\n      <use x=\"620.179688\" xlink:href=\"#DejaVuSans-78\"/>\r\n      <use x=\"694.984375\" xlink:href=\"#DejaVuSans-67\"/>\r\n      <use x=\"764.808594\" xlink:href=\"#DejaVuSans-69\"/>\r\n     </g>\r\n    </g>\r\n   </g>\r\n   <g id=\"matplotlib.axis_2\">\r\n    <g id=\"ytick_1\">\r\n     <g id=\"text_11\">\r\n      <!-- 0 -->\r\n      <g style=\"fill:#262626;\" transform=\"translate(78.275 686.415703)scale(0.15 -0.15)\">\r\n       <use xlink:href=\"#DejaVuSans-48\"/>\r\n      </g>\r\n     </g>\r\n    </g>\r\n    <g id=\"ytick_2\">\r\n     <g id=\"text_12\">\r\n      <!-- 20000 -->\r\n      <g style=\"fill:#262626;\" transform=\"translate(40.1 576.373964)scale(0.15 -0.15)\">\r\n       <use xlink:href=\"#DejaVuSans-50\"/>\r\n       <use x=\"63.623047\" xlink:href=\"#DejaVuSans-48\"/>\r\n       <use x=\"127.246094\" xlink:href=\"#DejaVuSans-48\"/>\r\n       <use x=\"190.869141\" xlink:href=\"#DejaVuSans-48\"/>\r\n       <use x=\"254.492188\" xlink:href=\"#DejaVuSans-48\"/>\r\n      </g>\r\n     </g>\r\n    </g>\r\n    <g id=\"ytick_3\">\r\n     <g id=\"text_13\">\r\n      <!-- 40000 -->\r\n      <g style=\"fill:#262626;\" transform=\"translate(40.1 466.332225)scale(0.15 -0.15)\">\r\n       <use xlink:href=\"#DejaVuSans-52\"/>\r\n       <use x=\"63.623047\" xlink:href=\"#DejaVuSans-48\"/>\r\n       <use x=\"127.246094\" xlink:href=\"#DejaVuSans-48\"/>\r\n       <use x=\"190.869141\" xlink:href=\"#DejaVuSans-48\"/>\r\n       <use x=\"254.492188\" xlink:href=\"#DejaVuSans-48\"/>\r\n      </g>\r\n     </g>\r\n    </g>\r\n    <g id=\"ytick_4\">\r\n     <g id=\"text_14\">\r\n      <!-- 60000 -->\r\n      <g style=\"fill:#262626;\" transform=\"translate(40.1 356.290487)scale(0.15 -0.15)\">\r\n       <defs>\r\n        <path d=\"M 33.015625 40.375 \r\nQ 26.375 40.375 22.484375 35.828125 \r\nQ 18.609375 31.296875 18.609375 23.390625 \r\nQ 18.609375 15.53125 22.484375 10.953125 \r\nQ 26.375 6.390625 33.015625 6.390625 \r\nQ 39.65625 6.390625 43.53125 10.953125 \r\nQ 47.40625 15.53125 47.40625 23.390625 \r\nQ 47.40625 31.296875 43.53125 35.828125 \r\nQ 39.65625 40.375 33.015625 40.375 \r\nz\r\nM 52.59375 71.296875 \r\nL 52.59375 62.3125 \r\nQ 48.875 64.0625 45.09375 64.984375 \r\nQ 41.3125 65.921875 37.59375 65.921875 \r\nQ 27.828125 65.921875 22.671875 59.328125 \r\nQ 17.53125 52.734375 16.796875 39.40625 \r\nQ 19.671875 43.65625 24.015625 45.921875 \r\nQ 28.375 48.1875 33.59375 48.1875 \r\nQ 44.578125 48.1875 50.953125 41.515625 \r\nQ 57.328125 34.859375 57.328125 23.390625 \r\nQ 57.328125 12.15625 50.6875 5.359375 \r\nQ 44.046875 -1.421875 33.015625 -1.421875 \r\nQ 20.359375 -1.421875 13.671875 8.265625 \r\nQ 6.984375 17.96875 6.984375 36.375 \r\nQ 6.984375 53.65625 15.1875 63.9375 \r\nQ 23.390625 74.21875 37.203125 74.21875 \r\nQ 40.921875 74.21875 44.703125 73.484375 \r\nQ 48.484375 72.75 52.59375 71.296875 \r\nz\r\n\" id=\"DejaVuSans-54\"/>\r\n       </defs>\r\n       <use xlink:href=\"#DejaVuSans-54\"/>\r\n       <use x=\"63.623047\" xlink:href=\"#DejaVuSans-48\"/>\r\n       <use x=\"127.246094\" xlink:href=\"#DejaVuSans-48\"/>\r\n       <use x=\"190.869141\" xlink:href=\"#DejaVuSans-48\"/>\r\n       <use x=\"254.492188\" xlink:href=\"#DejaVuSans-48\"/>\r\n      </g>\r\n     </g>\r\n    </g>\r\n    <g id=\"ytick_5\">\r\n     <g id=\"text_15\">\r\n      <!-- 80000 -->\r\n      <g style=\"fill:#262626;\" transform=\"translate(40.1 246.248748)scale(0.15 -0.15)\">\r\n       <defs>\r\n        <path d=\"M 31.78125 34.625 \r\nQ 24.75 34.625 20.71875 30.859375 \r\nQ 16.703125 27.09375 16.703125 20.515625 \r\nQ 16.703125 13.921875 20.71875 10.15625 \r\nQ 24.75 6.390625 31.78125 6.390625 \r\nQ 38.8125 6.390625 42.859375 10.171875 \r\nQ 46.921875 13.96875 46.921875 20.515625 \r\nQ 46.921875 27.09375 42.890625 30.859375 \r\nQ 38.875 34.625 31.78125 34.625 \r\nz\r\nM 21.921875 38.8125 \r\nQ 15.578125 40.375 12.03125 44.71875 \r\nQ 8.5 49.078125 8.5 55.328125 \r\nQ 8.5 64.0625 14.71875 69.140625 \r\nQ 20.953125 74.21875 31.78125 74.21875 \r\nQ 42.671875 74.21875 48.875 69.140625 \r\nQ 55.078125 64.0625 55.078125 55.328125 \r\nQ 55.078125 49.078125 51.53125 44.71875 \r\nQ 48 40.375 41.703125 38.8125 \r\nQ 48.828125 37.15625 52.796875 32.3125 \r\nQ 56.78125 27.484375 56.78125 20.515625 \r\nQ 56.78125 9.90625 50.3125 4.234375 \r\nQ 43.84375 -1.421875 31.78125 -1.421875 \r\nQ 19.734375 -1.421875 13.25 4.234375 \r\nQ 6.78125 9.90625 6.78125 20.515625 \r\nQ 6.78125 27.484375 10.78125 32.3125 \r\nQ 14.796875 37.15625 21.921875 38.8125 \r\nz\r\nM 18.3125 54.390625 \r\nQ 18.3125 48.734375 21.84375 45.5625 \r\nQ 25.390625 42.390625 31.78125 42.390625 \r\nQ 38.140625 42.390625 41.71875 45.5625 \r\nQ 45.3125 48.734375 45.3125 54.390625 \r\nQ 45.3125 60.0625 41.71875 63.234375 \r\nQ 38.140625 66.40625 31.78125 66.40625 \r\nQ 25.390625 66.40625 21.84375 63.234375 \r\nQ 18.3125 60.0625 18.3125 54.390625 \r\nz\r\n\" id=\"DejaVuSans-56\"/>\r\n       </defs>\r\n       <use xlink:href=\"#DejaVuSans-56\"/>\r\n       <use x=\"63.623047\" xlink:href=\"#DejaVuSans-48\"/>\r\n       <use x=\"127.246094\" xlink:href=\"#DejaVuSans-48\"/>\r\n       <use x=\"190.869141\" xlink:href=\"#DejaVuSans-48\"/>\r\n       <use x=\"254.492188\" xlink:href=\"#DejaVuSans-48\"/>\r\n      </g>\r\n     </g>\r\n    </g>\r\n    <g id=\"ytick_6\">\r\n     <g id=\"text_16\">\r\n      <!-- 100000 -->\r\n      <g style=\"fill:#262626;\" transform=\"translate(30.55625 136.207009)scale(0.15 -0.15)\">\r\n       <use xlink:href=\"#DejaVuSans-49\"/>\r\n       <use x=\"63.623047\" xlink:href=\"#DejaVuSans-48\"/>\r\n       <use x=\"127.246094\" xlink:href=\"#DejaVuSans-48\"/>\r\n       <use x=\"190.869141\" xlink:href=\"#DejaVuSans-48\"/>\r\n       <use x=\"254.492188\" xlink:href=\"#DejaVuSans-48\"/>\r\n       <use x=\"318.115234\" xlink:href=\"#DejaVuSans-48\"/>\r\n      </g>\r\n     </g>\r\n    </g>\r\n    <g id=\"text_17\">\r\n     <!-- COUNT -->\r\n     <g style=\"fill:#262626;\" transform=\"translate(22.396875 390.319375)rotate(-90)scale(0.2 -0.2)\">\r\n      <defs>\r\n       <path d=\"M 8.6875 72.90625 \r\nL 18.609375 72.90625 \r\nL 18.609375 28.609375 \r\nQ 18.609375 16.890625 22.84375 11.734375 \r\nQ 27.09375 6.59375 36.625 6.59375 \r\nQ 46.09375 6.59375 50.34375 11.734375 \r\nQ 54.59375 16.890625 54.59375 28.609375 \r\nL 54.59375 72.90625 \r\nL 64.5 72.90625 \r\nL 64.5 27.390625 \r\nQ 64.5 13.140625 57.4375 5.859375 \r\nQ 50.390625 -1.421875 36.625 -1.421875 \r\nQ 22.796875 -1.421875 15.734375 5.859375 \r\nQ 8.6875 13.140625 8.6875 27.390625 \r\nz\r\n\" id=\"DejaVuSans-85\"/>\r\n      </defs>\r\n      <use xlink:href=\"#DejaVuSans-67\"/>\r\n      <use x=\"69.824219\" xlink:href=\"#DejaVuSans-79\"/>\r\n      <use x=\"148.535156\" xlink:href=\"#DejaVuSans-85\"/>\r\n      <use x=\"221.728516\" xlink:href=\"#DejaVuSans-78\"/>\r\n      <use x=\"296.533203\" xlink:href=\"#DejaVuSans-84\"/>\r\n     </g>\r\n    </g>\r\n   </g>\r\n   <g id=\"patch_3\">\r\n    <path clip-path=\"url(#p30f4854e1d)\" d=\"M 98.31875 680.716875 \r\nL 110.577841 680.716875 \r\nL 110.577841 176.004938 \r\nL 98.31875 176.004938 \r\nz\r\n\" style=\"fill:#ff7f0e;fill-opacity:0.5;stroke:#ffffff;stroke-linejoin:miter;stroke-width:0.3;\"/>\r\n   </g>\r\n   <g id=\"patch_4\">\r\n    <path clip-path=\"url(#p30f4854e1d)\" d=\"M 110.577841 680.716875 \r\nL 122.836932 680.716875 \r\nL 122.836932 680.716875 \r\nL 110.577841 680.716875 \r\nz\r\n\" style=\"fill:#ff7f0e;fill-opacity:0.5;stroke:#ffffff;stroke-linejoin:miter;stroke-width:0.3;\"/>\r\n   </g>\r\n   <g id=\"patch_5\">\r\n    <path clip-path=\"url(#p30f4854e1d)\" d=\"M 122.836932 680.716875 \r\nL 135.096023 680.716875 \r\nL 135.096023 59.459732 \r\nL 122.836932 59.459732 \r\nz\r\n\" style=\"fill:#ff7f0e;fill-opacity:0.5;stroke:#ffffff;stroke-linejoin:miter;stroke-width:0.3;\"/>\r\n   </g>\r\n   <g id=\"patch_6\">\r\n    <path clip-path=\"url(#p30f4854e1d)\" d=\"M 135.096023 680.716875 \r\nL 147.355114 680.716875 \r\nL 147.355114 680.716875 \r\nL 135.096023 680.716875 \r\nz\r\n\" style=\"fill:#ff7f0e;fill-opacity:0.5;stroke:#ffffff;stroke-linejoin:miter;stroke-width:0.3;\"/>\r\n   </g>\r\n   <g id=\"patch_7\">\r\n    <path clip-path=\"url(#p30f4854e1d)\" d=\"M 147.355114 680.716875 \r\nL 159.614205 680.716875 \r\nL 159.614205 253.573359 \r\nL 147.355114 253.573359 \r\nz\r\n\" style=\"fill:#ff7f0e;fill-opacity:0.5;stroke:#ffffff;stroke-linejoin:miter;stroke-width:0.3;\"/>\r\n   </g>\r\n   <g id=\"patch_8\">\r\n    <path clip-path=\"url(#p30f4854e1d)\" d=\"M 159.614205 680.716875 \r\nL 171.873295 680.716875 \r\nL 171.873295 680.716875 \r\nL 159.614205 680.716875 \r\nz\r\n\" style=\"fill:#ff7f0e;fill-opacity:0.5;stroke:#ffffff;stroke-linejoin:miter;stroke-width:0.3;\"/>\r\n   </g>\r\n   <g id=\"patch_9\">\r\n    <path clip-path=\"url(#p30f4854e1d)\" d=\"M 171.873295 680.716875 \r\nL 184.132386 680.716875 \r\nL 184.132386 473.865916 \r\nL 171.873295 473.865916 \r\nz\r\n\" style=\"fill:#ff7f0e;fill-opacity:0.5;stroke:#ffffff;stroke-linejoin:miter;stroke-width:0.3;\"/>\r\n   </g>\r\n   <g id=\"patch_10\">\r\n    <path clip-path=\"url(#p30f4854e1d)\" d=\"M 184.132386 680.716875 \r\nL 196.391477 680.716875 \r\nL 196.391477 680.716875 \r\nL 184.132386 680.716875 \r\nz\r\n\" style=\"fill:#ff7f0e;fill-opacity:0.5;stroke:#ffffff;stroke-linejoin:miter;stroke-width:0.3;\"/>\r\n   </g>\r\n   <g id=\"patch_11\">\r\n    <path clip-path=\"url(#p30f4854e1d)\" d=\"M 196.391477 680.716875 \r\nL 208.650568 680.716875 \r\nL 208.650568 680.716875 \r\nL 196.391477 680.716875 \r\nz\r\n\" style=\"fill:#ff7f0e;fill-opacity:0.5;stroke:#ffffff;stroke-linejoin:miter;stroke-width:0.3;\"/>\r\n   </g>\r\n   <g id=\"patch_12\">\r\n    <path clip-path=\"url(#p30f4854e1d)\" d=\"M 208.650568 680.716875 \r\nL 220.909659 680.716875 \r\nL 220.909659 535.786403 \r\nL 208.650568 535.786403 \r\nz\r\n\" style=\"fill:#ff7f0e;fill-opacity:0.5;stroke:#ffffff;stroke-linejoin:miter;stroke-width:0.3;\"/>\r\n   </g>\r\n   <g id=\"patch_13\">\r\n    <path clip-path=\"url(#p30f4854e1d)\" d=\"M 220.909659 680.716875 \r\nL 233.16875 680.716875 \r\nL 233.16875 680.716875 \r\nL 220.909659 680.716875 \r\nz\r\n\" style=\"fill:#ff7f0e;fill-opacity:0.5;stroke:#ffffff;stroke-linejoin:miter;stroke-width:0.3;\"/>\r\n   </g>\r\n   <g id=\"patch_14\">\r\n    <path clip-path=\"url(#p30f4854e1d)\" d=\"M 233.16875 680.716875 \r\nL 245.427841 680.716875 \r\nL 245.427841 549.794716 \r\nL 233.16875 549.794716 \r\nz\r\n\" style=\"fill:#ff7f0e;fill-opacity:0.5;stroke:#ffffff;stroke-linejoin:miter;stroke-width:0.3;\"/>\r\n   </g>\r\n   <g id=\"patch_15\">\r\n    <path clip-path=\"url(#p30f4854e1d)\" d=\"M 245.427841 680.716875 \r\nL 257.686932 680.716875 \r\nL 257.686932 680.716875 \r\nL 245.427841 680.716875 \r\nz\r\n\" style=\"fill:#ff7f0e;fill-opacity:0.5;stroke:#ffffff;stroke-linejoin:miter;stroke-width:0.3;\"/>\r\n   </g>\r\n   <g id=\"patch_16\">\r\n    <path clip-path=\"url(#p30f4854e1d)\" d=\"M 257.686932 680.716875 \r\nL 269.946023 680.716875 \r\nL 269.946023 559.37385 \r\nL 257.686932 559.37385 \r\nz\r\n\" style=\"fill:#ff7f0e;fill-opacity:0.5;stroke:#ffffff;stroke-linejoin:miter;stroke-width:0.3;\"/>\r\n   </g>\r\n   <g id=\"patch_17\">\r\n    <path clip-path=\"url(#p30f4854e1d)\" d=\"M 269.946023 680.716875 \r\nL 282.205114 680.716875 \r\nL 282.205114 680.716875 \r\nL 269.946023 680.716875 \r\nz\r\n\" style=\"fill:#ff7f0e;fill-opacity:0.5;stroke:#ffffff;stroke-linejoin:miter;stroke-width:0.3;\"/>\r\n   </g>\r\n   <g id=\"patch_18\">\r\n    <path clip-path=\"url(#p30f4854e1d)\" d=\"M 282.205114 680.716875 \r\nL 294.464205 680.716875 \r\nL 294.464205 571.68752 \r\nL 282.205114 571.68752 \r\nz\r\n\" style=\"fill:#ff7f0e;fill-opacity:0.5;stroke:#ffffff;stroke-linejoin:miter;stroke-width:0.3;\"/>\r\n   </g>\r\n   <g id=\"patch_19\">\r\n    <path clip-path=\"url(#p30f4854e1d)\" d=\"M 294.464205 680.716875 \r\nL 306.723295 680.716875 \r\nL 306.723295 680.716875 \r\nL 294.464205 680.716875 \r\nz\r\n\" style=\"fill:#ff7f0e;fill-opacity:0.5;stroke:#ffffff;stroke-linejoin:miter;stroke-width:0.3;\"/>\r\n   </g>\r\n   <g id=\"patch_20\">\r\n    <path clip-path=\"url(#p30f4854e1d)\" d=\"M 306.723295 680.716875 \r\nL 318.982386 680.716875 \r\nL 318.982386 680.716875 \r\nL 306.723295 680.716875 \r\nz\r\n\" style=\"fill:#ff7f0e;fill-opacity:0.5;stroke:#ffffff;stroke-linejoin:miter;stroke-width:0.3;\"/>\r\n   </g>\r\n   <g id=\"patch_21\">\r\n    <path clip-path=\"url(#p30f4854e1d)\" d=\"M 318.982386 680.716875 \r\nL 331.241477 680.716875 \r\nL 331.241477 581.728829 \r\nL 318.982386 581.728829 \r\nz\r\n\" style=\"fill:#ff7f0e;fill-opacity:0.5;stroke:#ffffff;stroke-linejoin:miter;stroke-width:0.3;\"/>\r\n   </g>\r\n   <g id=\"patch_22\">\r\n    <path clip-path=\"url(#p30f4854e1d)\" d=\"M 331.241477 680.716875 \r\nL 343.500568 680.716875 \r\nL 343.500568 680.716875 \r\nL 331.241477 680.716875 \r\nz\r\n\" style=\"fill:#ff7f0e;fill-opacity:0.5;stroke:#ffffff;stroke-linejoin:miter;stroke-width:0.3;\"/>\r\n   </g>\r\n   <g id=\"patch_23\">\r\n    <path clip-path=\"url(#p30f4854e1d)\" d=\"M 343.500568 680.716875 \r\nL 355.759659 680.716875 \r\nL 355.759659 588.826521 \r\nL 343.500568 588.826521 \r\nz\r\n\" style=\"fill:#ff7f0e;fill-opacity:0.5;stroke:#ffffff;stroke-linejoin:miter;stroke-width:0.3;\"/>\r\n   </g>\r\n   <g id=\"patch_24\">\r\n    <path clip-path=\"url(#p30f4854e1d)\" d=\"M 355.759659 680.716875 \r\nL 368.01875 680.716875 \r\nL 368.01875 680.716875 \r\nL 355.759659 680.716875 \r\nz\r\n\" style=\"fill:#ff7f0e;fill-opacity:0.5;stroke:#ffffff;stroke-linejoin:miter;stroke-width:0.3;\"/>\r\n   </g>\r\n   <g id=\"patch_25\">\r\n    <path clip-path=\"url(#p30f4854e1d)\" d=\"M 368.01875 680.716875 \r\nL 380.277841 680.716875 \r\nL 380.277841 591.467523 \r\nL 368.01875 591.467523 \r\nz\r\n\" style=\"fill:#ff7f0e;fill-opacity:0.5;stroke:#ffffff;stroke-linejoin:miter;stroke-width:0.3;\"/>\r\n   </g>\r\n   <g id=\"patch_26\">\r\n    <path clip-path=\"url(#p30f4854e1d)\" d=\"M 380.277841 680.716875 \r\nL 392.536932 680.716875 \r\nL 392.536932 680.716875 \r\nL 380.277841 680.716875 \r\nz\r\n\" style=\"fill:#ff7f0e;fill-opacity:0.5;stroke:#ffffff;stroke-linejoin:miter;stroke-width:0.3;\"/>\r\n   </g>\r\n   <g id=\"patch_27\">\r\n    <path clip-path=\"url(#p30f4854e1d)\" d=\"M 392.536932 680.716875 \r\nL 404.796023 680.716875 \r\nL 404.796023 680.716875 \r\nL 392.536932 680.716875 \r\nz\r\n\" style=\"fill:#ff7f0e;fill-opacity:0.5;stroke:#ffffff;stroke-linejoin:miter;stroke-width:0.3;\"/>\r\n   </g>\r\n   <g id=\"patch_28\">\r\n    <path clip-path=\"url(#p30f4854e1d)\" d=\"M 404.796023 680.716875 \r\nL 417.055114 680.716875 \r\nL 417.055114 592.06725 \r\nL 404.796023 592.06725 \r\nz\r\n\" style=\"fill:#ff7f0e;fill-opacity:0.5;stroke:#ffffff;stroke-linejoin:miter;stroke-width:0.3;\"/>\r\n   </g>\r\n   <g id=\"patch_29\">\r\n    <path clip-path=\"url(#p30f4854e1d)\" d=\"M 417.055114 680.716875 \r\nL 429.314205 680.716875 \r\nL 429.314205 680.716875 \r\nL 417.055114 680.716875 \r\nz\r\n\" style=\"fill:#ff7f0e;fill-opacity:0.5;stroke:#ffffff;stroke-linejoin:miter;stroke-width:0.3;\"/>\r\n   </g>\r\n   <g id=\"patch_30\">\r\n    <path clip-path=\"url(#p30f4854e1d)\" d=\"M 429.314205 680.716875 \r\nL 441.573295 680.716875 \r\nL 441.573295 590.218549 \r\nL 429.314205 590.218549 \r\nz\r\n\" style=\"fill:#ff7f0e;fill-opacity:0.5;stroke:#ffffff;stroke-linejoin:miter;stroke-width:0.3;\"/>\r\n   </g>\r\n   <g id=\"patch_31\">\r\n    <path clip-path=\"url(#p30f4854e1d)\" d=\"M 441.573295 680.716875 \r\nL 453.832386 680.716875 \r\nL 453.832386 680.716875 \r\nL 441.573295 680.716875 \r\nz\r\n\" style=\"fill:#ff7f0e;fill-opacity:0.5;stroke:#ffffff;stroke-linejoin:miter;stroke-width:0.3;\"/>\r\n   </g>\r\n   <g id=\"patch_32\">\r\n    <path clip-path=\"url(#p30f4854e1d)\" d=\"M 453.832386 680.716875 \r\nL 466.091477 680.716875 \r\nL 466.091477 593.756391 \r\nL 453.832386 593.756391 \r\nz\r\n\" style=\"fill:#ff7f0e;fill-opacity:0.5;stroke:#ffffff;stroke-linejoin:miter;stroke-width:0.3;\"/>\r\n   </g>\r\n   <g id=\"patch_33\">\r\n    <path clip-path=\"url(#p30f4854e1d)\" d=\"M 466.091477 680.716875 \r\nL 478.350568 680.716875 \r\nL 478.350568 680.716875 \r\nL 466.091477 680.716875 \r\nz\r\n\" style=\"fill:#ff7f0e;fill-opacity:0.5;stroke:#ffffff;stroke-linejoin:miter;stroke-width:0.3;\"/>\r\n   </g>\r\n   <g id=\"patch_34\">\r\n    <path clip-path=\"url(#p30f4854e1d)\" d=\"M 478.350568 680.716875 \r\nL 490.609659 680.716875 \r\nL 490.609659 592.600953 \r\nL 478.350568 592.600953 \r\nz\r\n\" style=\"fill:#ff7f0e;fill-opacity:0.5;stroke:#ffffff;stroke-linejoin:miter;stroke-width:0.3;\"/>\r\n   </g>\r\n   <g id=\"patch_35\">\r\n    <path clip-path=\"url(#p30f4854e1d)\" d=\"M 490.609659 680.716875 \r\nL 502.86875 680.716875 \r\nL 502.86875 680.716875 \r\nL 490.609659 680.716875 \r\nz\r\n\" style=\"fill:#ff7f0e;fill-opacity:0.5;stroke:#ffffff;stroke-linejoin:miter;stroke-width:0.3;\"/>\r\n   </g>\r\n   <g id=\"patch_36\">\r\n    <path clip-path=\"url(#p30f4854e1d)\" d=\"M 502.86875 680.716875 \r\nL 515.127841 680.716875 \r\nL 515.127841 680.716875 \r\nL 502.86875 680.716875 \r\nz\r\n\" style=\"fill:#ff7f0e;fill-opacity:0.5;stroke:#ffffff;stroke-linejoin:miter;stroke-width:0.3;\"/>\r\n   </g>\r\n   <g id=\"patch_37\">\r\n    <path clip-path=\"url(#p30f4854e1d)\" d=\"M 515.127841 680.716875 \r\nL 527.386932 680.716875 \r\nL 527.386932 582.07546 \r\nL 515.127841 582.07546 \r\nz\r\n\" style=\"fill:#ff7f0e;fill-opacity:0.5;stroke:#ffffff;stroke-linejoin:miter;stroke-width:0.3;\"/>\r\n   </g>\r\n   <g id=\"patch_38\">\r\n    <path clip-path=\"url(#p30f4854e1d)\" d=\"M 527.386932 680.716875 \r\nL 539.646023 680.716875 \r\nL 539.646023 680.716875 \r\nL 527.386932 680.716875 \r\nz\r\n\" style=\"fill:#ff7f0e;fill-opacity:0.5;stroke:#ffffff;stroke-linejoin:miter;stroke-width:0.3;\"/>\r\n   </g>\r\n   <g id=\"patch_39\">\r\n    <path clip-path=\"url(#p30f4854e1d)\" d=\"M 539.646023 680.716875 \r\nL 551.905114 680.716875 \r\nL 551.905114 577.327159 \r\nL 539.646023 577.327159 \r\nz\r\n\" style=\"fill:#ff7f0e;fill-opacity:0.5;stroke:#ffffff;stroke-linejoin:miter;stroke-width:0.3;\"/>\r\n   </g>\r\n   <g id=\"patch_40\">\r\n    <path clip-path=\"url(#p30f4854e1d)\" d=\"M 551.905114 680.716875 \r\nL 564.164205 680.716875 \r\nL 564.164205 680.716875 \r\nL 551.905114 680.716875 \r\nz\r\n\" style=\"fill:#ff7f0e;fill-opacity:0.5;stroke:#ffffff;stroke-linejoin:miter;stroke-width:0.3;\"/>\r\n   </g>\r\n   <g id=\"patch_41\">\r\n    <path clip-path=\"url(#p30f4854e1d)\" d=\"M 564.164205 680.716875 \r\nL 576.423295 680.716875 \r\nL 576.423295 575.610508 \r\nL 564.164205 575.610508 \r\nz\r\n\" style=\"fill:#ff7f0e;fill-opacity:0.5;stroke:#ffffff;stroke-linejoin:miter;stroke-width:0.3;\"/>\r\n   </g>\r\n   <g id=\"patch_42\">\r\n    <path clip-path=\"url(#p30f4854e1d)\" d=\"M 576.423295 680.716875 \r\nL 588.682386 680.716875 \r\nL 588.682386 680.716875 \r\nL 576.423295 680.716875 \r\nz\r\n\" style=\"fill:#ff7f0e;fill-opacity:0.5;stroke:#ffffff;stroke-linejoin:miter;stroke-width:0.3;\"/>\r\n   </g>\r\n   <g id=\"patch_43\">\r\n    <path clip-path=\"url(#p30f4854e1d)\" d=\"M 588.682386 680.716875 \r\nL 600.941477 680.716875 \r\nL 600.941477 575.82509 \r\nL 588.682386 575.82509 \r\nz\r\n\" style=\"fill:#ff7f0e;fill-opacity:0.5;stroke:#ffffff;stroke-linejoin:miter;stroke-width:0.3;\"/>\r\n   </g>\r\n   <g id=\"patch_44\">\r\n    <path clip-path=\"url(#p30f4854e1d)\" d=\"M 600.941477 680.716875 \r\nL 613.200568 680.716875 \r\nL 613.200568 680.716875 \r\nL 600.941477 680.716875 \r\nz\r\n\" style=\"fill:#ff7f0e;fill-opacity:0.5;stroke:#ffffff;stroke-linejoin:miter;stroke-width:0.3;\"/>\r\n   </g>\r\n   <g id=\"patch_45\">\r\n    <path clip-path=\"url(#p30f4854e1d)\" d=\"M 613.200568 680.716875 \r\nL 625.459659 680.716875 \r\nL 625.459659 680.716875 \r\nL 613.200568 680.716875 \r\nz\r\n\" style=\"fill:#ff7f0e;fill-opacity:0.5;stroke:#ffffff;stroke-linejoin:miter;stroke-width:0.3;\"/>\r\n   </g>\r\n   <g id=\"patch_46\">\r\n    <path clip-path=\"url(#p30f4854e1d)\" d=\"M 625.459659 680.716875 \r\nL 637.71875 680.716875 \r\nL 637.71875 583.230899 \r\nL 625.459659 583.230899 \r\nz\r\n\" style=\"fill:#ff7f0e;fill-opacity:0.5;stroke:#ffffff;stroke-linejoin:miter;stroke-width:0.3;\"/>\r\n   </g>\r\n   <g id=\"patch_47\">\r\n    <path clip-path=\"url(#p30f4854e1d)\" d=\"M 637.71875 680.716875 \r\nL 649.977841 680.716875 \r\nL 649.977841 680.716875 \r\nL 637.71875 680.716875 \r\nz\r\n\" style=\"fill:#ff7f0e;fill-opacity:0.5;stroke:#ffffff;stroke-linejoin:miter;stroke-width:0.3;\"/>\r\n   </g>\r\n   <g id=\"patch_48\">\r\n    <path clip-path=\"url(#p30f4854e1d)\" d=\"M 649.977841 680.716875 \r\nL 662.236932 680.716875 \r\nL 662.236932 606.064559 \r\nL 649.977841 606.064559 \r\nz\r\n\" style=\"fill:#ff7f0e;fill-opacity:0.5;stroke:#ffffff;stroke-linejoin:miter;stroke-width:0.3;\"/>\r\n   </g>\r\n   <g id=\"patch_49\">\r\n    <path clip-path=\"url(#p30f4854e1d)\" d=\"M 662.236932 680.716875 \r\nL 674.496023 680.716875 \r\nL 674.496023 680.716875 \r\nL 662.236932 680.716875 \r\nz\r\n\" style=\"fill:#ff7f0e;fill-opacity:0.5;stroke:#ffffff;stroke-linejoin:miter;stroke-width:0.3;\"/>\r\n   </g>\r\n   <g id=\"patch_50\">\r\n    <path clip-path=\"url(#p30f4854e1d)\" d=\"M 674.496023 680.716875 \r\nL 686.755114 680.716875 \r\nL 686.755114 632.160958 \r\nL 674.496023 632.160958 \r\nz\r\n\" style=\"fill:#ff7f0e;fill-opacity:0.5;stroke:#ffffff;stroke-linejoin:miter;stroke-width:0.3;\"/>\r\n   </g>\r\n   <g id=\"patch_51\">\r\n    <path clip-path=\"url(#p30f4854e1d)\" d=\"M 686.755114 680.716875 \r\nL 699.014205 680.716875 \r\nL 699.014205 680.716875 \r\nL 686.755114 680.716875 \r\nz\r\n\" style=\"fill:#ff7f0e;fill-opacity:0.5;stroke:#ffffff;stroke-linejoin:miter;stroke-width:0.3;\"/>\r\n   </g>\r\n   <g id=\"patch_52\">\r\n    <path clip-path=\"url(#p30f4854e1d)\" d=\"M 699.014205 680.716875 \r\nL 711.273295 680.716875 \r\nL 711.273295 680.716875 \r\nL 699.014205 680.716875 \r\nz\r\n\" style=\"fill:#ff7f0e;fill-opacity:0.5;stroke:#ffffff;stroke-linejoin:miter;stroke-width:0.3;\"/>\r\n   </g>\r\n   <g id=\"patch_53\">\r\n    <path clip-path=\"url(#p30f4854e1d)\" d=\"M 711.273295 680.716875 \r\nL 723.532386 680.716875 \r\nL 723.532386 654.956104 \r\nL 711.273295 654.956104 \r\nz\r\n\" style=\"fill:#ff7f0e;fill-opacity:0.5;stroke:#ffffff;stroke-linejoin:miter;stroke-width:0.3;\"/>\r\n   </g>\r\n   <g id=\"patch_54\">\r\n    <path clip-path=\"url(#p30f4854e1d)\" d=\"M 723.532386 680.716875 \r\nL 735.791477 680.716875 \r\nL 735.791477 680.716875 \r\nL 723.532386 680.716875 \r\nz\r\n\" style=\"fill:#ff7f0e;fill-opacity:0.5;stroke:#ffffff;stroke-linejoin:miter;stroke-width:0.3;\"/>\r\n   </g>\r\n   <g id=\"patch_55\">\r\n    <path clip-path=\"url(#p30f4854e1d)\" d=\"M 735.791477 680.716875 \r\nL 748.050568 680.716875 \r\nL 748.050568 674.207906 \r\nL 735.791477 674.207906 \r\nz\r\n\" style=\"fill:#ff7f0e;fill-opacity:0.5;stroke:#ffffff;stroke-linejoin:miter;stroke-width:0.3;\"/>\r\n   </g>\r\n   <g id=\"patch_56\">\r\n    <path clip-path=\"url(#p30f4854e1d)\" d=\"M 748.050568 680.716875 \r\nL 760.309659 680.716875 \r\nL 760.309659 680.716875 \r\nL 748.050568 680.716875 \r\nz\r\n\" style=\"fill:#ff7f0e;fill-opacity:0.5;stroke:#ffffff;stroke-linejoin:miter;stroke-width:0.3;\"/>\r\n   </g>\r\n   <g id=\"patch_57\">\r\n    <path clip-path=\"url(#p30f4854e1d)\" d=\"M 760.309659 680.716875 \r\nL 772.56875 680.716875 \r\nL 772.56875 680.716875 \r\nL 760.309659 680.716875 \r\nz\r\n\" style=\"fill:#ff7f0e;fill-opacity:0.5;stroke:#ffffff;stroke-linejoin:miter;stroke-width:0.3;\"/>\r\n   </g>\r\n   <g id=\"patch_58\">\r\n    <path clip-path=\"url(#p30f4854e1d)\" d=\"M 772.56875 680.716875 \r\nL 784.827841 680.716875 \r\nL 784.827841 680.716875 \r\nL 772.56875 680.716875 \r\nz\r\n\" style=\"fill:#ff7f0e;fill-opacity:0.5;stroke:#ffffff;stroke-linejoin:miter;stroke-width:0.3;\"/>\r\n   </g>\r\n   <g id=\"patch_59\">\r\n    <path clip-path=\"url(#p30f4854e1d)\" d=\"M 784.827841 680.716875 \r\nL 797.086932 680.716875 \r\nL 797.086932 680.716875 \r\nL 784.827841 680.716875 \r\nz\r\n\" style=\"fill:#ff7f0e;fill-opacity:0.5;stroke:#ffffff;stroke-linejoin:miter;stroke-width:0.3;\"/>\r\n   </g>\r\n   <g id=\"patch_60\">\r\n    <path clip-path=\"url(#p30f4854e1d)\" d=\"M 797.086932 680.716875 \r\nL 809.346023 680.716875 \r\nL 809.346023 680.716875 \r\nL 797.086932 680.716875 \r\nz\r\n\" style=\"fill:#ff7f0e;fill-opacity:0.5;stroke:#ffffff;stroke-linejoin:miter;stroke-width:0.3;\"/>\r\n   </g>\r\n   <g id=\"patch_61\">\r\n    <path clip-path=\"url(#p30f4854e1d)\" d=\"M 809.346023 680.716875 \r\nL 821.605114 680.716875 \r\nL 821.605114 680.716875 \r\nL 809.346023 680.716875 \r\nz\r\n\" style=\"fill:#ff7f0e;fill-opacity:0.5;stroke:#ffffff;stroke-linejoin:miter;stroke-width:0.3;\"/>\r\n   </g>\r\n   <g id=\"patch_62\">\r\n    <path clip-path=\"url(#p30f4854e1d)\" d=\"M 821.605114 680.716875 \r\nL 833.864205 680.716875 \r\nL 833.864205 680.716875 \r\nL 821.605114 680.716875 \r\nz\r\n\" style=\"fill:#ff7f0e;fill-opacity:0.5;stroke:#ffffff;stroke-linejoin:miter;stroke-width:0.3;\"/>\r\n   </g>\r\n   <g id=\"patch_63\">\r\n    <path clip-path=\"url(#p30f4854e1d)\" d=\"M 833.864205 680.716875 \r\nL 846.123295 680.716875 \r\nL 846.123295 680.716875 \r\nL 833.864205 680.716875 \r\nz\r\n\" style=\"fill:#ff7f0e;fill-opacity:0.5;stroke:#ffffff;stroke-linejoin:miter;stroke-width:0.3;\"/>\r\n   </g>\r\n   <g id=\"patch_64\">\r\n    <path clip-path=\"url(#p30f4854e1d)\" d=\"M 846.123295 680.716875 \r\nL 858.382386 680.716875 \r\nL 858.382386 680.716875 \r\nL 846.123295 680.716875 \r\nz\r\n\" style=\"fill:#ff7f0e;fill-opacity:0.5;stroke:#ffffff;stroke-linejoin:miter;stroke-width:0.3;\"/>\r\n   </g>\r\n   <g id=\"patch_65\">\r\n    <path clip-path=\"url(#p30f4854e1d)\" d=\"M 858.382386 680.716875 \r\nL 870.641477 680.716875 \r\nL 870.641477 680.716875 \r\nL 858.382386 680.716875 \r\nz\r\n\" style=\"fill:#ff7f0e;fill-opacity:0.5;stroke:#ffffff;stroke-linejoin:miter;stroke-width:0.3;\"/>\r\n   </g>\r\n   <g id=\"patch_66\">\r\n    <path clip-path=\"url(#p30f4854e1d)\" d=\"M 870.641477 680.716875 \r\nL 882.900568 680.716875 \r\nL 882.900568 680.716875 \r\nL 870.641477 680.716875 \r\nz\r\n\" style=\"fill:#ff7f0e;fill-opacity:0.5;stroke:#ffffff;stroke-linejoin:miter;stroke-width:0.3;\"/>\r\n   </g>\r\n   <g id=\"patch_67\">\r\n    <path clip-path=\"url(#p30f4854e1d)\" d=\"M 882.900568 680.716875 \r\nL 895.159659 680.716875 \r\nL 895.159659 680.716875 \r\nL 882.900568 680.716875 \r\nz\r\n\" style=\"fill:#ff7f0e;fill-opacity:0.5;stroke:#ffffff;stroke-linejoin:miter;stroke-width:0.3;\"/>\r\n   </g>\r\n   <g id=\"patch_68\">\r\n    <path clip-path=\"url(#p30f4854e1d)\" d=\"M 895.159659 680.716875 \r\nL 907.41875 680.716875 \r\nL 907.41875 680.716875 \r\nL 895.159659 680.716875 \r\nz\r\n\" style=\"fill:#ff7f0e;fill-opacity:0.5;stroke:#ffffff;stroke-linejoin:miter;stroke-width:0.3;\"/>\r\n   </g>\r\n   <g id=\"patch_69\">\r\n    <path clip-path=\"url(#p30f4854e1d)\" d=\"M 907.41875 680.716875 \r\nL 919.677841 680.716875 \r\nL 919.677841 680.716875 \r\nL 907.41875 680.716875 \r\nz\r\n\" style=\"fill:#ff7f0e;fill-opacity:0.5;stroke:#ffffff;stroke-linejoin:miter;stroke-width:0.3;\"/>\r\n   </g>\r\n   <g id=\"patch_70\">\r\n    <path clip-path=\"url(#p30f4854e1d)\" d=\"M 919.677841 680.716875 \r\nL 931.936932 680.716875 \r\nL 931.936932 680.716875 \r\nL 919.677841 680.716875 \r\nz\r\n\" style=\"fill:#ff7f0e;fill-opacity:0.5;stroke:#ffffff;stroke-linejoin:miter;stroke-width:0.3;\"/>\r\n   </g>\r\n   <g id=\"patch_71\">\r\n    <path clip-path=\"url(#p30f4854e1d)\" d=\"M 931.936932 680.716875 \r\nL 944.196023 680.716875 \r\nL 944.196023 680.716875 \r\nL 931.936932 680.716875 \r\nz\r\n\" style=\"fill:#ff7f0e;fill-opacity:0.5;stroke:#ffffff;stroke-linejoin:miter;stroke-width:0.3;\"/>\r\n   </g>\r\n   <g id=\"patch_72\">\r\n    <path clip-path=\"url(#p30f4854e1d)\" d=\"M 944.196023 680.716875 \r\nL 956.455114 680.716875 \r\nL 956.455114 680.716875 \r\nL 944.196023 680.716875 \r\nz\r\n\" style=\"fill:#ff7f0e;fill-opacity:0.5;stroke:#ffffff;stroke-linejoin:miter;stroke-width:0.3;\"/>\r\n   </g>\r\n   <g id=\"patch_73\">\r\n    <path clip-path=\"url(#p30f4854e1d)\" d=\"M 956.455114 680.716875 \r\nL 968.714205 680.716875 \r\nL 968.714205 680.716875 \r\nL 956.455114 680.716875 \r\nz\r\n\" style=\"fill:#ff7f0e;fill-opacity:0.5;stroke:#ffffff;stroke-linejoin:miter;stroke-width:0.3;\"/>\r\n   </g>\r\n   <g id=\"patch_74\">\r\n    <path clip-path=\"url(#p30f4854e1d)\" d=\"M 968.714205 680.716875 \r\nL 980.973295 680.716875 \r\nL 980.973295 680.716875 \r\nL 968.714205 680.716875 \r\nz\r\n\" style=\"fill:#ff7f0e;fill-opacity:0.5;stroke:#ffffff;stroke-linejoin:miter;stroke-width:0.3;\"/>\r\n   </g>\r\n   <g id=\"patch_75\">\r\n    <path clip-path=\"url(#p30f4854e1d)\" d=\"M 980.973295 680.716875 \r\nL 993.232386 680.716875 \r\nL 993.232386 680.716875 \r\nL 980.973295 680.716875 \r\nz\r\n\" style=\"fill:#ff7f0e;fill-opacity:0.5;stroke:#ffffff;stroke-linejoin:miter;stroke-width:0.3;\"/>\r\n   </g>\r\n   <g id=\"patch_76\">\r\n    <path clip-path=\"url(#p30f4854e1d)\" d=\"M 993.232386 680.716875 \r\nL 1005.491477 680.716875 \r\nL 1005.491477 680.716875 \r\nL 993.232386 680.716875 \r\nz\r\n\" style=\"fill:#ff7f0e;fill-opacity:0.5;stroke:#ffffff;stroke-linejoin:miter;stroke-width:0.3;\"/>\r\n   </g>\r\n   <g id=\"patch_77\">\r\n    <path clip-path=\"url(#p30f4854e1d)\" d=\"M 1005.491477 680.716875 \r\nL 1017.750568 680.716875 \r\nL 1017.750568 680.716875 \r\nL 1005.491477 680.716875 \r\nz\r\n\" style=\"fill:#ff7f0e;fill-opacity:0.5;stroke:#ffffff;stroke-linejoin:miter;stroke-width:0.3;\"/>\r\n   </g>\r\n   <g id=\"patch_78\">\r\n    <path clip-path=\"url(#p30f4854e1d)\" d=\"M 1017.750568 680.716875 \r\nL 1030.009659 680.716875 \r\nL 1030.009659 680.716875 \r\nL 1017.750568 680.716875 \r\nz\r\n\" style=\"fill:#ff7f0e;fill-opacity:0.5;stroke:#ffffff;stroke-linejoin:miter;stroke-width:0.3;\"/>\r\n   </g>\r\n   <g id=\"patch_79\">\r\n    <path clip-path=\"url(#p30f4854e1d)\" d=\"M 1030.009659 680.716875 \r\nL 1042.26875 680.716875 \r\nL 1042.26875 680.716875 \r\nL 1030.009659 680.716875 \r\nz\r\n\" style=\"fill:#ff7f0e;fill-opacity:0.5;stroke:#ffffff;stroke-linejoin:miter;stroke-width:0.3;\"/>\r\n   </g>\r\n   <g id=\"patch_80\">\r\n    <path clip-path=\"url(#p30f4854e1d)\" d=\"M 1042.26875 680.716875 \r\nL 1054.527841 680.716875 \r\nL 1054.527841 680.716875 \r\nL 1042.26875 680.716875 \r\nz\r\n\" style=\"fill:#ff7f0e;fill-opacity:0.5;stroke:#ffffff;stroke-linejoin:miter;stroke-width:0.3;\"/>\r\n   </g>\r\n   <g id=\"patch_81\">\r\n    <path clip-path=\"url(#p30f4854e1d)\" d=\"M 1054.527841 680.716875 \r\nL 1066.786932 680.716875 \r\nL 1066.786932 680.716875 \r\nL 1054.527841 680.716875 \r\nz\r\n\" style=\"fill:#ff7f0e;fill-opacity:0.5;stroke:#ffffff;stroke-linejoin:miter;stroke-width:0.3;\"/>\r\n   </g>\r\n   <g id=\"patch_82\">\r\n    <path clip-path=\"url(#p30f4854e1d)\" d=\"M 1066.786932 680.716875 \r\nL 1079.046023 680.716875 \r\nL 1079.046023 680.716875 \r\nL 1066.786932 680.716875 \r\nz\r\n\" style=\"fill:#ff7f0e;fill-opacity:0.5;stroke:#ffffff;stroke-linejoin:miter;stroke-width:0.3;\"/>\r\n   </g>\r\n   <g id=\"patch_83\">\r\n    <path clip-path=\"url(#p30f4854e1d)\" d=\"M 1079.046023 680.716875 \r\nL 1091.305114 680.716875 \r\nL 1091.305114 680.716875 \r\nL 1079.046023 680.716875 \r\nz\r\n\" style=\"fill:#ff7f0e;fill-opacity:0.5;stroke:#ffffff;stroke-linejoin:miter;stroke-width:0.3;\"/>\r\n   </g>\r\n   <g id=\"patch_84\">\r\n    <path clip-path=\"url(#p30f4854e1d)\" d=\"M 1091.305114 680.716875 \r\nL 1103.564205 680.716875 \r\nL 1103.564205 680.716875 \r\nL 1091.305114 680.716875 \r\nz\r\n\" style=\"fill:#ff7f0e;fill-opacity:0.5;stroke:#ffffff;stroke-linejoin:miter;stroke-width:0.3;\"/>\r\n   </g>\r\n   <g id=\"patch_85\">\r\n    <path clip-path=\"url(#p30f4854e1d)\" d=\"M 1103.564205 680.716875 \r\nL 1115.823295 680.716875 \r\nL 1115.823295 680.716875 \r\nL 1103.564205 680.716875 \r\nz\r\n\" style=\"fill:#ff7f0e;fill-opacity:0.5;stroke:#ffffff;stroke-linejoin:miter;stroke-width:0.3;\"/>\r\n   </g>\r\n   <g id=\"patch_86\">\r\n    <path clip-path=\"url(#p30f4854e1d)\" d=\"M 1115.823295 680.716875 \r\nL 1128.082386 680.716875 \r\nL 1128.082386 680.716875 \r\nL 1115.823295 680.716875 \r\nz\r\n\" style=\"fill:#ff7f0e;fill-opacity:0.5;stroke:#ffffff;stroke-linejoin:miter;stroke-width:0.3;\"/>\r\n   </g>\r\n   <g id=\"patch_87\">\r\n    <path clip-path=\"url(#p30f4854e1d)\" d=\"M 1128.082386 680.716875 \r\nL 1140.341477 680.716875 \r\nL 1140.341477 680.716875 \r\nL 1128.082386 680.716875 \r\nz\r\n\" style=\"fill:#ff7f0e;fill-opacity:0.5;stroke:#ffffff;stroke-linejoin:miter;stroke-width:0.3;\"/>\r\n   </g>\r\n   <g id=\"patch_88\">\r\n    <path clip-path=\"url(#p30f4854e1d)\" d=\"M 1140.341477 680.716875 \r\nL 1152.600568 680.716875 \r\nL 1152.600568 680.716875 \r\nL 1140.341477 680.716875 \r\nz\r\n\" style=\"fill:#ff7f0e;fill-opacity:0.5;stroke:#ffffff;stroke-linejoin:miter;stroke-width:0.3;\"/>\r\n   </g>\r\n   <g id=\"patch_89\">\r\n    <path clip-path=\"url(#p30f4854e1d)\" d=\"M 1152.600568 680.716875 \r\nL 1164.859659 680.716875 \r\nL 1164.859659 680.716875 \r\nL 1152.600568 680.716875 \r\nz\r\n\" style=\"fill:#ff7f0e;fill-opacity:0.5;stroke:#ffffff;stroke-linejoin:miter;stroke-width:0.3;\"/>\r\n   </g>\r\n   <g id=\"patch_90\">\r\n    <path clip-path=\"url(#p30f4854e1d)\" d=\"M 1164.859659 680.716875 \r\nL 1177.11875 680.716875 \r\nL 1177.11875 680.716875 \r\nL 1164.859659 680.716875 \r\nz\r\n\" style=\"fill:#ff7f0e;fill-opacity:0.5;stroke:#ffffff;stroke-linejoin:miter;stroke-width:0.3;\"/>\r\n   </g>\r\n   <g id=\"patch_91\">\r\n    <path clip-path=\"url(#p30f4854e1d)\" d=\"M 1177.11875 680.716875 \r\nL 1189.377841 680.716875 \r\nL 1189.377841 680.716875 \r\nL 1177.11875 680.716875 \r\nz\r\n\" style=\"fill:#ff7f0e;fill-opacity:0.5;stroke:#ffffff;stroke-linejoin:miter;stroke-width:0.3;\"/>\r\n   </g>\r\n   <g id=\"patch_92\">\r\n    <path clip-path=\"url(#p30f4854e1d)\" d=\"M 1189.377841 680.716875 \r\nL 1201.636932 680.716875 \r\nL 1201.636932 680.716875 \r\nL 1189.377841 680.716875 \r\nz\r\n\" style=\"fill:#ff7f0e;fill-opacity:0.5;stroke:#ffffff;stroke-linejoin:miter;stroke-width:0.3;\"/>\r\n   </g>\r\n   <g id=\"patch_93\">\r\n    <path clip-path=\"url(#p30f4854e1d)\" d=\"M 1201.636932 680.716875 \r\nL 1213.896023 680.716875 \r\nL 1213.896023 680.716875 \r\nL 1201.636932 680.716875 \r\nz\r\n\" style=\"fill:#ff7f0e;fill-opacity:0.5;stroke:#ffffff;stroke-linejoin:miter;stroke-width:0.3;\"/>\r\n   </g>\r\n   <g id=\"patch_94\">\r\n    <path clip-path=\"url(#p30f4854e1d)\" d=\"M 1213.896023 680.716875 \r\nL 1226.155114 680.716875 \r\nL 1226.155114 680.716875 \r\nL 1213.896023 680.716875 \r\nz\r\n\" style=\"fill:#ff7f0e;fill-opacity:0.5;stroke:#ffffff;stroke-linejoin:miter;stroke-width:0.3;\"/>\r\n   </g>\r\n   <g id=\"patch_95\">\r\n    <path clip-path=\"url(#p30f4854e1d)\" d=\"M 1226.155114 680.716875 \r\nL 1238.414205 680.716875 \r\nL 1238.414205 680.716875 \r\nL 1226.155114 680.716875 \r\nz\r\n\" style=\"fill:#ff7f0e;fill-opacity:0.5;stroke:#ffffff;stroke-linejoin:miter;stroke-width:0.3;\"/>\r\n   </g>\r\n   <g id=\"patch_96\">\r\n    <path clip-path=\"url(#p30f4854e1d)\" d=\"M 1238.414205 680.716875 \r\nL 1250.673295 680.716875 \r\nL 1250.673295 680.716875 \r\nL 1238.414205 680.716875 \r\nz\r\n\" style=\"fill:#ff7f0e;fill-opacity:0.5;stroke:#ffffff;stroke-linejoin:miter;stroke-width:0.3;\"/>\r\n   </g>\r\n   <g id=\"patch_97\">\r\n    <path clip-path=\"url(#p30f4854e1d)\" d=\"M 1250.673295 680.716875 \r\nL 1262.932386 680.716875 \r\nL 1262.932386 680.716875 \r\nL 1250.673295 680.716875 \r\nz\r\n\" style=\"fill:#ff7f0e;fill-opacity:0.5;stroke:#ffffff;stroke-linejoin:miter;stroke-width:0.3;\"/>\r\n   </g>\r\n   <g id=\"patch_98\">\r\n    <path clip-path=\"url(#p30f4854e1d)\" d=\"M 1262.932386 680.716875 \r\nL 1275.191477 680.716875 \r\nL 1275.191477 680.716875 \r\nL 1262.932386 680.716875 \r\nz\r\n\" style=\"fill:#ff7f0e;fill-opacity:0.5;stroke:#ffffff;stroke-linejoin:miter;stroke-width:0.3;\"/>\r\n   </g>\r\n   <g id=\"patch_99\">\r\n    <path clip-path=\"url(#p30f4854e1d)\" d=\"M 1275.191477 680.716875 \r\nL 1287.450568 680.716875 \r\nL 1287.450568 680.716875 \r\nL 1275.191477 680.716875 \r\nz\r\n\" style=\"fill:#ff7f0e;fill-opacity:0.5;stroke:#ffffff;stroke-linejoin:miter;stroke-width:0.3;\"/>\r\n   </g>\r\n   <g id=\"patch_100\">\r\n    <path clip-path=\"url(#p30f4854e1d)\" d=\"M 1287.450568 680.716875 \r\nL 1299.709659 680.716875 \r\nL 1299.709659 680.716875 \r\nL 1287.450568 680.716875 \r\nz\r\n\" style=\"fill:#ff7f0e;fill-opacity:0.5;stroke:#ffffff;stroke-linejoin:miter;stroke-width:0.3;\"/>\r\n   </g>\r\n   <g id=\"patch_101\">\r\n    <path clip-path=\"url(#p30f4854e1d)\" d=\"M 1299.709659 680.716875 \r\nL 1311.96875 680.716875 \r\nL 1311.96875 680.716875 \r\nL 1299.709659 680.716875 \r\nz\r\n\" style=\"fill:#ff7f0e;fill-opacity:0.5;stroke:#ffffff;stroke-linejoin:miter;stroke-width:0.3;\"/>\r\n   </g>\r\n   <g id=\"patch_102\">\r\n    <path clip-path=\"url(#p30f4854e1d)\" d=\"M 1311.96875 680.716875 \r\nL 1324.227841 680.716875 \r\nL 1324.227841 680.716875 \r\nL 1311.96875 680.716875 \r\nz\r\n\" style=\"fill:#ff7f0e;fill-opacity:0.5;stroke:#ffffff;stroke-linejoin:miter;stroke-width:0.3;\"/>\r\n   </g>\r\n   <g id=\"patch_103\">\r\n    <path clip-path=\"url(#p30f4854e1d)\" d=\"M 1324.227841 680.716875 \r\nL 1336.486932 680.716875 \r\nL 1336.486932 680.716875 \r\nL 1324.227841 680.716875 \r\nz\r\n\" style=\"fill:#ff7f0e;fill-opacity:0.5;stroke:#ffffff;stroke-linejoin:miter;stroke-width:0.3;\"/>\r\n   </g>\r\n   <g id=\"patch_104\">\r\n    <path clip-path=\"url(#p30f4854e1d)\" d=\"M 1336.486932 680.716875 \r\nL 1348.746023 680.716875 \r\nL 1348.746023 680.716875 \r\nL 1336.486932 680.716875 \r\nz\r\n\" style=\"fill:#ff7f0e;fill-opacity:0.5;stroke:#ffffff;stroke-linejoin:miter;stroke-width:0.3;\"/>\r\n   </g>\r\n   <g id=\"patch_105\">\r\n    <path clip-path=\"url(#p30f4854e1d)\" d=\"M 1348.746023 680.716875 \r\nL 1361.005114 680.716875 \r\nL 1361.005114 680.716875 \r\nL 1348.746023 680.716875 \r\nz\r\n\" style=\"fill:#ff7f0e;fill-opacity:0.5;stroke:#ffffff;stroke-linejoin:miter;stroke-width:0.3;\"/>\r\n   </g>\r\n   <g id=\"patch_106\">\r\n    <path clip-path=\"url(#p30f4854e1d)\" d=\"M 1361.005114 680.716875 \r\nL 1373.264205 680.716875 \r\nL 1373.264205 680.716875 \r\nL 1361.005114 680.716875 \r\nz\r\n\" style=\"fill:#ff7f0e;fill-opacity:0.5;stroke:#ffffff;stroke-linejoin:miter;stroke-width:0.3;\"/>\r\n   </g>\r\n   <g id=\"patch_107\">\r\n    <path clip-path=\"url(#p30f4854e1d)\" d=\"M 1373.264205 680.716875 \r\nL 1385.523295 680.716875 \r\nL 1385.523295 680.716875 \r\nL 1373.264205 680.716875 \r\nz\r\n\" style=\"fill:#ff7f0e;fill-opacity:0.5;stroke:#ffffff;stroke-linejoin:miter;stroke-width:0.3;\"/>\r\n   </g>\r\n   <g id=\"patch_108\">\r\n    <path clip-path=\"url(#p30f4854e1d)\" d=\"M 1385.523295 680.716875 \r\nL 1397.782386 680.716875 \r\nL 1397.782386 680.716875 \r\nL 1385.523295 680.716875 \r\nz\r\n\" style=\"fill:#ff7f0e;fill-opacity:0.5;stroke:#ffffff;stroke-linejoin:miter;stroke-width:0.3;\"/>\r\n   </g>\r\n   <g id=\"patch_109\">\r\n    <path clip-path=\"url(#p30f4854e1d)\" d=\"M 1397.782386 680.716875 \r\nL 1410.041477 680.716875 \r\nL 1410.041477 680.711373 \r\nL 1397.782386 680.711373 \r\nz\r\n\" style=\"fill:#ff7f0e;fill-opacity:0.5;stroke:#ffffff;stroke-linejoin:miter;stroke-width:0.3;\"/>\r\n   </g>\r\n   <g id=\"patch_110\">\r\n    <path clip-path=\"url(#p30f4854e1d)\" d=\"M 1410.041477 680.716875 \r\nL 1422.300568 680.716875 \r\nL 1422.300568 680.716875 \r\nL 1410.041477 680.716875 \r\nz\r\n\" style=\"fill:#ff7f0e;fill-opacity:0.5;stroke:#ffffff;stroke-linejoin:miter;stroke-width:0.3;\"/>\r\n   </g>\r\n   <g id=\"patch_111\">\r\n    <path clip-path=\"url(#p30f4854e1d)\" d=\"M 1422.300568 680.716875 \r\nL 1434.559659 680.716875 \r\nL 1434.559659 680.716875 \r\nL 1422.300568 680.716875 \r\nz\r\n\" style=\"fill:#ff7f0e;fill-opacity:0.5;stroke:#ffffff;stroke-linejoin:miter;stroke-width:0.3;\"/>\r\n   </g>\r\n   <g id=\"patch_112\">\r\n    <path clip-path=\"url(#p30f4854e1d)\" d=\"M 1434.559659 680.716875 \r\nL 1446.81875 680.716875 \r\nL 1446.81875 680.716875 \r\nL 1434.559659 680.716875 \r\nz\r\n\" style=\"fill:#ff7f0e;fill-opacity:0.5;stroke:#ffffff;stroke-linejoin:miter;stroke-width:0.3;\"/>\r\n   </g>\r\n   <g id=\"patch_113\">\r\n    <path clip-path=\"url(#p30f4854e1d)\" d=\"M 1446.81875 680.716875 \r\nL 1459.077841 680.716875 \r\nL 1459.077841 680.716875 \r\nL 1446.81875 680.716875 \r\nz\r\n\" style=\"fill:#ff7f0e;fill-opacity:0.5;stroke:#ffffff;stroke-linejoin:miter;stroke-width:0.3;\"/>\r\n   </g>\r\n   <g id=\"patch_114\">\r\n    <path clip-path=\"url(#p30f4854e1d)\" d=\"M 1459.077841 680.716875 \r\nL 1471.336932 680.716875 \r\nL 1471.336932 680.716875 \r\nL 1459.077841 680.716875 \r\nz\r\n\" style=\"fill:#ff7f0e;fill-opacity:0.5;stroke:#ffffff;stroke-linejoin:miter;stroke-width:0.3;\"/>\r\n   </g>\r\n   <g id=\"patch_115\">\r\n    <path clip-path=\"url(#p30f4854e1d)\" d=\"M 1471.336932 680.716875 \r\nL 1483.596023 680.716875 \r\nL 1483.596023 680.716875 \r\nL 1471.336932 680.716875 \r\nz\r\n\" style=\"fill:#ff7f0e;fill-opacity:0.5;stroke:#ffffff;stroke-linejoin:miter;stroke-width:0.3;\"/>\r\n   </g>\r\n   <g id=\"patch_116\">\r\n    <path clip-path=\"url(#p30f4854e1d)\" d=\"M 1483.596023 680.716875 \r\nL 1495.855114 680.716875 \r\nL 1495.855114 680.716875 \r\nL 1483.596023 680.716875 \r\nz\r\n\" style=\"fill:#ff7f0e;fill-opacity:0.5;stroke:#ffffff;stroke-linejoin:miter;stroke-width:0.3;\"/>\r\n   </g>\r\n   <g id=\"patch_117\">\r\n    <path clip-path=\"url(#p30f4854e1d)\" d=\"M 1495.855114 680.716875 \r\nL 1508.114205 680.716875 \r\nL 1508.114205 680.716875 \r\nL 1495.855114 680.716875 \r\nz\r\n\" style=\"fill:#ff7f0e;fill-opacity:0.5;stroke:#ffffff;stroke-linejoin:miter;stroke-width:0.3;\"/>\r\n   </g>\r\n   <g id=\"patch_118\">\r\n    <path clip-path=\"url(#p30f4854e1d)\" d=\"M 1508.114205 680.716875 \r\nL 1520.373295 680.716875 \r\nL 1520.373295 680.716875 \r\nL 1508.114205 680.716875 \r\nz\r\n\" style=\"fill:#ff7f0e;fill-opacity:0.5;stroke:#ffffff;stroke-linejoin:miter;stroke-width:0.3;\"/>\r\n   </g>\r\n   <g id=\"patch_119\">\r\n    <path clip-path=\"url(#p30f4854e1d)\" d=\"M 1520.373295 680.716875 \r\nL 1532.632386 680.716875 \r\nL 1532.632386 680.716875 \r\nL 1520.373295 680.716875 \r\nz\r\n\" style=\"fill:#ff7f0e;fill-opacity:0.5;stroke:#ffffff;stroke-linejoin:miter;stroke-width:0.3;\"/>\r\n   </g>\r\n   <g id=\"patch_120\">\r\n    <path clip-path=\"url(#p30f4854e1d)\" d=\"M 1532.632386 680.716875 \r\nL 1544.891477 680.716875 \r\nL 1544.891477 680.716875 \r\nL 1532.632386 680.716875 \r\nz\r\n\" style=\"fill:#ff7f0e;fill-opacity:0.5;stroke:#ffffff;stroke-linejoin:miter;stroke-width:0.3;\"/>\r\n   </g>\r\n   <g id=\"patch_121\">\r\n    <path clip-path=\"url(#p30f4854e1d)\" d=\"M 1544.891477 680.716875 \r\nL 1557.150568 680.716875 \r\nL 1557.150568 680.716875 \r\nL 1544.891477 680.716875 \r\nz\r\n\" style=\"fill:#ff7f0e;fill-opacity:0.5;stroke:#ffffff;stroke-linejoin:miter;stroke-width:0.3;\"/>\r\n   </g>\r\n   <g id=\"patch_122\">\r\n    <path clip-path=\"url(#p30f4854e1d)\" d=\"M 1557.150568 680.716875 \r\nL 1569.409659 680.716875 \r\nL 1569.409659 680.716875 \r\nL 1557.150568 680.716875 \r\nz\r\n\" style=\"fill:#ff7f0e;fill-opacity:0.5;stroke:#ffffff;stroke-linejoin:miter;stroke-width:0.3;\"/>\r\n   </g>\r\n   <g id=\"patch_123\">\r\n    <path clip-path=\"url(#p30f4854e1d)\" d=\"M 1569.409659 680.716875 \r\nL 1581.66875 680.716875 \r\nL 1581.66875 680.716875 \r\nL 1569.409659 680.716875 \r\nz\r\n\" style=\"fill:#ff7f0e;fill-opacity:0.5;stroke:#ffffff;stroke-linejoin:miter;stroke-width:0.3;\"/>\r\n   </g>\r\n   <g id=\"patch_124\">\r\n    <path clip-path=\"url(#p30f4854e1d)\" d=\"M 1581.66875 680.716875 \r\nL 1593.927841 680.716875 \r\nL 1593.927841 680.716875 \r\nL 1581.66875 680.716875 \r\nz\r\n\" style=\"fill:#ff7f0e;fill-opacity:0.5;stroke:#ffffff;stroke-linejoin:miter;stroke-width:0.3;\"/>\r\n   </g>\r\n   <g id=\"patch_125\">\r\n    <path clip-path=\"url(#p30f4854e1d)\" d=\"M 1593.927841 680.716875 \r\nL 1606.186932 680.716875 \r\nL 1606.186932 680.716875 \r\nL 1593.927841 680.716875 \r\nz\r\n\" style=\"fill:#ff7f0e;fill-opacity:0.5;stroke:#ffffff;stroke-linejoin:miter;stroke-width:0.3;\"/>\r\n   </g>\r\n   <g id=\"patch_126\">\r\n    <path clip-path=\"url(#p30f4854e1d)\" d=\"M 1606.186932 680.716875 \r\nL 1618.446023 680.716875 \r\nL 1618.446023 680.716875 \r\nL 1606.186932 680.716875 \r\nz\r\n\" style=\"fill:#ff7f0e;fill-opacity:0.5;stroke:#ffffff;stroke-linejoin:miter;stroke-width:0.3;\"/>\r\n   </g>\r\n   <g id=\"patch_127\">\r\n    <path clip-path=\"url(#p30f4854e1d)\" d=\"M 1618.446023 680.716875 \r\nL 1630.705114 680.716875 \r\nL 1630.705114 680.716875 \r\nL 1618.446023 680.716875 \r\nz\r\n\" style=\"fill:#ff7f0e;fill-opacity:0.5;stroke:#ffffff;stroke-linejoin:miter;stroke-width:0.3;\"/>\r\n   </g>\r\n   <g id=\"patch_128\">\r\n    <path clip-path=\"url(#p30f4854e1d)\" d=\"M 1630.705114 680.716875 \r\nL 1642.964205 680.716875 \r\nL 1642.964205 680.716875 \r\nL 1630.705114 680.716875 \r\nz\r\n\" style=\"fill:#ff7f0e;fill-opacity:0.5;stroke:#ffffff;stroke-linejoin:miter;stroke-width:0.3;\"/>\r\n   </g>\r\n   <g id=\"patch_129\">\r\n    <path clip-path=\"url(#p30f4854e1d)\" d=\"M 1642.964205 680.716875 \r\nL 1655.223295 680.716875 \r\nL 1655.223295 680.716875 \r\nL 1642.964205 680.716875 \r\nz\r\n\" style=\"fill:#ff7f0e;fill-opacity:0.5;stroke:#ffffff;stroke-linejoin:miter;stroke-width:0.3;\"/>\r\n   </g>\r\n   <g id=\"patch_130\">\r\n    <path clip-path=\"url(#p30f4854e1d)\" d=\"M 1655.223295 680.716875 \r\nL 1667.482386 680.716875 \r\nL 1667.482386 680.716875 \r\nL 1655.223295 680.716875 \r\nz\r\n\" style=\"fill:#ff7f0e;fill-opacity:0.5;stroke:#ffffff;stroke-linejoin:miter;stroke-width:0.3;\"/>\r\n   </g>\r\n   <g id=\"patch_131\">\r\n    <path clip-path=\"url(#p30f4854e1d)\" d=\"M 1667.482386 680.716875 \r\nL 1679.741477 680.716875 \r\nL 1679.741477 680.716875 \r\nL 1667.482386 680.716875 \r\nz\r\n\" style=\"fill:#ff7f0e;fill-opacity:0.5;stroke:#ffffff;stroke-linejoin:miter;stroke-width:0.3;\"/>\r\n   </g>\r\n   <g id=\"patch_132\">\r\n    <path clip-path=\"url(#p30f4854e1d)\" d=\"M 1679.741477 680.716875 \r\nL 1692.000568 680.716875 \r\nL 1692.000568 680.716875 \r\nL 1679.741477 680.716875 \r\nz\r\n\" style=\"fill:#ff7f0e;fill-opacity:0.5;stroke:#ffffff;stroke-linejoin:miter;stroke-width:0.3;\"/>\r\n   </g>\r\n   <g id=\"patch_133\">\r\n    <path clip-path=\"url(#p30f4854e1d)\" d=\"M 1692.000568 680.716875 \r\nL 1704.259659 680.716875 \r\nL 1704.259659 680.716875 \r\nL 1692.000568 680.716875 \r\nz\r\n\" style=\"fill:#ff7f0e;fill-opacity:0.5;stroke:#ffffff;stroke-linejoin:miter;stroke-width:0.3;\"/>\r\n   </g>\r\n   <g id=\"patch_134\">\r\n    <path clip-path=\"url(#p30f4854e1d)\" d=\"M 1704.259659 680.716875 \r\nL 1716.51875 680.716875 \r\nL 1716.51875 680.716875 \r\nL 1704.259659 680.716875 \r\nz\r\n\" style=\"fill:#ff7f0e;fill-opacity:0.5;stroke:#ffffff;stroke-linejoin:miter;stroke-width:0.3;\"/>\r\n   </g>\r\n   <g id=\"patch_135\">\r\n    <path clip-path=\"url(#p30f4854e1d)\" d=\"M 1716.51875 680.716875 \r\nL 1728.777841 680.716875 \r\nL 1728.777841 680.716875 \r\nL 1716.51875 680.716875 \r\nz\r\n\" style=\"fill:#ff7f0e;fill-opacity:0.5;stroke:#ffffff;stroke-linejoin:miter;stroke-width:0.3;\"/>\r\n   </g>\r\n   <g id=\"patch_136\">\r\n    <path clip-path=\"url(#p30f4854e1d)\" d=\"M 1728.777841 680.716875 \r\nL 1741.036932 680.716875 \r\nL 1741.036932 680.716875 \r\nL 1728.777841 680.716875 \r\nz\r\n\" style=\"fill:#ff7f0e;fill-opacity:0.5;stroke:#ffffff;stroke-linejoin:miter;stroke-width:0.3;\"/>\r\n   </g>\r\n   <g id=\"patch_137\">\r\n    <path clip-path=\"url(#p30f4854e1d)\" d=\"M 1741.036932 680.716875 \r\nL 1753.296023 680.716875 \r\nL 1753.296023 680.716875 \r\nL 1741.036932 680.716875 \r\nz\r\n\" style=\"fill:#ff7f0e;fill-opacity:0.5;stroke:#ffffff;stroke-linejoin:miter;stroke-width:0.3;\"/>\r\n   </g>\r\n   <g id=\"patch_138\">\r\n    <path clip-path=\"url(#p30f4854e1d)\" d=\"M 1753.296023 680.716875 \r\nL 1765.555114 680.716875 \r\nL 1765.555114 680.716875 \r\nL 1753.296023 680.716875 \r\nz\r\n\" style=\"fill:#ff7f0e;fill-opacity:0.5;stroke:#ffffff;stroke-linejoin:miter;stroke-width:0.3;\"/>\r\n   </g>\r\n   <g id=\"patch_139\">\r\n    <path clip-path=\"url(#p30f4854e1d)\" d=\"M 1765.555114 680.716875 \r\nL 1777.814205 680.716875 \r\nL 1777.814205 680.716875 \r\nL 1765.555114 680.716875 \r\nz\r\n\" style=\"fill:#ff7f0e;fill-opacity:0.5;stroke:#ffffff;stroke-linejoin:miter;stroke-width:0.3;\"/>\r\n   </g>\r\n   <g id=\"patch_140\">\r\n    <path clip-path=\"url(#p30f4854e1d)\" d=\"M 1777.814205 680.716875 \r\nL 1790.073295 680.716875 \r\nL 1790.073295 680.716875 \r\nL 1777.814205 680.716875 \r\nz\r\n\" style=\"fill:#ff7f0e;fill-opacity:0.5;stroke:#ffffff;stroke-linejoin:miter;stroke-width:0.3;\"/>\r\n   </g>\r\n   <g id=\"patch_141\">\r\n    <path clip-path=\"url(#p30f4854e1d)\" d=\"M 1790.073295 680.716875 \r\nL 1802.332386 680.716875 \r\nL 1802.332386 680.716875 \r\nL 1790.073295 680.716875 \r\nz\r\n\" style=\"fill:#ff7f0e;fill-opacity:0.5;stroke:#ffffff;stroke-linejoin:miter;stroke-width:0.3;\"/>\r\n   </g>\r\n   <g id=\"patch_142\">\r\n    <path clip-path=\"url(#p30f4854e1d)\" d=\"M 1802.332386 680.716875 \r\nL 1814.591477 680.716875 \r\nL 1814.591477 680.716875 \r\nL 1802.332386 680.716875 \r\nz\r\n\" style=\"fill:#ff7f0e;fill-opacity:0.5;stroke:#ffffff;stroke-linejoin:miter;stroke-width:0.3;\"/>\r\n   </g>\r\n   <g id=\"patch_143\">\r\n    <path clip-path=\"url(#p30f4854e1d)\" d=\"M 1814.591477 680.716875 \r\nL 1826.850568 680.716875 \r\nL 1826.850568 680.716875 \r\nL 1814.591477 680.716875 \r\nz\r\n\" style=\"fill:#ff7f0e;fill-opacity:0.5;stroke:#ffffff;stroke-linejoin:miter;stroke-width:0.3;\"/>\r\n   </g>\r\n   <g id=\"patch_144\">\r\n    <path clip-path=\"url(#p30f4854e1d)\" d=\"M 1826.850568 680.716875 \r\nL 1839.109659 680.716875 \r\nL 1839.109659 680.716875 \r\nL 1826.850568 680.716875 \r\nz\r\n\" style=\"fill:#ff7f0e;fill-opacity:0.5;stroke:#ffffff;stroke-linejoin:miter;stroke-width:0.3;\"/>\r\n   </g>\r\n   <g id=\"patch_145\">\r\n    <path clip-path=\"url(#p30f4854e1d)\" d=\"M 1839.109659 680.716875 \r\nL 1851.36875 680.716875 \r\nL 1851.36875 680.716875 \r\nL 1839.109659 680.716875 \r\nz\r\n\" style=\"fill:#ff7f0e;fill-opacity:0.5;stroke:#ffffff;stroke-linejoin:miter;stroke-width:0.3;\"/>\r\n   </g>\r\n   <g id=\"patch_146\">\r\n    <path clip-path=\"url(#p30f4854e1d)\" d=\"M 1851.36875 680.716875 \r\nL 1863.627841 680.716875 \r\nL 1863.627841 680.716875 \r\nL 1851.36875 680.716875 \r\nz\r\n\" style=\"fill:#ff7f0e;fill-opacity:0.5;stroke:#ffffff;stroke-linejoin:miter;stroke-width:0.3;\"/>\r\n   </g>\r\n   <g id=\"patch_147\">\r\n    <path clip-path=\"url(#p30f4854e1d)\" d=\"M 1863.627841 680.716875 \r\nL 1875.886932 680.716875 \r\nL 1875.886932 680.716875 \r\nL 1863.627841 680.716875 \r\nz\r\n\" style=\"fill:#ff7f0e;fill-opacity:0.5;stroke:#ffffff;stroke-linejoin:miter;stroke-width:0.3;\"/>\r\n   </g>\r\n   <g id=\"patch_148\">\r\n    <path clip-path=\"url(#p30f4854e1d)\" d=\"M 1875.886932 680.716875 \r\nL 1888.146023 680.716875 \r\nL 1888.146023 680.716875 \r\nL 1875.886932 680.716875 \r\nz\r\n\" style=\"fill:#ff7f0e;fill-opacity:0.5;stroke:#ffffff;stroke-linejoin:miter;stroke-width:0.3;\"/>\r\n   </g>\r\n   <g id=\"patch_149\">\r\n    <path clip-path=\"url(#p30f4854e1d)\" d=\"M 1888.146023 680.716875 \r\nL 1900.405114 680.716875 \r\nL 1900.405114 680.716875 \r\nL 1888.146023 680.716875 \r\nz\r\n\" style=\"fill:#ff7f0e;fill-opacity:0.5;stroke:#ffffff;stroke-linejoin:miter;stroke-width:0.3;\"/>\r\n   </g>\r\n   <g id=\"patch_150\">\r\n    <path clip-path=\"url(#p30f4854e1d)\" d=\"M 1900.405114 680.716875 \r\nL 1912.664205 680.716875 \r\nL 1912.664205 680.716875 \r\nL 1900.405114 680.716875 \r\nz\r\n\" style=\"fill:#ff7f0e;fill-opacity:0.5;stroke:#ffffff;stroke-linejoin:miter;stroke-width:0.3;\"/>\r\n   </g>\r\n   <g id=\"patch_151\">\r\n    <path clip-path=\"url(#p30f4854e1d)\" d=\"M 1912.664205 680.716875 \r\nL 1924.923295 680.716875 \r\nL 1924.923295 680.716875 \r\nL 1912.664205 680.716875 \r\nz\r\n\" style=\"fill:#ff7f0e;fill-opacity:0.5;stroke:#ffffff;stroke-linejoin:miter;stroke-width:0.3;\"/>\r\n   </g>\r\n   <g id=\"patch_152\">\r\n    <path clip-path=\"url(#p30f4854e1d)\" d=\"M 1924.923295 680.716875 \r\nL 1937.182386 680.716875 \r\nL 1937.182386 680.716875 \r\nL 1924.923295 680.716875 \r\nz\r\n\" style=\"fill:#ff7f0e;fill-opacity:0.5;stroke:#ffffff;stroke-linejoin:miter;stroke-width:0.3;\"/>\r\n   </g>\r\n   <g id=\"patch_153\">\r\n    <path clip-path=\"url(#p30f4854e1d)\" d=\"M 1937.182386 680.716875 \r\nL 1949.441477 680.716875 \r\nL 1949.441477 680.716875 \r\nL 1937.182386 680.716875 \r\nz\r\n\" style=\"fill:#ff7f0e;fill-opacity:0.5;stroke:#ffffff;stroke-linejoin:miter;stroke-width:0.3;\"/>\r\n   </g>\r\n   <g id=\"patch_154\">\r\n    <path clip-path=\"url(#p30f4854e1d)\" d=\"M 1949.441477 680.716875 \r\nL 1961.700568 680.716875 \r\nL 1961.700568 680.716875 \r\nL 1949.441477 680.716875 \r\nz\r\n\" style=\"fill:#ff7f0e;fill-opacity:0.5;stroke:#ffffff;stroke-linejoin:miter;stroke-width:0.3;\"/>\r\n   </g>\r\n   <g id=\"patch_155\">\r\n    <path clip-path=\"url(#p30f4854e1d)\" d=\"M 1961.700568 680.716875 \r\nL 1973.959659 680.716875 \r\nL 1973.959659 680.716875 \r\nL 1961.700568 680.716875 \r\nz\r\n\" style=\"fill:#ff7f0e;fill-opacity:0.5;stroke:#ffffff;stroke-linejoin:miter;stroke-width:0.3;\"/>\r\n   </g>\r\n   <g id=\"patch_156\">\r\n    <path clip-path=\"url(#p30f4854e1d)\" d=\"M 1973.959659 680.716875 \r\nL 1986.21875 680.716875 \r\nL 1986.21875 680.716875 \r\nL 1973.959659 680.716875 \r\nz\r\n\" style=\"fill:#ff7f0e;fill-opacity:0.5;stroke:#ffffff;stroke-linejoin:miter;stroke-width:0.3;\"/>\r\n   </g>\r\n   <g id=\"patch_157\">\r\n    <path clip-path=\"url(#p30f4854e1d)\" d=\"M 1986.21875 680.716875 \r\nL 1998.477841 680.716875 \r\nL 1998.477841 680.716875 \r\nL 1986.21875 680.716875 \r\nz\r\n\" style=\"fill:#ff7f0e;fill-opacity:0.5;stroke:#ffffff;stroke-linejoin:miter;stroke-width:0.3;\"/>\r\n   </g>\r\n   <g id=\"patch_158\">\r\n    <path clip-path=\"url(#p30f4854e1d)\" d=\"M 1998.477841 680.716875 \r\nL 2010.736932 680.716875 \r\nL 2010.736932 680.716875 \r\nL 1998.477841 680.716875 \r\nz\r\n\" style=\"fill:#ff7f0e;fill-opacity:0.5;stroke:#ffffff;stroke-linejoin:miter;stroke-width:0.3;\"/>\r\n   </g>\r\n   <g id=\"patch_159\">\r\n    <path clip-path=\"url(#p30f4854e1d)\" d=\"M 2010.736932 680.716875 \r\nL 2022.996023 680.716875 \r\nL 2022.996023 680.716875 \r\nL 2010.736932 680.716875 \r\nz\r\n\" style=\"fill:#ff7f0e;fill-opacity:0.5;stroke:#ffffff;stroke-linejoin:miter;stroke-width:0.3;\"/>\r\n   </g>\r\n   <g id=\"patch_160\">\r\n    <path clip-path=\"url(#p30f4854e1d)\" d=\"M 2022.996023 680.716875 \r\nL 2035.255114 680.716875 \r\nL 2035.255114 680.716875 \r\nL 2022.996023 680.716875 \r\nz\r\n\" style=\"fill:#ff7f0e;fill-opacity:0.5;stroke:#ffffff;stroke-linejoin:miter;stroke-width:0.3;\"/>\r\n   </g>\r\n   <g id=\"patch_161\">\r\n    <path clip-path=\"url(#p30f4854e1d)\" d=\"M 2035.255114 680.716875 \r\nL 2047.514205 680.716875 \r\nL 2047.514205 680.716875 \r\nL 2035.255114 680.716875 \r\nz\r\n\" style=\"fill:#ff7f0e;fill-opacity:0.5;stroke:#ffffff;stroke-linejoin:miter;stroke-width:0.3;\"/>\r\n   </g>\r\n   <g id=\"patch_162\">\r\n    <path clip-path=\"url(#p30f4854e1d)\" d=\"M 2047.514205 680.716875 \r\nL 2059.773295 680.716875 \r\nL 2059.773295 680.716875 \r\nL 2047.514205 680.716875 \r\nz\r\n\" style=\"fill:#ff7f0e;fill-opacity:0.5;stroke:#ffffff;stroke-linejoin:miter;stroke-width:0.3;\"/>\r\n   </g>\r\n   <g id=\"patch_163\">\r\n    <path clip-path=\"url(#p30f4854e1d)\" d=\"M 2059.773295 680.716875 \r\nL 2072.032386 680.716875 \r\nL 2072.032386 680.716875 \r\nL 2059.773295 680.716875 \r\nz\r\n\" style=\"fill:#ff7f0e;fill-opacity:0.5;stroke:#ffffff;stroke-linejoin:miter;stroke-width:0.3;\"/>\r\n   </g>\r\n   <g id=\"patch_164\">\r\n    <path clip-path=\"url(#p30f4854e1d)\" d=\"M 2072.032386 680.716875 \r\nL 2084.291477 680.716875 \r\nL 2084.291477 680.716875 \r\nL 2072.032386 680.716875 \r\nz\r\n\" style=\"fill:#ff7f0e;fill-opacity:0.5;stroke:#ffffff;stroke-linejoin:miter;stroke-width:0.3;\"/>\r\n   </g>\r\n   <g id=\"patch_165\">\r\n    <path clip-path=\"url(#p30f4854e1d)\" d=\"M 2084.291477 680.716875 \r\nL 2096.550568 680.716875 \r\nL 2096.550568 680.716875 \r\nL 2084.291477 680.716875 \r\nz\r\n\" style=\"fill:#ff7f0e;fill-opacity:0.5;stroke:#ffffff;stroke-linejoin:miter;stroke-width:0.3;\"/>\r\n   </g>\r\n   <g id=\"patch_166\">\r\n    <path clip-path=\"url(#p30f4854e1d)\" d=\"M 2096.550568 680.716875 \r\nL 2108.809659 680.716875 \r\nL 2108.809659 680.716875 \r\nL 2096.550568 680.716875 \r\nz\r\n\" style=\"fill:#ff7f0e;fill-opacity:0.5;stroke:#ffffff;stroke-linejoin:miter;stroke-width:0.3;\"/>\r\n   </g>\r\n   <g id=\"patch_167\">\r\n    <path clip-path=\"url(#p30f4854e1d)\" d=\"M 2108.809659 680.716875 \r\nL 2121.06875 680.716875 \r\nL 2121.06875 680.716875 \r\nL 2108.809659 680.716875 \r\nz\r\n\" style=\"fill:#ff7f0e;fill-opacity:0.5;stroke:#ffffff;stroke-linejoin:miter;stroke-width:0.3;\"/>\r\n   </g>\r\n   <g id=\"patch_168\">\r\n    <path clip-path=\"url(#p30f4854e1d)\" d=\"M 2121.06875 680.716875 \r\nL 2133.327841 680.716875 \r\nL 2133.327841 680.716875 \r\nL 2121.06875 680.716875 \r\nz\r\n\" style=\"fill:#ff7f0e;fill-opacity:0.5;stroke:#ffffff;stroke-linejoin:miter;stroke-width:0.3;\"/>\r\n   </g>\r\n   <g id=\"patch_169\">\r\n    <path clip-path=\"url(#p30f4854e1d)\" d=\"M 2133.327841 680.716875 \r\nL 2145.586932 680.716875 \r\nL 2145.586932 680.716875 \r\nL 2133.327841 680.716875 \r\nz\r\n\" style=\"fill:#ff7f0e;fill-opacity:0.5;stroke:#ffffff;stroke-linejoin:miter;stroke-width:0.3;\"/>\r\n   </g>\r\n   <g id=\"patch_170\">\r\n    <path clip-path=\"url(#p30f4854e1d)\" d=\"M 2145.586932 680.716875 \r\nL 2157.846023 680.716875 \r\nL 2157.846023 680.716875 \r\nL 2145.586932 680.716875 \r\nz\r\n\" style=\"fill:#ff7f0e;fill-opacity:0.5;stroke:#ffffff;stroke-linejoin:miter;stroke-width:0.3;\"/>\r\n   </g>\r\n   <g id=\"patch_171\">\r\n    <path clip-path=\"url(#p30f4854e1d)\" d=\"M 2157.846023 680.716875 \r\nL 2170.105114 680.716875 \r\nL 2170.105114 680.716875 \r\nL 2157.846023 680.716875 \r\nz\r\n\" style=\"fill:#ff7f0e;fill-opacity:0.5;stroke:#ffffff;stroke-linejoin:miter;stroke-width:0.3;\"/>\r\n   </g>\r\n   <g id=\"patch_172\">\r\n    <path clip-path=\"url(#p30f4854e1d)\" d=\"M 2170.105114 680.716875 \r\nL 2182.364205 680.716875 \r\nL 2182.364205 680.716875 \r\nL 2170.105114 680.716875 \r\nz\r\n\" style=\"fill:#ff7f0e;fill-opacity:0.5;stroke:#ffffff;stroke-linejoin:miter;stroke-width:0.3;\"/>\r\n   </g>\r\n   <g id=\"patch_173\">\r\n    <path clip-path=\"url(#p30f4854e1d)\" d=\"M 2182.364205 680.716875 \r\nL 2194.623295 680.716875 \r\nL 2194.623295 680.716875 \r\nL 2182.364205 680.716875 \r\nz\r\n\" style=\"fill:#ff7f0e;fill-opacity:0.5;stroke:#ffffff;stroke-linejoin:miter;stroke-width:0.3;\"/>\r\n   </g>\r\n   <g id=\"patch_174\">\r\n    <path clip-path=\"url(#p30f4854e1d)\" d=\"M 2194.623295 680.716875 \r\nL 2206.882386 680.716875 \r\nL 2206.882386 680.716875 \r\nL 2194.623295 680.716875 \r\nz\r\n\" style=\"fill:#ff7f0e;fill-opacity:0.5;stroke:#ffffff;stroke-linejoin:miter;stroke-width:0.3;\"/>\r\n   </g>\r\n   <g id=\"patch_175\">\r\n    <path clip-path=\"url(#p30f4854e1d)\" d=\"M 2206.882386 680.716875 \r\nL 2219.141477 680.716875 \r\nL 2219.141477 680.716875 \r\nL 2206.882386 680.716875 \r\nz\r\n\" style=\"fill:#ff7f0e;fill-opacity:0.5;stroke:#ffffff;stroke-linejoin:miter;stroke-width:0.3;\"/>\r\n   </g>\r\n   <g id=\"patch_176\">\r\n    <path clip-path=\"url(#p30f4854e1d)\" d=\"M 2219.141477 680.716875 \r\nL 2231.400568 680.716875 \r\nL 2231.400568 680.716875 \r\nL 2219.141477 680.716875 \r\nz\r\n\" style=\"fill:#ff7f0e;fill-opacity:0.5;stroke:#ffffff;stroke-linejoin:miter;stroke-width:0.3;\"/>\r\n   </g>\r\n   <g id=\"patch_177\">\r\n    <path clip-path=\"url(#p30f4854e1d)\" d=\"M 2231.400568 680.716875 \r\nL 2243.659659 680.716875 \r\nL 2243.659659 680.716875 \r\nL 2231.400568 680.716875 \r\nz\r\n\" style=\"fill:#ff7f0e;fill-opacity:0.5;stroke:#ffffff;stroke-linejoin:miter;stroke-width:0.3;\"/>\r\n   </g>\r\n   <g id=\"patch_178\">\r\n    <path clip-path=\"url(#p30f4854e1d)\" d=\"M 2243.659659 680.716875 \r\nL 2255.91875 680.716875 \r\nL 2255.91875 680.716875 \r\nL 2243.659659 680.716875 \r\nz\r\n\" style=\"fill:#ff7f0e;fill-opacity:0.5;stroke:#ffffff;stroke-linejoin:miter;stroke-width:0.3;\"/>\r\n   </g>\r\n   <g id=\"patch_179\">\r\n    <path clip-path=\"url(#p30f4854e1d)\" d=\"M 2255.91875 680.716875 \r\nL 2268.177841 680.716875 \r\nL 2268.177841 680.716875 \r\nL 2255.91875 680.716875 \r\nz\r\n\" style=\"fill:#ff7f0e;fill-opacity:0.5;stroke:#ffffff;stroke-linejoin:miter;stroke-width:0.3;\"/>\r\n   </g>\r\n   <g id=\"patch_180\">\r\n    <path clip-path=\"url(#p30f4854e1d)\" d=\"M 2268.177841 680.716875 \r\nL 2280.436932 680.716875 \r\nL 2280.436932 680.716875 \r\nL 2268.177841 680.716875 \r\nz\r\n\" style=\"fill:#ff7f0e;fill-opacity:0.5;stroke:#ffffff;stroke-linejoin:miter;stroke-width:0.3;\"/>\r\n   </g>\r\n   <g id=\"patch_181\">\r\n    <path clip-path=\"url(#p30f4854e1d)\" d=\"M 2280.436932 680.716875 \r\nL 2292.696023 680.716875 \r\nL 2292.696023 680.716875 \r\nL 2280.436932 680.716875 \r\nz\r\n\" style=\"fill:#ff7f0e;fill-opacity:0.5;stroke:#ffffff;stroke-linejoin:miter;stroke-width:0.3;\"/>\r\n   </g>\r\n   <g id=\"patch_182\">\r\n    <path clip-path=\"url(#p30f4854e1d)\" d=\"M 2292.696023 680.716875 \r\nL 2304.955114 680.716875 \r\nL 2304.955114 680.716875 \r\nL 2292.696023 680.716875 \r\nz\r\n\" style=\"fill:#ff7f0e;fill-opacity:0.5;stroke:#ffffff;stroke-linejoin:miter;stroke-width:0.3;\"/>\r\n   </g>\r\n   <g id=\"patch_183\">\r\n    <path clip-path=\"url(#p30f4854e1d)\" d=\"M 2304.955114 680.716875 \r\nL 2317.214205 680.716875 \r\nL 2317.214205 680.716875 \r\nL 2304.955114 680.716875 \r\nz\r\n\" style=\"fill:#ff7f0e;fill-opacity:0.5;stroke:#ffffff;stroke-linejoin:miter;stroke-width:0.3;\"/>\r\n   </g>\r\n   <g id=\"patch_184\">\r\n    <path clip-path=\"url(#p30f4854e1d)\" d=\"M 2317.214205 680.716875 \r\nL 2329.473295 680.716875 \r\nL 2329.473295 680.716875 \r\nL 2317.214205 680.716875 \r\nz\r\n\" style=\"fill:#ff7f0e;fill-opacity:0.5;stroke:#ffffff;stroke-linejoin:miter;stroke-width:0.3;\"/>\r\n   </g>\r\n   <g id=\"patch_185\">\r\n    <path clip-path=\"url(#p30f4854e1d)\" d=\"M 2329.473295 680.716875 \r\nL 2341.732386 680.716875 \r\nL 2341.732386 680.716875 \r\nL 2329.473295 680.716875 \r\nz\r\n\" style=\"fill:#ff7f0e;fill-opacity:0.5;stroke:#ffffff;stroke-linejoin:miter;stroke-width:0.3;\"/>\r\n   </g>\r\n   <g id=\"patch_186\">\r\n    <path clip-path=\"url(#p30f4854e1d)\" d=\"M 2341.732386 680.716875 \r\nL 2353.991477 680.716875 \r\nL 2353.991477 680.716875 \r\nL 2341.732386 680.716875 \r\nz\r\n\" style=\"fill:#ff7f0e;fill-opacity:0.5;stroke:#ffffff;stroke-linejoin:miter;stroke-width:0.3;\"/>\r\n   </g>\r\n   <g id=\"patch_187\">\r\n    <path clip-path=\"url(#p30f4854e1d)\" d=\"M 2353.991477 680.716875 \r\nL 2366.250568 680.716875 \r\nL 2366.250568 680.716875 \r\nL 2353.991477 680.716875 \r\nz\r\n\" style=\"fill:#ff7f0e;fill-opacity:0.5;stroke:#ffffff;stroke-linejoin:miter;stroke-width:0.3;\"/>\r\n   </g>\r\n   <g id=\"patch_188\">\r\n    <path clip-path=\"url(#p30f4854e1d)\" d=\"M 2366.250568 680.716875 \r\nL 2378.509659 680.716875 \r\nL 2378.509659 680.716875 \r\nL 2366.250568 680.716875 \r\nz\r\n\" style=\"fill:#ff7f0e;fill-opacity:0.5;stroke:#ffffff;stroke-linejoin:miter;stroke-width:0.3;\"/>\r\n   </g>\r\n   <g id=\"patch_189\">\r\n    <path clip-path=\"url(#p30f4854e1d)\" d=\"M 2378.509659 680.716875 \r\nL 2390.76875 680.716875 \r\nL 2390.76875 680.716875 \r\nL 2378.509659 680.716875 \r\nz\r\n\" style=\"fill:#ff7f0e;fill-opacity:0.5;stroke:#ffffff;stroke-linejoin:miter;stroke-width:0.3;\"/>\r\n   </g>\r\n   <g id=\"patch_190\">\r\n    <path clip-path=\"url(#p30f4854e1d)\" d=\"M 2390.76875 680.716875 \r\nL 2403.027841 680.716875 \r\nL 2403.027841 680.716875 \r\nL 2390.76875 680.716875 \r\nz\r\n\" style=\"fill:#ff7f0e;fill-opacity:0.5;stroke:#ffffff;stroke-linejoin:miter;stroke-width:0.3;\"/>\r\n   </g>\r\n   <g id=\"patch_191\">\r\n    <path clip-path=\"url(#p30f4854e1d)\" d=\"M 2403.027841 680.716875 \r\nL 2415.286932 680.716875 \r\nL 2415.286932 680.716875 \r\nL 2403.027841 680.716875 \r\nz\r\n\" style=\"fill:#ff7f0e;fill-opacity:0.5;stroke:#ffffff;stroke-linejoin:miter;stroke-width:0.3;\"/>\r\n   </g>\r\n   <g id=\"patch_192\">\r\n    <path clip-path=\"url(#p30f4854e1d)\" d=\"M 2415.286932 680.716875 \r\nL 2427.546023 680.716875 \r\nL 2427.546023 680.716875 \r\nL 2415.286932 680.716875 \r\nz\r\n\" style=\"fill:#ff7f0e;fill-opacity:0.5;stroke:#ffffff;stroke-linejoin:miter;stroke-width:0.3;\"/>\r\n   </g>\r\n   <g id=\"patch_193\">\r\n    <path clip-path=\"url(#p30f4854e1d)\" d=\"M 2427.546023 680.716875 \r\nL 2439.805114 680.716875 \r\nL 2439.805114 680.716875 \r\nL 2427.546023 680.716875 \r\nz\r\n\" style=\"fill:#ff7f0e;fill-opacity:0.5;stroke:#ffffff;stroke-linejoin:miter;stroke-width:0.3;\"/>\r\n   </g>\r\n   <g id=\"patch_194\">\r\n    <path clip-path=\"url(#p30f4854e1d)\" d=\"M 2439.805114 680.716875 \r\nL 2452.064205 680.716875 \r\nL 2452.064205 680.716875 \r\nL 2439.805114 680.716875 \r\nz\r\n\" style=\"fill:#ff7f0e;fill-opacity:0.5;stroke:#ffffff;stroke-linejoin:miter;stroke-width:0.3;\"/>\r\n   </g>\r\n   <g id=\"patch_195\">\r\n    <path clip-path=\"url(#p30f4854e1d)\" d=\"M 2452.064205 680.716875 \r\nL 2464.323295 680.716875 \r\nL 2464.323295 680.716875 \r\nL 2452.064205 680.716875 \r\nz\r\n\" style=\"fill:#ff7f0e;fill-opacity:0.5;stroke:#ffffff;stroke-linejoin:miter;stroke-width:0.3;\"/>\r\n   </g>\r\n   <g id=\"patch_196\">\r\n    <path clip-path=\"url(#p30f4854e1d)\" d=\"M 2464.323295 680.716875 \r\nL 2476.582386 680.716875 \r\nL 2476.582386 680.716875 \r\nL 2464.323295 680.716875 \r\nz\r\n\" style=\"fill:#ff7f0e;fill-opacity:0.5;stroke:#ffffff;stroke-linejoin:miter;stroke-width:0.3;\"/>\r\n   </g>\r\n   <g id=\"patch_197\">\r\n    <path clip-path=\"url(#p30f4854e1d)\" d=\"M 2476.582386 680.716875 \r\nL 2488.841477 680.716875 \r\nL 2488.841477 680.716875 \r\nL 2476.582386 680.716875 \r\nz\r\n\" style=\"fill:#ff7f0e;fill-opacity:0.5;stroke:#ffffff;stroke-linejoin:miter;stroke-width:0.3;\"/>\r\n   </g>\r\n   <g id=\"patch_198\">\r\n    <path clip-path=\"url(#p30f4854e1d)\" d=\"M 2488.841477 680.716875 \r\nL 2501.100568 680.716875 \r\nL 2501.100568 680.716875 \r\nL 2488.841477 680.716875 \r\nz\r\n\" style=\"fill:#ff7f0e;fill-opacity:0.5;stroke:#ffffff;stroke-linejoin:miter;stroke-width:0.3;\"/>\r\n   </g>\r\n   <g id=\"patch_199\">\r\n    <path clip-path=\"url(#p30f4854e1d)\" d=\"M 2501.100568 680.716875 \r\nL 2513.359659 680.716875 \r\nL 2513.359659 680.716875 \r\nL 2501.100568 680.716875 \r\nz\r\n\" style=\"fill:#ff7f0e;fill-opacity:0.5;stroke:#ffffff;stroke-linejoin:miter;stroke-width:0.3;\"/>\r\n   </g>\r\n   <g id=\"patch_200\">\r\n    <path clip-path=\"url(#p30f4854e1d)\" d=\"M 2513.359659 680.716875 \r\nL 2525.61875 680.716875 \r\nL 2525.61875 680.716875 \r\nL 2513.359659 680.716875 \r\nz\r\n\" style=\"fill:#ff7f0e;fill-opacity:0.5;stroke:#ffffff;stroke-linejoin:miter;stroke-width:0.3;\"/>\r\n   </g>\r\n   <g id=\"patch_201\">\r\n    <path clip-path=\"url(#p30f4854e1d)\" d=\"M 98.31875 680.716875 \r\nL 110.577841 680.716875 \r\nL 110.577841 680.716875 \r\nL 98.31875 680.716875 \r\nz\r\n\" style=\"fill:#1f77b4;fill-opacity:0.5;stroke:#ffffff;stroke-linejoin:miter;stroke-width:0.3;\"/>\r\n   </g>\r\n   <g id=\"patch_202\">\r\n    <path clip-path=\"url(#p30f4854e1d)\" d=\"M 110.577841 680.716875 \r\nL 122.836932 680.716875 \r\nL 122.836932 680.716875 \r\nL 110.577841 680.716875 \r\nz\r\n\" style=\"fill:#1f77b4;fill-opacity:0.5;stroke:#ffffff;stroke-linejoin:miter;stroke-width:0.3;\"/>\r\n   </g>\r\n   <g id=\"patch_203\">\r\n    <path clip-path=\"url(#p30f4854e1d)\" d=\"M 122.836932 680.716875 \r\nL 135.096023 680.716875 \r\nL 135.096023 680.716875 \r\nL 122.836932 680.716875 \r\nz\r\n\" style=\"fill:#1f77b4;fill-opacity:0.5;stroke:#ffffff;stroke-linejoin:miter;stroke-width:0.3;\"/>\r\n   </g>\r\n   <g id=\"patch_204\">\r\n    <path clip-path=\"url(#p30f4854e1d)\" d=\"M 135.096023 680.716875 \r\nL 147.355114 680.716875 \r\nL 147.355114 680.716875 \r\nL 135.096023 680.716875 \r\nz\r\n\" style=\"fill:#1f77b4;fill-opacity:0.5;stroke:#ffffff;stroke-linejoin:miter;stroke-width:0.3;\"/>\r\n   </g>\r\n   <g id=\"patch_205\">\r\n    <path clip-path=\"url(#p30f4854e1d)\" d=\"M 147.355114 680.716875 \r\nL 159.614205 680.716875 \r\nL 159.614205 680.716875 \r\nL 147.355114 680.716875 \r\nz\r\n\" style=\"fill:#1f77b4;fill-opacity:0.5;stroke:#ffffff;stroke-linejoin:miter;stroke-width:0.3;\"/>\r\n   </g>\r\n   <g id=\"patch_206\">\r\n    <path clip-path=\"url(#p30f4854e1d)\" d=\"M 159.614205 680.716875 \r\nL 171.873295 680.716875 \r\nL 171.873295 680.716875 \r\nL 159.614205 680.716875 \r\nz\r\n\" style=\"fill:#1f77b4;fill-opacity:0.5;stroke:#ffffff;stroke-linejoin:miter;stroke-width:0.3;\"/>\r\n   </g>\r\n   <g id=\"patch_207\">\r\n    <path clip-path=\"url(#p30f4854e1d)\" d=\"M 171.873295 680.716875 \r\nL 184.132386 680.716875 \r\nL 184.132386 680.716875 \r\nL 171.873295 680.716875 \r\nz\r\n\" style=\"fill:#1f77b4;fill-opacity:0.5;stroke:#ffffff;stroke-linejoin:miter;stroke-width:0.3;\"/>\r\n   </g>\r\n   <g id=\"patch_208\">\r\n    <path clip-path=\"url(#p30f4854e1d)\" d=\"M 184.132386 680.716875 \r\nL 196.391477 680.716875 \r\nL 196.391477 680.716875 \r\nL 184.132386 680.716875 \r\nz\r\n\" style=\"fill:#1f77b4;fill-opacity:0.5;stroke:#ffffff;stroke-linejoin:miter;stroke-width:0.3;\"/>\r\n   </g>\r\n   <g id=\"patch_209\">\r\n    <path clip-path=\"url(#p30f4854e1d)\" d=\"M 196.391477 680.716875 \r\nL 208.650568 680.716875 \r\nL 208.650568 680.716875 \r\nL 196.391477 680.716875 \r\nz\r\n\" style=\"fill:#1f77b4;fill-opacity:0.5;stroke:#ffffff;stroke-linejoin:miter;stroke-width:0.3;\"/>\r\n   </g>\r\n   <g id=\"patch_210\">\r\n    <path clip-path=\"url(#p30f4854e1d)\" d=\"M 208.650568 680.716875 \r\nL 220.909659 680.716875 \r\nL 220.909659 680.716875 \r\nL 208.650568 680.716875 \r\nz\r\n\" style=\"fill:#1f77b4;fill-opacity:0.5;stroke:#ffffff;stroke-linejoin:miter;stroke-width:0.3;\"/>\r\n   </g>\r\n   <g id=\"patch_211\">\r\n    <path clip-path=\"url(#p30f4854e1d)\" d=\"M 220.909659 680.716875 \r\nL 233.16875 680.716875 \r\nL 233.16875 680.716875 \r\nL 220.909659 680.716875 \r\nz\r\n\" style=\"fill:#1f77b4;fill-opacity:0.5;stroke:#ffffff;stroke-linejoin:miter;stroke-width:0.3;\"/>\r\n   </g>\r\n   <g id=\"patch_212\">\r\n    <path clip-path=\"url(#p30f4854e1d)\" d=\"M 233.16875 680.716875 \r\nL 245.427841 680.716875 \r\nL 245.427841 680.716875 \r\nL 233.16875 680.716875 \r\nz\r\n\" style=\"fill:#1f77b4;fill-opacity:0.5;stroke:#ffffff;stroke-linejoin:miter;stroke-width:0.3;\"/>\r\n   </g>\r\n   <g id=\"patch_213\">\r\n    <path clip-path=\"url(#p30f4854e1d)\" d=\"M 245.427841 680.716875 \r\nL 257.686932 680.716875 \r\nL 257.686932 680.716875 \r\nL 245.427841 680.716875 \r\nz\r\n\" style=\"fill:#1f77b4;fill-opacity:0.5;stroke:#ffffff;stroke-linejoin:miter;stroke-width:0.3;\"/>\r\n   </g>\r\n   <g id=\"patch_214\">\r\n    <path clip-path=\"url(#p30f4854e1d)\" d=\"M 257.686932 680.716875 \r\nL 269.946023 680.716875 \r\nL 269.946023 680.716875 \r\nL 257.686932 680.716875 \r\nz\r\n\" style=\"fill:#1f77b4;fill-opacity:0.5;stroke:#ffffff;stroke-linejoin:miter;stroke-width:0.3;\"/>\r\n   </g>\r\n   <g id=\"patch_215\">\r\n    <path clip-path=\"url(#p30f4854e1d)\" d=\"M 269.946023 680.716875 \r\nL 282.205114 680.716875 \r\nL 282.205114 680.716875 \r\nL 269.946023 680.716875 \r\nz\r\n\" style=\"fill:#1f77b4;fill-opacity:0.5;stroke:#ffffff;stroke-linejoin:miter;stroke-width:0.3;\"/>\r\n   </g>\r\n   <g id=\"patch_216\">\r\n    <path clip-path=\"url(#p30f4854e1d)\" d=\"M 282.205114 680.716875 \r\nL 294.464205 680.716875 \r\nL 294.464205 680.711373 \r\nL 282.205114 680.711373 \r\nz\r\n\" style=\"fill:#1f77b4;fill-opacity:0.5;stroke:#ffffff;stroke-linejoin:miter;stroke-width:0.3;\"/>\r\n   </g>\r\n   <g id=\"patch_217\">\r\n    <path clip-path=\"url(#p30f4854e1d)\" d=\"M 294.464205 680.716875 \r\nL 306.723295 680.716875 \r\nL 306.723295 680.716875 \r\nL 294.464205 680.716875 \r\nz\r\n\" style=\"fill:#1f77b4;fill-opacity:0.5;stroke:#ffffff;stroke-linejoin:miter;stroke-width:0.3;\"/>\r\n   </g>\r\n   <g id=\"patch_218\">\r\n    <path clip-path=\"url(#p30f4854e1d)\" d=\"M 306.723295 680.716875 \r\nL 318.982386 680.716875 \r\nL 318.982386 680.716875 \r\nL 306.723295 680.716875 \r\nz\r\n\" style=\"fill:#1f77b4;fill-opacity:0.5;stroke:#ffffff;stroke-linejoin:miter;stroke-width:0.3;\"/>\r\n   </g>\r\n   <g id=\"patch_219\">\r\n    <path clip-path=\"url(#p30f4854e1d)\" d=\"M 318.982386 680.716875 \r\nL 331.241477 680.716875 \r\nL 331.241477 680.716875 \r\nL 318.982386 680.716875 \r\nz\r\n\" style=\"fill:#1f77b4;fill-opacity:0.5;stroke:#ffffff;stroke-linejoin:miter;stroke-width:0.3;\"/>\r\n   </g>\r\n   <g id=\"patch_220\">\r\n    <path clip-path=\"url(#p30f4854e1d)\" d=\"M 331.241477 680.716875 \r\nL 343.500568 680.716875 \r\nL 343.500568 680.716875 \r\nL 331.241477 680.716875 \r\nz\r\n\" style=\"fill:#1f77b4;fill-opacity:0.5;stroke:#ffffff;stroke-linejoin:miter;stroke-width:0.3;\"/>\r\n   </g>\r\n   <g id=\"patch_221\">\r\n    <path clip-path=\"url(#p30f4854e1d)\" d=\"M 343.500568 680.716875 \r\nL 355.759659 680.716875 \r\nL 355.759659 680.716875 \r\nL 343.500568 680.716875 \r\nz\r\n\" style=\"fill:#1f77b4;fill-opacity:0.5;stroke:#ffffff;stroke-linejoin:miter;stroke-width:0.3;\"/>\r\n   </g>\r\n   <g id=\"patch_222\">\r\n    <path clip-path=\"url(#p30f4854e1d)\" d=\"M 355.759659 680.716875 \r\nL 368.01875 680.716875 \r\nL 368.01875 680.716875 \r\nL 355.759659 680.716875 \r\nz\r\n\" style=\"fill:#1f77b4;fill-opacity:0.5;stroke:#ffffff;stroke-linejoin:miter;stroke-width:0.3;\"/>\r\n   </g>\r\n   <g id=\"patch_223\">\r\n    <path clip-path=\"url(#p30f4854e1d)\" d=\"M 368.01875 680.716875 \r\nL 380.277841 680.716875 \r\nL 380.277841 680.716875 \r\nL 368.01875 680.716875 \r\nz\r\n\" style=\"fill:#1f77b4;fill-opacity:0.5;stroke:#ffffff;stroke-linejoin:miter;stroke-width:0.3;\"/>\r\n   </g>\r\n   <g id=\"patch_224\">\r\n    <path clip-path=\"url(#p30f4854e1d)\" d=\"M 380.277841 680.716875 \r\nL 392.536932 680.716875 \r\nL 392.536932 680.716875 \r\nL 380.277841 680.716875 \r\nz\r\n\" style=\"fill:#1f77b4;fill-opacity:0.5;stroke:#ffffff;stroke-linejoin:miter;stroke-width:0.3;\"/>\r\n   </g>\r\n   <g id=\"patch_225\">\r\n    <path clip-path=\"url(#p30f4854e1d)\" d=\"M 392.536932 680.716875 \r\nL 404.796023 680.716875 \r\nL 404.796023 680.716875 \r\nL 392.536932 680.716875 \r\nz\r\n\" style=\"fill:#1f77b4;fill-opacity:0.5;stroke:#ffffff;stroke-linejoin:miter;stroke-width:0.3;\"/>\r\n   </g>\r\n   <g id=\"patch_226\">\r\n    <path clip-path=\"url(#p30f4854e1d)\" d=\"M 404.796023 680.716875 \r\nL 417.055114 680.716875 \r\nL 417.055114 680.716875 \r\nL 404.796023 680.716875 \r\nz\r\n\" style=\"fill:#1f77b4;fill-opacity:0.5;stroke:#ffffff;stroke-linejoin:miter;stroke-width:0.3;\"/>\r\n   </g>\r\n   <g id=\"patch_227\">\r\n    <path clip-path=\"url(#p30f4854e1d)\" d=\"M 417.055114 680.716875 \r\nL 429.314205 680.716875 \r\nL 429.314205 680.716875 \r\nL 417.055114 680.716875 \r\nz\r\n\" style=\"fill:#1f77b4;fill-opacity:0.5;stroke:#ffffff;stroke-linejoin:miter;stroke-width:0.3;\"/>\r\n   </g>\r\n   <g id=\"patch_228\">\r\n    <path clip-path=\"url(#p30f4854e1d)\" d=\"M 429.314205 680.716875 \r\nL 441.573295 680.716875 \r\nL 441.573295 680.716875 \r\nL 429.314205 680.716875 \r\nz\r\n\" style=\"fill:#1f77b4;fill-opacity:0.5;stroke:#ffffff;stroke-linejoin:miter;stroke-width:0.3;\"/>\r\n   </g>\r\n   <g id=\"patch_229\">\r\n    <path clip-path=\"url(#p30f4854e1d)\" d=\"M 441.573295 680.716875 \r\nL 453.832386 680.716875 \r\nL 453.832386 680.716875 \r\nL 441.573295 680.716875 \r\nz\r\n\" style=\"fill:#1f77b4;fill-opacity:0.5;stroke:#ffffff;stroke-linejoin:miter;stroke-width:0.3;\"/>\r\n   </g>\r\n   <g id=\"patch_230\">\r\n    <path clip-path=\"url(#p30f4854e1d)\" d=\"M 453.832386 680.716875 \r\nL 466.091477 680.716875 \r\nL 466.091477 680.716875 \r\nL 453.832386 680.716875 \r\nz\r\n\" style=\"fill:#1f77b4;fill-opacity:0.5;stroke:#ffffff;stroke-linejoin:miter;stroke-width:0.3;\"/>\r\n   </g>\r\n   <g id=\"patch_231\">\r\n    <path clip-path=\"url(#p30f4854e1d)\" d=\"M 466.091477 680.716875 \r\nL 478.350568 680.716875 \r\nL 478.350568 680.716875 \r\nL 466.091477 680.716875 \r\nz\r\n\" style=\"fill:#1f77b4;fill-opacity:0.5;stroke:#ffffff;stroke-linejoin:miter;stroke-width:0.3;\"/>\r\n   </g>\r\n   <g id=\"patch_232\">\r\n    <path clip-path=\"url(#p30f4854e1d)\" d=\"M 478.350568 680.716875 \r\nL 490.609659 680.716875 \r\nL 490.609659 680.711373 \r\nL 478.350568 680.711373 \r\nz\r\n\" style=\"fill:#1f77b4;fill-opacity:0.5;stroke:#ffffff;stroke-linejoin:miter;stroke-width:0.3;\"/>\r\n   </g>\r\n   <g id=\"patch_233\">\r\n    <path clip-path=\"url(#p30f4854e1d)\" d=\"M 490.609659 680.716875 \r\nL 502.86875 680.716875 \r\nL 502.86875 680.716875 \r\nL 490.609659 680.716875 \r\nz\r\n\" style=\"fill:#1f77b4;fill-opacity:0.5;stroke:#ffffff;stroke-linejoin:miter;stroke-width:0.3;\"/>\r\n   </g>\r\n   <g id=\"patch_234\">\r\n    <path clip-path=\"url(#p30f4854e1d)\" d=\"M 502.86875 680.716875 \r\nL 515.127841 680.716875 \r\nL 515.127841 680.716875 \r\nL 502.86875 680.716875 \r\nz\r\n\" style=\"fill:#1f77b4;fill-opacity:0.5;stroke:#ffffff;stroke-linejoin:miter;stroke-width:0.3;\"/>\r\n   </g>\r\n   <g id=\"patch_235\">\r\n    <path clip-path=\"url(#p30f4854e1d)\" d=\"M 515.127841 680.716875 \r\nL 527.386932 680.716875 \r\nL 527.386932 680.716875 \r\nL 515.127841 680.716875 \r\nz\r\n\" style=\"fill:#1f77b4;fill-opacity:0.5;stroke:#ffffff;stroke-linejoin:miter;stroke-width:0.3;\"/>\r\n   </g>\r\n   <g id=\"patch_236\">\r\n    <path clip-path=\"url(#p30f4854e1d)\" d=\"M 527.386932 680.716875 \r\nL 539.646023 680.716875 \r\nL 539.646023 680.716875 \r\nL 527.386932 680.716875 \r\nz\r\n\" style=\"fill:#1f77b4;fill-opacity:0.5;stroke:#ffffff;stroke-linejoin:miter;stroke-width:0.3;\"/>\r\n   </g>\r\n   <g id=\"patch_237\">\r\n    <path clip-path=\"url(#p30f4854e1d)\" d=\"M 539.646023 680.716875 \r\nL 551.905114 680.716875 \r\nL 551.905114 680.716875 \r\nL 539.646023 680.716875 \r\nz\r\n\" style=\"fill:#1f77b4;fill-opacity:0.5;stroke:#ffffff;stroke-linejoin:miter;stroke-width:0.3;\"/>\r\n   </g>\r\n   <g id=\"patch_238\">\r\n    <path clip-path=\"url(#p30f4854e1d)\" d=\"M 551.905114 680.716875 \r\nL 564.164205 680.716875 \r\nL 564.164205 680.716875 \r\nL 551.905114 680.716875 \r\nz\r\n\" style=\"fill:#1f77b4;fill-opacity:0.5;stroke:#ffffff;stroke-linejoin:miter;stroke-width:0.3;\"/>\r\n   </g>\r\n   <g id=\"patch_239\">\r\n    <path clip-path=\"url(#p30f4854e1d)\" d=\"M 564.164205 680.716875 \r\nL 576.423295 680.716875 \r\nL 576.423295 680.711373 \r\nL 564.164205 680.711373 \r\nz\r\n\" style=\"fill:#1f77b4;fill-opacity:0.5;stroke:#ffffff;stroke-linejoin:miter;stroke-width:0.3;\"/>\r\n   </g>\r\n   <g id=\"patch_240\">\r\n    <path clip-path=\"url(#p30f4854e1d)\" d=\"M 576.423295 680.716875 \r\nL 588.682386 680.716875 \r\nL 588.682386 680.716875 \r\nL 576.423295 680.716875 \r\nz\r\n\" style=\"fill:#1f77b4;fill-opacity:0.5;stroke:#ffffff;stroke-linejoin:miter;stroke-width:0.3;\"/>\r\n   </g>\r\n   <g id=\"patch_241\">\r\n    <path clip-path=\"url(#p30f4854e1d)\" d=\"M 588.682386 680.716875 \r\nL 600.941477 680.716875 \r\nL 600.941477 680.716875 \r\nL 588.682386 680.716875 \r\nz\r\n\" style=\"fill:#1f77b4;fill-opacity:0.5;stroke:#ffffff;stroke-linejoin:miter;stroke-width:0.3;\"/>\r\n   </g>\r\n   <g id=\"patch_242\">\r\n    <path clip-path=\"url(#p30f4854e1d)\" d=\"M 600.941477 680.716875 \r\nL 613.200568 680.716875 \r\nL 613.200568 680.716875 \r\nL 600.941477 680.716875 \r\nz\r\n\" style=\"fill:#1f77b4;fill-opacity:0.5;stroke:#ffffff;stroke-linejoin:miter;stroke-width:0.3;\"/>\r\n   </g>\r\n   <g id=\"patch_243\">\r\n    <path clip-path=\"url(#p30f4854e1d)\" d=\"M 613.200568 680.716875 \r\nL 625.459659 680.716875 \r\nL 625.459659 680.716875 \r\nL 613.200568 680.716875 \r\nz\r\n\" style=\"fill:#1f77b4;fill-opacity:0.5;stroke:#ffffff;stroke-linejoin:miter;stroke-width:0.3;\"/>\r\n   </g>\r\n   <g id=\"patch_244\">\r\n    <path clip-path=\"url(#p30f4854e1d)\" d=\"M 625.459659 680.716875 \r\nL 637.71875 680.716875 \r\nL 637.71875 680.716875 \r\nL 625.459659 680.716875 \r\nz\r\n\" style=\"fill:#1f77b4;fill-opacity:0.5;stroke:#ffffff;stroke-linejoin:miter;stroke-width:0.3;\"/>\r\n   </g>\r\n   <g id=\"patch_245\">\r\n    <path clip-path=\"url(#p30f4854e1d)\" d=\"M 637.71875 680.716875 \r\nL 649.977841 680.716875 \r\nL 649.977841 680.716875 \r\nL 637.71875 680.716875 \r\nz\r\n\" style=\"fill:#1f77b4;fill-opacity:0.5;stroke:#ffffff;stroke-linejoin:miter;stroke-width:0.3;\"/>\r\n   </g>\r\n   <g id=\"patch_246\">\r\n    <path clip-path=\"url(#p30f4854e1d)\" d=\"M 649.977841 680.716875 \r\nL 662.236932 680.716875 \r\nL 662.236932 680.705871 \r\nL 649.977841 680.705871 \r\nz\r\n\" style=\"fill:#1f77b4;fill-opacity:0.5;stroke:#ffffff;stroke-linejoin:miter;stroke-width:0.3;\"/>\r\n   </g>\r\n   <g id=\"patch_247\">\r\n    <path clip-path=\"url(#p30f4854e1d)\" d=\"M 662.236932 680.716875 \r\nL 674.496023 680.716875 \r\nL 674.496023 680.716875 \r\nL 662.236932 680.716875 \r\nz\r\n\" style=\"fill:#1f77b4;fill-opacity:0.5;stroke:#ffffff;stroke-linejoin:miter;stroke-width:0.3;\"/>\r\n   </g>\r\n   <g id=\"patch_248\">\r\n    <path clip-path=\"url(#p30f4854e1d)\" d=\"M 674.496023 680.716875 \r\nL 686.755114 680.716875 \r\nL 686.755114 679.792524 \r\nL 674.496023 679.792524 \r\nz\r\n\" style=\"fill:#1f77b4;fill-opacity:0.5;stroke:#ffffff;stroke-linejoin:miter;stroke-width:0.3;\"/>\r\n   </g>\r\n   <g id=\"patch_249\">\r\n    <path clip-path=\"url(#p30f4854e1d)\" d=\"M 686.755114 680.716875 \r\nL 699.014205 680.716875 \r\nL 699.014205 680.716875 \r\nL 686.755114 680.716875 \r\nz\r\n\" style=\"fill:#1f77b4;fill-opacity:0.5;stroke:#ffffff;stroke-linejoin:miter;stroke-width:0.3;\"/>\r\n   </g>\r\n   <g id=\"patch_250\">\r\n    <path clip-path=\"url(#p30f4854e1d)\" d=\"M 699.014205 680.716875 \r\nL 711.273295 680.716875 \r\nL 711.273295 680.716875 \r\nL 699.014205 680.716875 \r\nz\r\n\" style=\"fill:#1f77b4;fill-opacity:0.5;stroke:#ffffff;stroke-linejoin:miter;stroke-width:0.3;\"/>\r\n   </g>\r\n   <g id=\"patch_251\">\r\n    <path clip-path=\"url(#p30f4854e1d)\" d=\"M 711.273295 680.716875 \r\nL 723.532386 680.716875 \r\nL 723.532386 552.210132 \r\nL 711.273295 552.210132 \r\nz\r\n\" style=\"fill:#1f77b4;fill-opacity:0.5;stroke:#ffffff;stroke-linejoin:miter;stroke-width:0.3;\"/>\r\n   </g>\r\n   <g id=\"patch_252\">\r\n    <path clip-path=\"url(#p30f4854e1d)\" d=\"M 723.532386 680.716875 \r\nL 735.791477 680.716875 \r\nL 735.791477 680.716875 \r\nL 723.532386 680.716875 \r\nz\r\n\" style=\"fill:#1f77b4;fill-opacity:0.5;stroke:#ffffff;stroke-linejoin:miter;stroke-width:0.3;\"/>\r\n   </g>\r\n   <g id=\"patch_253\">\r\n    <path clip-path=\"url(#p30f4854e1d)\" d=\"M 735.791477 680.716875 \r\nL 748.050568 680.716875 \r\nL 748.050568 435.868504 \r\nL 735.791477 435.868504 \r\nz\r\n\" style=\"fill:#1f77b4;fill-opacity:0.5;stroke:#ffffff;stroke-linejoin:miter;stroke-width:0.3;\"/>\r\n   </g>\r\n   <g id=\"patch_254\">\r\n    <path clip-path=\"url(#p30f4854e1d)\" d=\"M 748.050568 680.716875 \r\nL 760.309659 680.716875 \r\nL 760.309659 680.716875 \r\nL 748.050568 680.716875 \r\nz\r\n\" style=\"fill:#1f77b4;fill-opacity:0.5;stroke:#ffffff;stroke-linejoin:miter;stroke-width:0.3;\"/>\r\n   </g>\r\n   <g id=\"patch_255\">\r\n    <path clip-path=\"url(#p30f4854e1d)\" d=\"M 760.309659 680.716875 \r\nL 772.56875 680.716875 \r\nL 772.56875 318.602525 \r\nL 760.309659 318.602525 \r\nz\r\n\" style=\"fill:#1f77b4;fill-opacity:0.5;stroke:#ffffff;stroke-linejoin:miter;stroke-width:0.3;\"/>\r\n   </g>\r\n   <g id=\"patch_256\">\r\n    <path clip-path=\"url(#p30f4854e1d)\" d=\"M 772.56875 680.716875 \r\nL 784.827841 680.716875 \r\nL 784.827841 680.716875 \r\nL 772.56875 680.716875 \r\nz\r\n\" style=\"fill:#1f77b4;fill-opacity:0.5;stroke:#ffffff;stroke-linejoin:miter;stroke-width:0.3;\"/>\r\n   </g>\r\n   <g id=\"patch_257\">\r\n    <path clip-path=\"url(#p30f4854e1d)\" d=\"M 784.827841 680.716875 \r\nL 797.086932 680.716875 \r\nL 797.086932 110.216484 \r\nL 784.827841 110.216484 \r\nz\r\n\" style=\"fill:#1f77b4;fill-opacity:0.5;stroke:#ffffff;stroke-linejoin:miter;stroke-width:0.3;\"/>\r\n   </g>\r\n   <g id=\"patch_258\">\r\n    <path clip-path=\"url(#p30f4854e1d)\" d=\"M 797.086932 680.716875 \r\nL 809.346023 680.716875 \r\nL 809.346023 680.716875 \r\nL 797.086932 680.716875 \r\nz\r\n\" style=\"fill:#1f77b4;fill-opacity:0.5;stroke:#ffffff;stroke-linejoin:miter;stroke-width:0.3;\"/>\r\n   </g>\r\n   <g id=\"patch_259\">\r\n    <path clip-path=\"url(#p30f4854e1d)\" d=\"M 809.346023 680.716875 \r\nL 821.605114 680.716875 \r\nL 821.605114 680.716875 \r\nL 809.346023 680.716875 \r\nz\r\n\" style=\"fill:#1f77b4;fill-opacity:0.5;stroke:#ffffff;stroke-linejoin:miter;stroke-width:0.3;\"/>\r\n   </g>\r\n   <g id=\"patch_260\">\r\n    <path clip-path=\"url(#p30f4854e1d)\" d=\"M 821.605114 680.716875 \r\nL 833.864205 680.716875 \r\nL 833.864205 354.008454 \r\nL 821.605114 354.008454 \r\nz\r\n\" style=\"fill:#1f77b4;fill-opacity:0.5;stroke:#ffffff;stroke-linejoin:miter;stroke-width:0.3;\"/>\r\n   </g>\r\n   <g id=\"patch_261\">\r\n    <path clip-path=\"url(#p30f4854e1d)\" d=\"M 833.864205 680.716875 \r\nL 846.123295 680.716875 \r\nL 846.123295 680.716875 \r\nL 833.864205 680.716875 \r\nz\r\n\" style=\"fill:#1f77b4;fill-opacity:0.5;stroke:#ffffff;stroke-linejoin:miter;stroke-width:0.3;\"/>\r\n   </g>\r\n   <g id=\"patch_262\">\r\n    <path clip-path=\"url(#p30f4854e1d)\" d=\"M 846.123295 680.716875 \r\nL 858.382386 680.716875 \r\nL 858.382386 548.386182 \r\nL 846.123295 548.386182 \r\nz\r\n\" style=\"fill:#1f77b4;fill-opacity:0.5;stroke:#ffffff;stroke-linejoin:miter;stroke-width:0.3;\"/>\r\n   </g>\r\n   <g id=\"patch_263\">\r\n    <path clip-path=\"url(#p30f4854e1d)\" d=\"M 858.382386 680.716875 \r\nL 870.641477 680.716875 \r\nL 870.641477 680.716875 \r\nL 858.382386 680.716875 \r\nz\r\n\" style=\"fill:#1f77b4;fill-opacity:0.5;stroke:#ffffff;stroke-linejoin:miter;stroke-width:0.3;\"/>\r\n   </g>\r\n   <g id=\"patch_264\">\r\n    <path clip-path=\"url(#p30f4854e1d)\" d=\"M 870.641477 680.716875 \r\nL 882.900568 680.716875 \r\nL 882.900568 628.155438 \r\nL 870.641477 628.155438 \r\nz\r\n\" style=\"fill:#1f77b4;fill-opacity:0.5;stroke:#ffffff;stroke-linejoin:miter;stroke-width:0.3;\"/>\r\n   </g>\r\n   <g id=\"patch_265\">\r\n    <path clip-path=\"url(#p30f4854e1d)\" d=\"M 882.900568 680.716875 \r\nL 895.159659 680.716875 \r\nL 895.159659 680.716875 \r\nL 882.900568 680.716875 \r\nz\r\n\" style=\"fill:#1f77b4;fill-opacity:0.5;stroke:#ffffff;stroke-linejoin:miter;stroke-width:0.3;\"/>\r\n   </g>\r\n   <g id=\"patch_266\">\r\n    <path clip-path=\"url(#p30f4854e1d)\" d=\"M 895.159659 680.716875 \r\nL 907.41875 680.716875 \r\nL 907.41875 680.716875 \r\nL 895.159659 680.716875 \r\nz\r\n\" style=\"fill:#1f77b4;fill-opacity:0.5;stroke:#ffffff;stroke-linejoin:miter;stroke-width:0.3;\"/>\r\n   </g>\r\n   <g id=\"patch_267\">\r\n    <path clip-path=\"url(#p30f4854e1d)\" d=\"M 907.41875 680.716875 \r\nL 919.677841 680.716875 \r\nL 919.677841 658.637 \r\nL 907.41875 658.637 \r\nz\r\n\" style=\"fill:#1f77b4;fill-opacity:0.5;stroke:#ffffff;stroke-linejoin:miter;stroke-width:0.3;\"/>\r\n   </g>\r\n   <g id=\"patch_268\">\r\n    <path clip-path=\"url(#p30f4854e1d)\" d=\"M 919.677841 680.716875 \r\nL 931.936932 680.716875 \r\nL 931.936932 680.716875 \r\nL 919.677841 680.716875 \r\nz\r\n\" style=\"fill:#1f77b4;fill-opacity:0.5;stroke:#ffffff;stroke-linejoin:miter;stroke-width:0.3;\"/>\r\n   </g>\r\n   <g id=\"patch_269\">\r\n    <path clip-path=\"url(#p30f4854e1d)\" d=\"M 931.936932 680.716875 \r\nL 944.196023 680.716875 \r\nL 944.196023 670.604039 \r\nL 931.936932 670.604039 \r\nz\r\n\" style=\"fill:#1f77b4;fill-opacity:0.5;stroke:#ffffff;stroke-linejoin:miter;stroke-width:0.3;\"/>\r\n   </g>\r\n   <g id=\"patch_270\">\r\n    <path clip-path=\"url(#p30f4854e1d)\" d=\"M 944.196023 680.716875 \r\nL 956.455114 680.716875 \r\nL 956.455114 680.716875 \r\nL 944.196023 680.716875 \r\nz\r\n\" style=\"fill:#1f77b4;fill-opacity:0.5;stroke:#ffffff;stroke-linejoin:miter;stroke-width:0.3;\"/>\r\n   </g>\r\n   <g id=\"patch_271\">\r\n    <path clip-path=\"url(#p30f4854e1d)\" d=\"M 956.455114 680.716875 \r\nL 968.714205 680.716875 \r\nL 968.714205 675.462382 \r\nL 956.455114 675.462382 \r\nz\r\n\" style=\"fill:#1f77b4;fill-opacity:0.5;stroke:#ffffff;stroke-linejoin:miter;stroke-width:0.3;\"/>\r\n   </g>\r\n   <g id=\"patch_272\">\r\n    <path clip-path=\"url(#p30f4854e1d)\" d=\"M 968.714205 680.716875 \r\nL 980.973295 680.716875 \r\nL 980.973295 680.716875 \r\nL 968.714205 680.716875 \r\nz\r\n\" style=\"fill:#1f77b4;fill-opacity:0.5;stroke:#ffffff;stroke-linejoin:miter;stroke-width:0.3;\"/>\r\n   </g>\r\n   <g id=\"patch_273\">\r\n    <path clip-path=\"url(#p30f4854e1d)\" d=\"M 980.973295 680.716875 \r\nL 993.232386 680.716875 \r\nL 993.232386 677.762254 \r\nL 980.973295 677.762254 \r\nz\r\n\" style=\"fill:#1f77b4;fill-opacity:0.5;stroke:#ffffff;stroke-linejoin:miter;stroke-width:0.3;\"/>\r\n   </g>\r\n   <g id=\"patch_274\">\r\n    <path clip-path=\"url(#p30f4854e1d)\" d=\"M 993.232386 680.716875 \r\nL 1005.491477 680.716875 \r\nL 1005.491477 680.716875 \r\nL 993.232386 680.716875 \r\nz\r\n\" style=\"fill:#1f77b4;fill-opacity:0.5;stroke:#ffffff;stroke-linejoin:miter;stroke-width:0.3;\"/>\r\n   </g>\r\n   <g id=\"patch_275\">\r\n    <path clip-path=\"url(#p30f4854e1d)\" d=\"M 1005.491477 680.716875 \r\nL 1017.750568 680.716875 \r\nL 1017.750568 680.716875 \r\nL 1005.491477 680.716875 \r\nz\r\n\" style=\"fill:#1f77b4;fill-opacity:0.5;stroke:#ffffff;stroke-linejoin:miter;stroke-width:0.3;\"/>\r\n   </g>\r\n   <g id=\"patch_276\">\r\n    <path clip-path=\"url(#p30f4854e1d)\" d=\"M 1017.750568 680.716875 \r\nL 1030.009659 680.716875 \r\nL 1030.009659 678.576563 \r\nL 1017.750568 678.576563 \r\nz\r\n\" style=\"fill:#1f77b4;fill-opacity:0.5;stroke:#ffffff;stroke-linejoin:miter;stroke-width:0.3;\"/>\r\n   </g>\r\n   <g id=\"patch_277\">\r\n    <path clip-path=\"url(#p30f4854e1d)\" d=\"M 1030.009659 680.716875 \r\nL 1042.26875 680.716875 \r\nL 1042.26875 680.716875 \r\nL 1030.009659 680.716875 \r\nz\r\n\" style=\"fill:#1f77b4;fill-opacity:0.5;stroke:#ffffff;stroke-linejoin:miter;stroke-width:0.3;\"/>\r\n   </g>\r\n   <g id=\"patch_278\">\r\n    <path clip-path=\"url(#p30f4854e1d)\" d=\"M 1042.26875 680.716875 \r\nL 1054.527841 680.716875 \r\nL 1054.527841 679.379868 \r\nL 1042.26875 679.379868 \r\nz\r\n\" style=\"fill:#1f77b4;fill-opacity:0.5;stroke:#ffffff;stroke-linejoin:miter;stroke-width:0.3;\"/>\r\n   </g>\r\n   <g id=\"patch_279\">\r\n    <path clip-path=\"url(#p30f4854e1d)\" d=\"M 1054.527841 680.716875 \r\nL 1066.786932 680.716875 \r\nL 1066.786932 680.716875 \r\nL 1054.527841 680.716875 \r\nz\r\n\" style=\"fill:#1f77b4;fill-opacity:0.5;stroke:#ffffff;stroke-linejoin:miter;stroke-width:0.3;\"/>\r\n   </g>\r\n   <g id=\"patch_280\">\r\n    <path clip-path=\"url(#p30f4854e1d)\" d=\"M 1066.786932 680.716875 \r\nL 1079.046023 680.716875 \r\nL 1079.046023 679.676981 \r\nL 1066.786932 679.676981 \r\nz\r\n\" style=\"fill:#1f77b4;fill-opacity:0.5;stroke:#ffffff;stroke-linejoin:miter;stroke-width:0.3;\"/>\r\n   </g>\r\n   <g id=\"patch_281\">\r\n    <path clip-path=\"url(#p30f4854e1d)\" d=\"M 1079.046023 680.716875 \r\nL 1091.305114 680.716875 \r\nL 1091.305114 680.716875 \r\nL 1079.046023 680.716875 \r\nz\r\n\" style=\"fill:#1f77b4;fill-opacity:0.5;stroke:#ffffff;stroke-linejoin:miter;stroke-width:0.3;\"/>\r\n   </g>\r\n   <g id=\"patch_282\">\r\n    <path clip-path=\"url(#p30f4854e1d)\" d=\"M 1091.305114 680.716875 \r\nL 1103.564205 680.716875 \r\nL 1103.564205 679.891562 \r\nL 1091.305114 679.891562 \r\nz\r\n\" style=\"fill:#1f77b4;fill-opacity:0.5;stroke:#ffffff;stroke-linejoin:miter;stroke-width:0.3;\"/>\r\n   </g>\r\n   <g id=\"patch_283\">\r\n    <path clip-path=\"url(#p30f4854e1d)\" d=\"M 1103.564205 680.716875 \r\nL 1115.823295 680.716875 \r\nL 1115.823295 680.716875 \r\nL 1103.564205 680.716875 \r\nz\r\n\" style=\"fill:#1f77b4;fill-opacity:0.5;stroke:#ffffff;stroke-linejoin:miter;stroke-width:0.3;\"/>\r\n   </g>\r\n   <g id=\"patch_284\">\r\n    <path clip-path=\"url(#p30f4854e1d)\" d=\"M 1115.823295 680.716875 \r\nL 1128.082386 680.716875 \r\nL 1128.082386 680.716875 \r\nL 1115.823295 680.716875 \r\nz\r\n\" style=\"fill:#1f77b4;fill-opacity:0.5;stroke:#ffffff;stroke-linejoin:miter;stroke-width:0.3;\"/>\r\n   </g>\r\n   <g id=\"patch_285\">\r\n    <path clip-path=\"url(#p30f4854e1d)\" d=\"M 1128.082386 680.716875 \r\nL 1140.341477 680.716875 \r\nL 1140.341477 680.100641 \r\nL 1128.082386 680.100641 \r\nz\r\n\" style=\"fill:#1f77b4;fill-opacity:0.5;stroke:#ffffff;stroke-linejoin:miter;stroke-width:0.3;\"/>\r\n   </g>\r\n   <g id=\"patch_286\">\r\n    <path clip-path=\"url(#p30f4854e1d)\" d=\"M 1140.341477 680.716875 \r\nL 1152.600568 680.716875 \r\nL 1152.600568 680.716875 \r\nL 1140.341477 680.716875 \r\nz\r\n\" style=\"fill:#1f77b4;fill-opacity:0.5;stroke:#ffffff;stroke-linejoin:miter;stroke-width:0.3;\"/>\r\n   </g>\r\n   <g id=\"patch_287\">\r\n    <path clip-path=\"url(#p30f4854e1d)\" d=\"M 1152.600568 680.716875 \r\nL 1164.859659 680.716875 \r\nL 1164.859659 680.001604 \r\nL 1152.600568 680.001604 \r\nz\r\n\" style=\"fill:#1f77b4;fill-opacity:0.5;stroke:#ffffff;stroke-linejoin:miter;stroke-width:0.3;\"/>\r\n   </g>\r\n   <g id=\"patch_288\">\r\n    <path clip-path=\"url(#p30f4854e1d)\" d=\"M 1164.859659 680.716875 \r\nL 1177.11875 680.716875 \r\nL 1177.11875 680.716875 \r\nL 1164.859659 680.716875 \r\nz\r\n\" style=\"fill:#1f77b4;fill-opacity:0.5;stroke:#ffffff;stroke-linejoin:miter;stroke-width:0.3;\"/>\r\n   </g>\r\n   <g id=\"patch_289\">\r\n    <path clip-path=\"url(#p30f4854e1d)\" d=\"M 1177.11875 680.716875 \r\nL 1189.377841 680.716875 \r\nL 1189.377841 680.155662 \r\nL 1177.11875 680.155662 \r\nz\r\n\" style=\"fill:#1f77b4;fill-opacity:0.5;stroke:#ffffff;stroke-linejoin:miter;stroke-width:0.3;\"/>\r\n   </g>\r\n   <g id=\"patch_290\">\r\n    <path clip-path=\"url(#p30f4854e1d)\" d=\"M 1189.377841 680.716875 \r\nL 1201.636932 680.716875 \r\nL 1201.636932 680.716875 \r\nL 1189.377841 680.716875 \r\nz\r\n\" style=\"fill:#1f77b4;fill-opacity:0.5;stroke:#ffffff;stroke-linejoin:miter;stroke-width:0.3;\"/>\r\n   </g>\r\n   <g id=\"patch_291\">\r\n    <path clip-path=\"url(#p30f4854e1d)\" d=\"M 1201.636932 680.716875 \r\nL 1213.896023 680.716875 \r\nL 1213.896023 680.716875 \r\nL 1201.636932 680.716875 \r\nz\r\n\" style=\"fill:#1f77b4;fill-opacity:0.5;stroke:#ffffff;stroke-linejoin:miter;stroke-width:0.3;\"/>\r\n   </g>\r\n   <g id=\"patch_292\">\r\n    <path clip-path=\"url(#p30f4854e1d)\" d=\"M 1213.896023 680.716875 \r\nL 1226.155114 680.716875 \r\nL 1226.155114 680.001604 \r\nL 1213.896023 680.001604 \r\nz\r\n\" style=\"fill:#1f77b4;fill-opacity:0.5;stroke:#ffffff;stroke-linejoin:miter;stroke-width:0.3;\"/>\r\n   </g>\r\n   <g id=\"patch_293\">\r\n    <path clip-path=\"url(#p30f4854e1d)\" d=\"M 1226.155114 680.716875 \r\nL 1238.414205 680.716875 \r\nL 1238.414205 680.716875 \r\nL 1226.155114 680.716875 \r\nz\r\n\" style=\"fill:#1f77b4;fill-opacity:0.5;stroke:#ffffff;stroke-linejoin:miter;stroke-width:0.3;\"/>\r\n   </g>\r\n   <g id=\"patch_294\">\r\n    <path clip-path=\"url(#p30f4854e1d)\" d=\"M 1238.414205 680.716875 \r\nL 1250.673295 680.716875 \r\nL 1250.673295 680.089637 \r\nL 1238.414205 680.089637 \r\nz\r\n\" style=\"fill:#1f77b4;fill-opacity:0.5;stroke:#ffffff;stroke-linejoin:miter;stroke-width:0.3;\"/>\r\n   </g>\r\n   <g id=\"patch_295\">\r\n    <path clip-path=\"url(#p30f4854e1d)\" d=\"M 1250.673295 680.716875 \r\nL 1262.932386 680.716875 \r\nL 1262.932386 680.716875 \r\nL 1250.673295 680.716875 \r\nz\r\n\" style=\"fill:#1f77b4;fill-opacity:0.5;stroke:#ffffff;stroke-linejoin:miter;stroke-width:0.3;\"/>\r\n   </g>\r\n   <g id=\"patch_296\">\r\n    <path clip-path=\"url(#p30f4854e1d)\" d=\"M 1262.932386 680.716875 \r\nL 1275.191477 680.716875 \r\nL 1275.191477 680.166666 \r\nL 1262.932386 680.166666 \r\nz\r\n\" style=\"fill:#1f77b4;fill-opacity:0.5;stroke:#ffffff;stroke-linejoin:miter;stroke-width:0.3;\"/>\r\n   </g>\r\n   <g id=\"patch_297\">\r\n    <path clip-path=\"url(#p30f4854e1d)\" d=\"M 1275.191477 680.716875 \r\nL 1287.450568 680.716875 \r\nL 1287.450568 680.716875 \r\nL 1275.191477 680.716875 \r\nz\r\n\" style=\"fill:#1f77b4;fill-opacity:0.5;stroke:#ffffff;stroke-linejoin:miter;stroke-width:0.3;\"/>\r\n   </g>\r\n   <g id=\"patch_298\">\r\n    <path clip-path=\"url(#p30f4854e1d)\" d=\"M 1287.450568 680.716875 \r\nL 1299.709659 680.716875 \r\nL 1299.709659 680.188675 \r\nL 1287.450568 680.188675 \r\nz\r\n\" style=\"fill:#1f77b4;fill-opacity:0.5;stroke:#ffffff;stroke-linejoin:miter;stroke-width:0.3;\"/>\r\n   </g>\r\n   <g id=\"patch_299\">\r\n    <path clip-path=\"url(#p30f4854e1d)\" d=\"M 1299.709659 680.716875 \r\nL 1311.96875 680.716875 \r\nL 1311.96875 680.716875 \r\nL 1299.709659 680.716875 \r\nz\r\n\" style=\"fill:#1f77b4;fill-opacity:0.5;stroke:#ffffff;stroke-linejoin:miter;stroke-width:0.3;\"/>\r\n   </g>\r\n   <g id=\"patch_300\">\r\n    <path clip-path=\"url(#p30f4854e1d)\" d=\"M 1311.96875 680.716875 \r\nL 1324.227841 680.716875 \r\nL 1324.227841 680.716875 \r\nL 1311.96875 680.716875 \r\nz\r\n\" style=\"fill:#1f77b4;fill-opacity:0.5;stroke:#ffffff;stroke-linejoin:miter;stroke-width:0.3;\"/>\r\n   </g>\r\n   <g id=\"patch_301\">\r\n    <path clip-path=\"url(#p30f4854e1d)\" d=\"M 1324.227841 680.716875 \r\nL 1336.486932 680.716875 \r\nL 1336.486932 680.117148 \r\nL 1324.227841 680.117148 \r\nz\r\n\" style=\"fill:#1f77b4;fill-opacity:0.5;stroke:#ffffff;stroke-linejoin:miter;stroke-width:0.3;\"/>\r\n   </g>\r\n   <g id=\"patch_302\">\r\n    <path clip-path=\"url(#p30f4854e1d)\" d=\"M 1336.486932 680.716875 \r\nL 1348.746023 680.716875 \r\nL 1348.746023 680.716875 \r\nL 1336.486932 680.716875 \r\nz\r\n\" style=\"fill:#1f77b4;fill-opacity:0.5;stroke:#ffffff;stroke-linejoin:miter;stroke-width:0.3;\"/>\r\n   </g>\r\n   <g id=\"patch_303\">\r\n    <path clip-path=\"url(#p30f4854e1d)\" d=\"M 1348.746023 680.716875 \r\nL 1361.005114 680.716875 \r\nL 1361.005114 680.106143 \r\nL 1348.746023 680.106143 \r\nz\r\n\" style=\"fill:#1f77b4;fill-opacity:0.5;stroke:#ffffff;stroke-linejoin:miter;stroke-width:0.3;\"/>\r\n   </g>\r\n   <g id=\"patch_304\">\r\n    <path clip-path=\"url(#p30f4854e1d)\" d=\"M 1361.005114 680.716875 \r\nL 1373.264205 680.716875 \r\nL 1373.264205 680.716875 \r\nL 1361.005114 680.716875 \r\nz\r\n\" style=\"fill:#1f77b4;fill-opacity:0.5;stroke:#ffffff;stroke-linejoin:miter;stroke-width:0.3;\"/>\r\n   </g>\r\n   <g id=\"patch_305\">\r\n    <path clip-path=\"url(#p30f4854e1d)\" d=\"M 1373.264205 680.716875 \r\nL 1385.523295 680.716875 \r\nL 1385.523295 680.188675 \r\nL 1373.264205 680.188675 \r\nz\r\n\" style=\"fill:#1f77b4;fill-opacity:0.5;stroke:#ffffff;stroke-linejoin:miter;stroke-width:0.3;\"/>\r\n   </g>\r\n   <g id=\"patch_306\">\r\n    <path clip-path=\"url(#p30f4854e1d)\" d=\"M 1385.523295 680.716875 \r\nL 1397.782386 680.716875 \r\nL 1397.782386 680.716875 \r\nL 1385.523295 680.716875 \r\nz\r\n\" style=\"fill:#1f77b4;fill-opacity:0.5;stroke:#ffffff;stroke-linejoin:miter;stroke-width:0.3;\"/>\r\n   </g>\r\n   <g id=\"patch_307\">\r\n    <path clip-path=\"url(#p30f4854e1d)\" d=\"M 1397.782386 680.716875 \r\nL 1410.041477 680.716875 \r\nL 1410.041477 680.100641 \r\nL 1397.782386 680.100641 \r\nz\r\n\" style=\"fill:#1f77b4;fill-opacity:0.5;stroke:#ffffff;stroke-linejoin:miter;stroke-width:0.3;\"/>\r\n   </g>\r\n   <g id=\"patch_308\">\r\n    <path clip-path=\"url(#p30f4854e1d)\" d=\"M 1410.041477 680.716875 \r\nL 1422.300568 680.716875 \r\nL 1422.300568 680.716875 \r\nL 1410.041477 680.716875 \r\nz\r\n\" style=\"fill:#1f77b4;fill-opacity:0.5;stroke:#ffffff;stroke-linejoin:miter;stroke-width:0.3;\"/>\r\n   </g>\r\n   <g id=\"patch_309\">\r\n    <path clip-path=\"url(#p30f4854e1d)\" d=\"M 1422.300568 680.716875 \r\nL 1434.559659 680.716875 \r\nL 1434.559659 680.716875 \r\nL 1422.300568 680.716875 \r\nz\r\n\" style=\"fill:#1f77b4;fill-opacity:0.5;stroke:#ffffff;stroke-linejoin:miter;stroke-width:0.3;\"/>\r\n   </g>\r\n   <g id=\"patch_310\">\r\n    <path clip-path=\"url(#p30f4854e1d)\" d=\"M 1434.559659 680.716875 \r\nL 1446.81875 680.716875 \r\nL 1446.81875 680.056625 \r\nL 1434.559659 680.056625 \r\nz\r\n\" style=\"fill:#1f77b4;fill-opacity:0.5;stroke:#ffffff;stroke-linejoin:miter;stroke-width:0.3;\"/>\r\n   </g>\r\n   <g id=\"patch_311\">\r\n    <path clip-path=\"url(#p30f4854e1d)\" d=\"M 1446.81875 680.716875 \r\nL 1459.077841 680.716875 \r\nL 1459.077841 680.716875 \r\nL 1446.81875 680.716875 \r\nz\r\n\" style=\"fill:#1f77b4;fill-opacity:0.5;stroke:#ffffff;stroke-linejoin:miter;stroke-width:0.3;\"/>\r\n   </g>\r\n   <g id=\"patch_312\">\r\n    <path clip-path=\"url(#p30f4854e1d)\" d=\"M 1459.077841 680.716875 \r\nL 1471.336932 680.716875 \r\nL 1471.336932 680.001604 \r\nL 1459.077841 680.001604 \r\nz\r\n\" style=\"fill:#1f77b4;fill-opacity:0.5;stroke:#ffffff;stroke-linejoin:miter;stroke-width:0.3;\"/>\r\n   </g>\r\n   <g id=\"patch_313\">\r\n    <path clip-path=\"url(#p30f4854e1d)\" d=\"M 1471.336932 680.716875 \r\nL 1483.596023 680.716875 \r\nL 1483.596023 680.716875 \r\nL 1471.336932 680.716875 \r\nz\r\n\" style=\"fill:#1f77b4;fill-opacity:0.5;stroke:#ffffff;stroke-linejoin:miter;stroke-width:0.3;\"/>\r\n   </g>\r\n   <g id=\"patch_314\">\r\n    <path clip-path=\"url(#p30f4854e1d)\" d=\"M 1483.596023 680.716875 \r\nL 1495.855114 680.716875 \r\nL 1495.855114 680.210683 \r\nL 1483.596023 680.210683 \r\nz\r\n\" style=\"fill:#1f77b4;fill-opacity:0.5;stroke:#ffffff;stroke-linejoin:miter;stroke-width:0.3;\"/>\r\n   </g>\r\n   <g id=\"patch_315\">\r\n    <path clip-path=\"url(#p30f4854e1d)\" d=\"M 1495.855114 680.716875 \r\nL 1508.114205 680.716875 \r\nL 1508.114205 680.716875 \r\nL 1495.855114 680.716875 \r\nz\r\n\" style=\"fill:#1f77b4;fill-opacity:0.5;stroke:#ffffff;stroke-linejoin:miter;stroke-width:0.3;\"/>\r\n   </g>\r\n   <g id=\"patch_316\">\r\n    <path clip-path=\"url(#p30f4854e1d)\" d=\"M 1508.114205 680.716875 \r\nL 1520.373295 680.716875 \r\nL 1520.373295 680.716875 \r\nL 1508.114205 680.716875 \r\nz\r\n\" style=\"fill:#1f77b4;fill-opacity:0.5;stroke:#ffffff;stroke-linejoin:miter;stroke-width:0.3;\"/>\r\n   </g>\r\n   <g id=\"patch_317\">\r\n    <path clip-path=\"url(#p30f4854e1d)\" d=\"M 1520.373295 680.716875 \r\nL 1532.632386 680.716875 \r\nL 1532.632386 680.249198 \r\nL 1520.373295 680.249198 \r\nz\r\n\" style=\"fill:#1f77b4;fill-opacity:0.5;stroke:#ffffff;stroke-linejoin:miter;stroke-width:0.3;\"/>\r\n   </g>\r\n   <g id=\"patch_318\">\r\n    <path clip-path=\"url(#p30f4854e1d)\" d=\"M 1532.632386 680.716875 \r\nL 1544.891477 680.716875 \r\nL 1544.891477 680.716875 \r\nL 1532.632386 680.716875 \r\nz\r\n\" style=\"fill:#1f77b4;fill-opacity:0.5;stroke:#ffffff;stroke-linejoin:miter;stroke-width:0.3;\"/>\r\n   </g>\r\n   <g id=\"patch_319\">\r\n    <path clip-path=\"url(#p30f4854e1d)\" d=\"M 1544.891477 680.716875 \r\nL 1557.150568 680.716875 \r\nL 1557.150568 680.326227 \r\nL 1544.891477 680.326227 \r\nz\r\n\" style=\"fill:#1f77b4;fill-opacity:0.5;stroke:#ffffff;stroke-linejoin:miter;stroke-width:0.3;\"/>\r\n   </g>\r\n   <g id=\"patch_320\">\r\n    <path clip-path=\"url(#p30f4854e1d)\" d=\"M 1557.150568 680.716875 \r\nL 1569.409659 680.716875 \r\nL 1569.409659 680.716875 \r\nL 1557.150568 680.716875 \r\nz\r\n\" style=\"fill:#1f77b4;fill-opacity:0.5;stroke:#ffffff;stroke-linejoin:miter;stroke-width:0.3;\"/>\r\n   </g>\r\n   <g id=\"patch_321\">\r\n    <path clip-path=\"url(#p30f4854e1d)\" d=\"M 1569.409659 680.716875 \r\nL 1581.66875 680.716875 \r\nL 1581.66875 680.326227 \r\nL 1569.409659 680.326227 \r\nz\r\n\" style=\"fill:#1f77b4;fill-opacity:0.5;stroke:#ffffff;stroke-linejoin:miter;stroke-width:0.3;\"/>\r\n   </g>\r\n   <g id=\"patch_322\">\r\n    <path clip-path=\"url(#p30f4854e1d)\" d=\"M 1581.66875 680.716875 \r\nL 1593.927841 680.716875 \r\nL 1593.927841 680.716875 \r\nL 1581.66875 680.716875 \r\nz\r\n\" style=\"fill:#1f77b4;fill-opacity:0.5;stroke:#ffffff;stroke-linejoin:miter;stroke-width:0.3;\"/>\r\n   </g>\r\n   <g id=\"patch_323\">\r\n    <path clip-path=\"url(#p30f4854e1d)\" d=\"M 1593.927841 680.716875 \r\nL 1606.186932 680.716875 \r\nL 1606.186932 680.370244 \r\nL 1593.927841 680.370244 \r\nz\r\n\" style=\"fill:#1f77b4;fill-opacity:0.5;stroke:#ffffff;stroke-linejoin:miter;stroke-width:0.3;\"/>\r\n   </g>\r\n   <g id=\"patch_324\">\r\n    <path clip-path=\"url(#p30f4854e1d)\" d=\"M 1606.186932 680.716875 \r\nL 1618.446023 680.716875 \r\nL 1618.446023 680.716875 \r\nL 1606.186932 680.716875 \r\nz\r\n\" style=\"fill:#1f77b4;fill-opacity:0.5;stroke:#ffffff;stroke-linejoin:miter;stroke-width:0.3;\"/>\r\n   </g>\r\n   <g id=\"patch_325\">\r\n    <path clip-path=\"url(#p30f4854e1d)\" d=\"M 1618.446023 680.716875 \r\nL 1630.705114 680.716875 \r\nL 1630.705114 680.716875 \r\nL 1618.446023 680.716875 \r\nz\r\n\" style=\"fill:#1f77b4;fill-opacity:0.5;stroke:#ffffff;stroke-linejoin:miter;stroke-width:0.3;\"/>\r\n   </g>\r\n   <g id=\"patch_326\">\r\n    <path clip-path=\"url(#p30f4854e1d)\" d=\"M 1630.705114 680.716875 \r\nL 1642.964205 680.716875 \r\nL 1642.964205 680.298716 \r\nL 1630.705114 680.298716 \r\nz\r\n\" style=\"fill:#1f77b4;fill-opacity:0.5;stroke:#ffffff;stroke-linejoin:miter;stroke-width:0.3;\"/>\r\n   </g>\r\n   <g id=\"patch_327\">\r\n    <path clip-path=\"url(#p30f4854e1d)\" d=\"M 1642.964205 680.716875 \r\nL 1655.223295 680.716875 \r\nL 1655.223295 680.716875 \r\nL 1642.964205 680.716875 \r\nz\r\n\" style=\"fill:#1f77b4;fill-opacity:0.5;stroke:#ffffff;stroke-linejoin:miter;stroke-width:0.3;\"/>\r\n   </g>\r\n   <g id=\"patch_328\">\r\n    <path clip-path=\"url(#p30f4854e1d)\" d=\"M 1655.223295 680.716875 \r\nL 1667.482386 680.716875 \r\nL 1667.482386 680.430766 \r\nL 1655.223295 680.430766 \r\nz\r\n\" style=\"fill:#1f77b4;fill-opacity:0.5;stroke:#ffffff;stroke-linejoin:miter;stroke-width:0.3;\"/>\r\n   </g>\r\n   <g id=\"patch_329\">\r\n    <path clip-path=\"url(#p30f4854e1d)\" d=\"M 1667.482386 680.716875 \r\nL 1679.741477 680.716875 \r\nL 1679.741477 680.716875 \r\nL 1667.482386 680.716875 \r\nz\r\n\" style=\"fill:#1f77b4;fill-opacity:0.5;stroke:#ffffff;stroke-linejoin:miter;stroke-width:0.3;\"/>\r\n   </g>\r\n   <g id=\"patch_330\">\r\n    <path clip-path=\"url(#p30f4854e1d)\" d=\"M 1679.741477 680.716875 \r\nL 1692.000568 680.716875 \r\nL 1692.000568 680.397754 \r\nL 1679.741477 680.397754 \r\nz\r\n\" style=\"fill:#1f77b4;fill-opacity:0.5;stroke:#ffffff;stroke-linejoin:miter;stroke-width:0.3;\"/>\r\n   </g>\r\n   <g id=\"patch_331\">\r\n    <path clip-path=\"url(#p30f4854e1d)\" d=\"M 1692.000568 680.716875 \r\nL 1704.259659 680.716875 \r\nL 1704.259659 680.716875 \r\nL 1692.000568 680.716875 \r\nz\r\n\" style=\"fill:#1f77b4;fill-opacity:0.5;stroke:#ffffff;stroke-linejoin:miter;stroke-width:0.3;\"/>\r\n   </g>\r\n   <g id=\"patch_332\">\r\n    <path clip-path=\"url(#p30f4854e1d)\" d=\"M 1704.259659 680.716875 \r\nL 1716.51875 680.716875 \r\nL 1716.51875 680.716875 \r\nL 1704.259659 680.716875 \r\nz\r\n\" style=\"fill:#1f77b4;fill-opacity:0.5;stroke:#ffffff;stroke-linejoin:miter;stroke-width:0.3;\"/>\r\n   </g>\r\n   <g id=\"patch_333\">\r\n    <path clip-path=\"url(#p30f4854e1d)\" d=\"M 1716.51875 680.716875 \r\nL 1728.777841 680.716875 \r\nL 1728.777841 680.430766 \r\nL 1716.51875 680.430766 \r\nz\r\n\" style=\"fill:#1f77b4;fill-opacity:0.5;stroke:#ffffff;stroke-linejoin:miter;stroke-width:0.3;\"/>\r\n   </g>\r\n   <g id=\"patch_334\">\r\n    <path clip-path=\"url(#p30f4854e1d)\" d=\"M 1728.777841 680.716875 \r\nL 1741.036932 680.716875 \r\nL 1741.036932 680.716875 \r\nL 1728.777841 680.716875 \r\nz\r\n\" style=\"fill:#1f77b4;fill-opacity:0.5;stroke:#ffffff;stroke-linejoin:miter;stroke-width:0.3;\"/>\r\n   </g>\r\n   <g id=\"patch_335\">\r\n    <path clip-path=\"url(#p30f4854e1d)\" d=\"M 1741.036932 680.716875 \r\nL 1753.296023 680.716875 \r\nL 1753.296023 680.403256 \r\nL 1741.036932 680.403256 \r\nz\r\n\" style=\"fill:#1f77b4;fill-opacity:0.5;stroke:#ffffff;stroke-linejoin:miter;stroke-width:0.3;\"/>\r\n   </g>\r\n   <g id=\"patch_336\">\r\n    <path clip-path=\"url(#p30f4854e1d)\" d=\"M 1753.296023 680.716875 \r\nL 1765.555114 680.716875 \r\nL 1765.555114 680.716875 \r\nL 1753.296023 680.716875 \r\nz\r\n\" style=\"fill:#1f77b4;fill-opacity:0.5;stroke:#ffffff;stroke-linejoin:miter;stroke-width:0.3;\"/>\r\n   </g>\r\n   <g id=\"patch_337\">\r\n    <path clip-path=\"url(#p30f4854e1d)\" d=\"M 1765.555114 680.716875 \r\nL 1777.814205 680.716875 \r\nL 1777.814205 680.403256 \r\nL 1765.555114 680.403256 \r\nz\r\n\" style=\"fill:#1f77b4;fill-opacity:0.5;stroke:#ffffff;stroke-linejoin:miter;stroke-width:0.3;\"/>\r\n   </g>\r\n   <g id=\"patch_338\">\r\n    <path clip-path=\"url(#p30f4854e1d)\" d=\"M 1777.814205 680.716875 \r\nL 1790.073295 680.716875 \r\nL 1790.073295 680.716875 \r\nL 1777.814205 680.716875 \r\nz\r\n\" style=\"fill:#1f77b4;fill-opacity:0.5;stroke:#ffffff;stroke-linejoin:miter;stroke-width:0.3;\"/>\r\n   </g>\r\n   <g id=\"patch_339\">\r\n    <path clip-path=\"url(#p30f4854e1d)\" d=\"M 1790.073295 680.716875 \r\nL 1802.332386 680.716875 \r\nL 1802.332386 680.447273 \r\nL 1790.073295 680.447273 \r\nz\r\n\" style=\"fill:#1f77b4;fill-opacity:0.5;stroke:#ffffff;stroke-linejoin:miter;stroke-width:0.3;\"/>\r\n   </g>\r\n   <g id=\"patch_340\">\r\n    <path clip-path=\"url(#p30f4854e1d)\" d=\"M 1802.332386 680.716875 \r\nL 1814.591477 680.716875 \r\nL 1814.591477 680.716875 \r\nL 1802.332386 680.716875 \r\nz\r\n\" style=\"fill:#1f77b4;fill-opacity:0.5;stroke:#ffffff;stroke-linejoin:miter;stroke-width:0.3;\"/>\r\n   </g>\r\n   <g id=\"patch_341\">\r\n    <path clip-path=\"url(#p30f4854e1d)\" d=\"M 1814.591477 680.716875 \r\nL 1826.850568 680.716875 \r\nL 1826.850568 680.716875 \r\nL 1814.591477 680.716875 \r\nz\r\n\" style=\"fill:#1f77b4;fill-opacity:0.5;stroke:#ffffff;stroke-linejoin:miter;stroke-width:0.3;\"/>\r\n   </g>\r\n   <g id=\"patch_342\">\r\n    <path clip-path=\"url(#p30f4854e1d)\" d=\"M 1826.850568 680.716875 \r\nL 1839.109659 680.716875 \r\nL 1839.109659 680.452775 \r\nL 1826.850568 680.452775 \r\nz\r\n\" style=\"fill:#1f77b4;fill-opacity:0.5;stroke:#ffffff;stroke-linejoin:miter;stroke-width:0.3;\"/>\r\n   </g>\r\n   <g id=\"patch_343\">\r\n    <path clip-path=\"url(#p30f4854e1d)\" d=\"M 1839.109659 680.716875 \r\nL 1851.36875 680.716875 \r\nL 1851.36875 680.716875 \r\nL 1839.109659 680.716875 \r\nz\r\n\" style=\"fill:#1f77b4;fill-opacity:0.5;stroke:#ffffff;stroke-linejoin:miter;stroke-width:0.3;\"/>\r\n   </g>\r\n   <g id=\"patch_344\">\r\n    <path clip-path=\"url(#p30f4854e1d)\" d=\"M 1851.36875 680.716875 \r\nL 1863.627841 680.716875 \r\nL 1863.627841 680.54631 \r\nL 1851.36875 680.54631 \r\nz\r\n\" style=\"fill:#1f77b4;fill-opacity:0.5;stroke:#ffffff;stroke-linejoin:miter;stroke-width:0.3;\"/>\r\n   </g>\r\n   <g id=\"patch_345\">\r\n    <path clip-path=\"url(#p30f4854e1d)\" d=\"M 1863.627841 680.716875 \r\nL 1875.886932 680.716875 \r\nL 1875.886932 680.716875 \r\nL 1863.627841 680.716875 \r\nz\r\n\" style=\"fill:#1f77b4;fill-opacity:0.5;stroke:#ffffff;stroke-linejoin:miter;stroke-width:0.3;\"/>\r\n   </g>\r\n   <g id=\"patch_346\">\r\n    <path clip-path=\"url(#p30f4854e1d)\" d=\"M 1875.886932 680.716875 \r\nL 1888.146023 680.716875 \r\nL 1888.146023 680.5188 \r\nL 1875.886932 680.5188 \r\nz\r\n\" style=\"fill:#1f77b4;fill-opacity:0.5;stroke:#ffffff;stroke-linejoin:miter;stroke-width:0.3;\"/>\r\n   </g>\r\n   <g id=\"patch_347\">\r\n    <path clip-path=\"url(#p30f4854e1d)\" d=\"M 1888.146023 680.716875 \r\nL 1900.405114 680.716875 \r\nL 1900.405114 680.716875 \r\nL 1888.146023 680.716875 \r\nz\r\n\" style=\"fill:#1f77b4;fill-opacity:0.5;stroke:#ffffff;stroke-linejoin:miter;stroke-width:0.3;\"/>\r\n   </g>\r\n   <g id=\"patch_348\">\r\n    <path clip-path=\"url(#p30f4854e1d)\" d=\"M 1900.405114 680.716875 \r\nL 1912.664205 680.716875 \r\nL 1912.664205 680.551812 \r\nL 1900.405114 680.551812 \r\nz\r\n\" style=\"fill:#1f77b4;fill-opacity:0.5;stroke:#ffffff;stroke-linejoin:miter;stroke-width:0.3;\"/>\r\n   </g>\r\n   <g id=\"patch_349\">\r\n    <path clip-path=\"url(#p30f4854e1d)\" d=\"M 1912.664205 680.716875 \r\nL 1924.923295 680.716875 \r\nL 1924.923295 680.716875 \r\nL 1912.664205 680.716875 \r\nz\r\n\" style=\"fill:#1f77b4;fill-opacity:0.5;stroke:#ffffff;stroke-linejoin:miter;stroke-width:0.3;\"/>\r\n   </g>\r\n   <g id=\"patch_350\">\r\n    <path clip-path=\"url(#p30f4854e1d)\" d=\"M 1924.923295 680.716875 \r\nL 1937.182386 680.716875 \r\nL 1937.182386 680.716875 \r\nL 1924.923295 680.716875 \r\nz\r\n\" style=\"fill:#1f77b4;fill-opacity:0.5;stroke:#ffffff;stroke-linejoin:miter;stroke-width:0.3;\"/>\r\n   </g>\r\n   <g id=\"patch_351\">\r\n    <path clip-path=\"url(#p30f4854e1d)\" d=\"M 1937.182386 680.716875 \r\nL 1949.441477 680.716875 \r\nL 1949.441477 680.557314 \r\nL 1937.182386 680.557314 \r\nz\r\n\" style=\"fill:#1f77b4;fill-opacity:0.5;stroke:#ffffff;stroke-linejoin:miter;stroke-width:0.3;\"/>\r\n   </g>\r\n   <g id=\"patch_352\">\r\n    <path clip-path=\"url(#p30f4854e1d)\" d=\"M 1949.441477 680.716875 \r\nL 1961.700568 680.716875 \r\nL 1961.700568 680.716875 \r\nL 1949.441477 680.716875 \r\nz\r\n\" style=\"fill:#1f77b4;fill-opacity:0.5;stroke:#ffffff;stroke-linejoin:miter;stroke-width:0.3;\"/>\r\n   </g>\r\n   <g id=\"patch_353\">\r\n    <path clip-path=\"url(#p30f4854e1d)\" d=\"M 1961.700568 680.716875 \r\nL 1973.959659 680.716875 \r\nL 1973.959659 680.5188 \r\nL 1961.700568 680.5188 \r\nz\r\n\" style=\"fill:#1f77b4;fill-opacity:0.5;stroke:#ffffff;stroke-linejoin:miter;stroke-width:0.3;\"/>\r\n   </g>\r\n   <g id=\"patch_354\">\r\n    <path clip-path=\"url(#p30f4854e1d)\" d=\"M 1973.959659 680.716875 \r\nL 1986.21875 680.716875 \r\nL 1986.21875 680.716875 \r\nL 1973.959659 680.716875 \r\nz\r\n\" style=\"fill:#1f77b4;fill-opacity:0.5;stroke:#ffffff;stroke-linejoin:miter;stroke-width:0.3;\"/>\r\n   </g>\r\n   <g id=\"patch_355\">\r\n    <path clip-path=\"url(#p30f4854e1d)\" d=\"M 1986.21875 680.716875 \r\nL 1998.477841 680.716875 \r\nL 1998.477841 680.425264 \r\nL 1986.21875 680.425264 \r\nz\r\n\" style=\"fill:#1f77b4;fill-opacity:0.5;stroke:#ffffff;stroke-linejoin:miter;stroke-width:0.3;\"/>\r\n   </g>\r\n   <g id=\"patch_356\">\r\n    <path clip-path=\"url(#p30f4854e1d)\" d=\"M 1998.477841 680.716875 \r\nL 2010.736932 680.716875 \r\nL 2010.736932 680.716875 \r\nL 1998.477841 680.716875 \r\nz\r\n\" style=\"fill:#1f77b4;fill-opacity:0.5;stroke:#ffffff;stroke-linejoin:miter;stroke-width:0.3;\"/>\r\n   </g>\r\n   <g id=\"patch_357\">\r\n    <path clip-path=\"url(#p30f4854e1d)\" d=\"M 2010.736932 680.716875 \r\nL 2022.996023 680.716875 \r\nL 2022.996023 680.716875 \r\nL 2010.736932 680.716875 \r\nz\r\n\" style=\"fill:#1f77b4;fill-opacity:0.5;stroke:#ffffff;stroke-linejoin:miter;stroke-width:0.3;\"/>\r\n   </g>\r\n   <g id=\"patch_358\">\r\n    <path clip-path=\"url(#p30f4854e1d)\" d=\"M 2022.996023 680.716875 \r\nL 2035.255114 680.716875 \r\nL 2035.255114 680.5188 \r\nL 2022.996023 680.5188 \r\nz\r\n\" style=\"fill:#1f77b4;fill-opacity:0.5;stroke:#ffffff;stroke-linejoin:miter;stroke-width:0.3;\"/>\r\n   </g>\r\n   <g id=\"patch_359\">\r\n    <path clip-path=\"url(#p30f4854e1d)\" d=\"M 2035.255114 680.716875 \r\nL 2047.514205 680.716875 \r\nL 2047.514205 680.716875 \r\nL 2035.255114 680.716875 \r\nz\r\n\" style=\"fill:#1f77b4;fill-opacity:0.5;stroke:#ffffff;stroke-linejoin:miter;stroke-width:0.3;\"/>\r\n   </g>\r\n   <g id=\"patch_360\">\r\n    <path clip-path=\"url(#p30f4854e1d)\" d=\"M 2047.514205 680.716875 \r\nL 2059.773295 680.716875 \r\nL 2059.773295 680.595829 \r\nL 2047.514205 680.595829 \r\nz\r\n\" style=\"fill:#1f77b4;fill-opacity:0.5;stroke:#ffffff;stroke-linejoin:miter;stroke-width:0.3;\"/>\r\n   </g>\r\n   <g id=\"patch_361\">\r\n    <path clip-path=\"url(#p30f4854e1d)\" d=\"M 2059.773295 680.716875 \r\nL 2072.032386 680.716875 \r\nL 2072.032386 680.716875 \r\nL 2059.773295 680.716875 \r\nz\r\n\" style=\"fill:#1f77b4;fill-opacity:0.5;stroke:#ffffff;stroke-linejoin:miter;stroke-width:0.3;\"/>\r\n   </g>\r\n   <g id=\"patch_362\">\r\n    <path clip-path=\"url(#p30f4854e1d)\" d=\"M 2072.032386 680.716875 \r\nL 2084.291477 680.716875 \r\nL 2084.291477 680.590327 \r\nL 2072.032386 680.590327 \r\nz\r\n\" style=\"fill:#1f77b4;fill-opacity:0.5;stroke:#ffffff;stroke-linejoin:miter;stroke-width:0.3;\"/>\r\n   </g>\r\n   <g id=\"patch_363\">\r\n    <path clip-path=\"url(#p30f4854e1d)\" d=\"M 2084.291477 680.716875 \r\nL 2096.550568 680.716875 \r\nL 2096.550568 680.716875 \r\nL 2084.291477 680.716875 \r\nz\r\n\" style=\"fill:#1f77b4;fill-opacity:0.5;stroke:#ffffff;stroke-linejoin:miter;stroke-width:0.3;\"/>\r\n   </g>\r\n   <g id=\"patch_364\">\r\n    <path clip-path=\"url(#p30f4854e1d)\" d=\"M 2096.550568 680.716875 \r\nL 2108.809659 680.716875 \r\nL 2108.809659 680.634344 \r\nL 2096.550568 680.634344 \r\nz\r\n\" style=\"fill:#1f77b4;fill-opacity:0.5;stroke:#ffffff;stroke-linejoin:miter;stroke-width:0.3;\"/>\r\n   </g>\r\n   <g id=\"patch_365\">\r\n    <path clip-path=\"url(#p30f4854e1d)\" d=\"M 2108.809659 680.716875 \r\nL 2121.06875 680.716875 \r\nL 2121.06875 680.716875 \r\nL 2108.809659 680.716875 \r\nz\r\n\" style=\"fill:#1f77b4;fill-opacity:0.5;stroke:#ffffff;stroke-linejoin:miter;stroke-width:0.3;\"/>\r\n   </g>\r\n   <g id=\"patch_366\">\r\n    <path clip-path=\"url(#p30f4854e1d)\" d=\"M 2121.06875 680.716875 \r\nL 2133.327841 680.716875 \r\nL 2133.327841 680.716875 \r\nL 2121.06875 680.716875 \r\nz\r\n\" style=\"fill:#1f77b4;fill-opacity:0.5;stroke:#ffffff;stroke-linejoin:miter;stroke-width:0.3;\"/>\r\n   </g>\r\n   <g id=\"patch_367\">\r\n    <path clip-path=\"url(#p30f4854e1d)\" d=\"M 2133.327841 680.716875 \r\nL 2145.586932 680.716875 \r\nL 2145.586932 680.634344 \r\nL 2133.327841 680.634344 \r\nz\r\n\" style=\"fill:#1f77b4;fill-opacity:0.5;stroke:#ffffff;stroke-linejoin:miter;stroke-width:0.3;\"/>\r\n   </g>\r\n   <g id=\"patch_368\">\r\n    <path clip-path=\"url(#p30f4854e1d)\" d=\"M 2145.586932 680.716875 \r\nL 2157.846023 680.716875 \r\nL 2157.846023 680.716875 \r\nL 2145.586932 680.716875 \r\nz\r\n\" style=\"fill:#1f77b4;fill-opacity:0.5;stroke:#ffffff;stroke-linejoin:miter;stroke-width:0.3;\"/>\r\n   </g>\r\n   <g id=\"patch_369\">\r\n    <path clip-path=\"url(#p30f4854e1d)\" d=\"M 2157.846023 680.716875 \r\nL 2170.105114 680.716875 \r\nL 2170.105114 680.612335 \r\nL 2157.846023 680.612335 \r\nz\r\n\" style=\"fill:#1f77b4;fill-opacity:0.5;stroke:#ffffff;stroke-linejoin:miter;stroke-width:0.3;\"/>\r\n   </g>\r\n   <g id=\"patch_370\">\r\n    <path clip-path=\"url(#p30f4854e1d)\" d=\"M 2170.105114 680.716875 \r\nL 2182.364205 680.716875 \r\nL 2182.364205 680.716875 \r\nL 2170.105114 680.716875 \r\nz\r\n\" style=\"fill:#1f77b4;fill-opacity:0.5;stroke:#ffffff;stroke-linejoin:miter;stroke-width:0.3;\"/>\r\n   </g>\r\n   <g id=\"patch_371\">\r\n    <path clip-path=\"url(#p30f4854e1d)\" d=\"M 2182.364205 680.716875 \r\nL 2194.623295 680.716875 \r\nL 2194.623295 680.645348 \r\nL 2182.364205 680.645348 \r\nz\r\n\" style=\"fill:#1f77b4;fill-opacity:0.5;stroke:#ffffff;stroke-linejoin:miter;stroke-width:0.3;\"/>\r\n   </g>\r\n   <g id=\"patch_372\">\r\n    <path clip-path=\"url(#p30f4854e1d)\" d=\"M 2194.623295 680.716875 \r\nL 2206.882386 680.716875 \r\nL 2206.882386 680.716875 \r\nL 2194.623295 680.716875 \r\nz\r\n\" style=\"fill:#1f77b4;fill-opacity:0.5;stroke:#ffffff;stroke-linejoin:miter;stroke-width:0.3;\"/>\r\n   </g>\r\n   <g id=\"patch_373\">\r\n    <path clip-path=\"url(#p30f4854e1d)\" d=\"M 2206.882386 680.716875 \r\nL 2219.141477 680.716875 \r\nL 2219.141477 680.661854 \r\nL 2206.882386 680.661854 \r\nz\r\n\" style=\"fill:#1f77b4;fill-opacity:0.5;stroke:#ffffff;stroke-linejoin:miter;stroke-width:0.3;\"/>\r\n   </g>\r\n   <g id=\"patch_374\">\r\n    <path clip-path=\"url(#p30f4854e1d)\" d=\"M 2219.141477 680.716875 \r\nL 2231.400568 680.716875 \r\nL 2231.400568 680.716875 \r\nL 2219.141477 680.716875 \r\nz\r\n\" style=\"fill:#1f77b4;fill-opacity:0.5;stroke:#ffffff;stroke-linejoin:miter;stroke-width:0.3;\"/>\r\n   </g>\r\n   <g id=\"patch_375\">\r\n    <path clip-path=\"url(#p30f4854e1d)\" d=\"M 2231.400568 680.716875 \r\nL 2243.659659 680.716875 \r\nL 2243.659659 680.716875 \r\nL 2231.400568 680.716875 \r\nz\r\n\" style=\"fill:#1f77b4;fill-opacity:0.5;stroke:#ffffff;stroke-linejoin:miter;stroke-width:0.3;\"/>\r\n   </g>\r\n   <g id=\"patch_376\">\r\n    <path clip-path=\"url(#p30f4854e1d)\" d=\"M 2243.659659 680.716875 \r\nL 2255.91875 680.716875 \r\nL 2255.91875 680.595829 \r\nL 2243.659659 680.595829 \r\nz\r\n\" style=\"fill:#1f77b4;fill-opacity:0.5;stroke:#ffffff;stroke-linejoin:miter;stroke-width:0.3;\"/>\r\n   </g>\r\n   <g id=\"patch_377\">\r\n    <path clip-path=\"url(#p30f4854e1d)\" d=\"M 2255.91875 680.716875 \r\nL 2268.177841 680.716875 \r\nL 2268.177841 680.716875 \r\nL 2255.91875 680.716875 \r\nz\r\n\" style=\"fill:#1f77b4;fill-opacity:0.5;stroke:#ffffff;stroke-linejoin:miter;stroke-width:0.3;\"/>\r\n   </g>\r\n   <g id=\"patch_378\">\r\n    <path clip-path=\"url(#p30f4854e1d)\" d=\"M 2268.177841 680.716875 \r\nL 2280.436932 680.716875 \r\nL 2280.436932 680.645348 \r\nL 2268.177841 680.645348 \r\nz\r\n\" style=\"fill:#1f77b4;fill-opacity:0.5;stroke:#ffffff;stroke-linejoin:miter;stroke-width:0.3;\"/>\r\n   </g>\r\n   <g id=\"patch_379\">\r\n    <path clip-path=\"url(#p30f4854e1d)\" d=\"M 2280.436932 680.716875 \r\nL 2292.696023 680.716875 \r\nL 2292.696023 680.716875 \r\nL 2280.436932 680.716875 \r\nz\r\n\" style=\"fill:#1f77b4;fill-opacity:0.5;stroke:#ffffff;stroke-linejoin:miter;stroke-width:0.3;\"/>\r\n   </g>\r\n   <g id=\"patch_380\">\r\n    <path clip-path=\"url(#p30f4854e1d)\" d=\"M 2292.696023 680.716875 \r\nL 2304.955114 680.716875 \r\nL 2304.955114 680.667356 \r\nL 2292.696023 680.667356 \r\nz\r\n\" style=\"fill:#1f77b4;fill-opacity:0.5;stroke:#ffffff;stroke-linejoin:miter;stroke-width:0.3;\"/>\r\n   </g>\r\n   <g id=\"patch_381\">\r\n    <path clip-path=\"url(#p30f4854e1d)\" d=\"M 2304.955114 680.716875 \r\nL 2317.214205 680.716875 \r\nL 2317.214205 680.716875 \r\nL 2304.955114 680.716875 \r\nz\r\n\" style=\"fill:#1f77b4;fill-opacity:0.5;stroke:#ffffff;stroke-linejoin:miter;stroke-width:0.3;\"/>\r\n   </g>\r\n   <g id=\"patch_382\">\r\n    <path clip-path=\"url(#p30f4854e1d)\" d=\"M 2317.214205 680.716875 \r\nL 2329.473295 680.716875 \r\nL 2329.473295 680.716875 \r\nL 2317.214205 680.716875 \r\nz\r\n\" style=\"fill:#1f77b4;fill-opacity:0.5;stroke:#ffffff;stroke-linejoin:miter;stroke-width:0.3;\"/>\r\n   </g>\r\n   <g id=\"patch_383\">\r\n    <path clip-path=\"url(#p30f4854e1d)\" d=\"M 2329.473295 680.716875 \r\nL 2341.732386 680.716875 \r\nL 2341.732386 680.656352 \r\nL 2329.473295 680.656352 \r\nz\r\n\" style=\"fill:#1f77b4;fill-opacity:0.5;stroke:#ffffff;stroke-linejoin:miter;stroke-width:0.3;\"/>\r\n   </g>\r\n   <g id=\"patch_384\">\r\n    <path clip-path=\"url(#p30f4854e1d)\" d=\"M 2341.732386 680.716875 \r\nL 2353.991477 680.716875 \r\nL 2353.991477 680.716875 \r\nL 2341.732386 680.716875 \r\nz\r\n\" style=\"fill:#1f77b4;fill-opacity:0.5;stroke:#ffffff;stroke-linejoin:miter;stroke-width:0.3;\"/>\r\n   </g>\r\n   <g id=\"patch_385\">\r\n    <path clip-path=\"url(#p30f4854e1d)\" d=\"M 2353.991477 680.716875 \r\nL 2366.250568 680.716875 \r\nL 2366.250568 680.661854 \r\nL 2353.991477 680.661854 \r\nz\r\n\" style=\"fill:#1f77b4;fill-opacity:0.5;stroke:#ffffff;stroke-linejoin:miter;stroke-width:0.3;\"/>\r\n   </g>\r\n   <g id=\"patch_386\">\r\n    <path clip-path=\"url(#p30f4854e1d)\" d=\"M 2366.250568 680.716875 \r\nL 2378.509659 680.716875 \r\nL 2378.509659 680.716875 \r\nL 2366.250568 680.716875 \r\nz\r\n\" style=\"fill:#1f77b4;fill-opacity:0.5;stroke:#ffffff;stroke-linejoin:miter;stroke-width:0.3;\"/>\r\n   </g>\r\n   <g id=\"patch_387\">\r\n    <path clip-path=\"url(#p30f4854e1d)\" d=\"M 2378.509659 680.716875 \r\nL 2390.76875 680.716875 \r\nL 2390.76875 680.67836 \r\nL 2378.509659 680.67836 \r\nz\r\n\" style=\"fill:#1f77b4;fill-opacity:0.5;stroke:#ffffff;stroke-linejoin:miter;stroke-width:0.3;\"/>\r\n   </g>\r\n   <g id=\"patch_388\">\r\n    <path clip-path=\"url(#p30f4854e1d)\" d=\"M 2390.76875 680.716875 \r\nL 2403.027841 680.716875 \r\nL 2403.027841 680.716875 \r\nL 2390.76875 680.716875 \r\nz\r\n\" style=\"fill:#1f77b4;fill-opacity:0.5;stroke:#ffffff;stroke-linejoin:miter;stroke-width:0.3;\"/>\r\n   </g>\r\n   <g id=\"patch_389\">\r\n    <path clip-path=\"url(#p30f4854e1d)\" d=\"M 2403.027841 680.716875 \r\nL 2415.286932 680.716875 \r\nL 2415.286932 680.67836 \r\nL 2403.027841 680.67836 \r\nz\r\n\" style=\"fill:#1f77b4;fill-opacity:0.5;stroke:#ffffff;stroke-linejoin:miter;stroke-width:0.3;\"/>\r\n   </g>\r\n   <g id=\"patch_390\">\r\n    <path clip-path=\"url(#p30f4854e1d)\" d=\"M 2415.286932 680.716875 \r\nL 2427.546023 680.716875 \r\nL 2427.546023 680.716875 \r\nL 2415.286932 680.716875 \r\nz\r\n\" style=\"fill:#1f77b4;fill-opacity:0.5;stroke:#ffffff;stroke-linejoin:miter;stroke-width:0.3;\"/>\r\n   </g>\r\n   <g id=\"patch_391\">\r\n    <path clip-path=\"url(#p30f4854e1d)\" d=\"M 2427.546023 680.716875 \r\nL 2439.805114 680.716875 \r\nL 2439.805114 680.716875 \r\nL 2427.546023 680.716875 \r\nz\r\n\" style=\"fill:#1f77b4;fill-opacity:0.5;stroke:#ffffff;stroke-linejoin:miter;stroke-width:0.3;\"/>\r\n   </g>\r\n   <g id=\"patch_392\">\r\n    <path clip-path=\"url(#p30f4854e1d)\" d=\"M 2439.805114 680.716875 \r\nL 2452.064205 680.716875 \r\nL 2452.064205 680.683862 \r\nL 2439.805114 680.683862 \r\nz\r\n\" style=\"fill:#1f77b4;fill-opacity:0.5;stroke:#ffffff;stroke-linejoin:miter;stroke-width:0.3;\"/>\r\n   </g>\r\n   <g id=\"patch_393\">\r\n    <path clip-path=\"url(#p30f4854e1d)\" d=\"M 2452.064205 680.716875 \r\nL 2464.323295 680.716875 \r\nL 2464.323295 680.716875 \r\nL 2452.064205 680.716875 \r\nz\r\n\" style=\"fill:#1f77b4;fill-opacity:0.5;stroke:#ffffff;stroke-linejoin:miter;stroke-width:0.3;\"/>\r\n   </g>\r\n   <g id=\"patch_394\">\r\n    <path clip-path=\"url(#p30f4854e1d)\" d=\"M 2464.323295 680.716875 \r\nL 2476.582386 680.716875 \r\nL 2476.582386 680.705871 \r\nL 2464.323295 680.705871 \r\nz\r\n\" style=\"fill:#1f77b4;fill-opacity:0.5;stroke:#ffffff;stroke-linejoin:miter;stroke-width:0.3;\"/>\r\n   </g>\r\n   <g id=\"patch_395\">\r\n    <path clip-path=\"url(#p30f4854e1d)\" d=\"M 2476.582386 680.716875 \r\nL 2488.841477 680.716875 \r\nL 2488.841477 680.716875 \r\nL 2476.582386 680.716875 \r\nz\r\n\" style=\"fill:#1f77b4;fill-opacity:0.5;stroke:#ffffff;stroke-linejoin:miter;stroke-width:0.3;\"/>\r\n   </g>\r\n   <g id=\"patch_396\">\r\n    <path clip-path=\"url(#p30f4854e1d)\" d=\"M 2488.841477 680.716875 \r\nL 2501.100568 680.716875 \r\nL 2501.100568 680.694867 \r\nL 2488.841477 680.694867 \r\nz\r\n\" style=\"fill:#1f77b4;fill-opacity:0.5;stroke:#ffffff;stroke-linejoin:miter;stroke-width:0.3;\"/>\r\n   </g>\r\n   <g id=\"patch_397\">\r\n    <path clip-path=\"url(#p30f4854e1d)\" d=\"M 2501.100568 680.716875 \r\nL 2513.359659 680.716875 \r\nL 2513.359659 680.716875 \r\nL 2501.100568 680.716875 \r\nz\r\n\" style=\"fill:#1f77b4;fill-opacity:0.5;stroke:#ffffff;stroke-linejoin:miter;stroke-width:0.3;\"/>\r\n   </g>\r\n   <g id=\"patch_398\">\r\n    <path clip-path=\"url(#p30f4854e1d)\" d=\"M 2513.359659 680.716875 \r\nL 2525.61875 680.716875 \r\nL 2525.61875 680.705871 \r\nL 2513.359659 680.705871 \r\nz\r\n\" style=\"fill:#1f77b4;fill-opacity:0.5;stroke:#ffffff;stroke-linejoin:miter;stroke-width:0.3;\"/>\r\n   </g>\r\n   <g id=\"patch_399\">\r\n    <path d=\"M 98.31875 680.716875 \r\nL 98.31875 28.396875 \r\n\" style=\"fill:none;stroke:#262626;stroke-linecap:square;stroke-linejoin:miter;stroke-width:2;\"/>\r\n   </g>\r\n   <g id=\"patch_400\">\r\n    <path d=\"M 1214.31875 680.716875 \r\nL 1214.31875 28.396875 \r\n\" style=\"fill:none;stroke:#262626;stroke-linecap:square;stroke-linejoin:miter;stroke-width:2;\"/>\r\n   </g>\r\n   <g id=\"patch_401\">\r\n    <path d=\"M 98.31875 680.716875 \r\nL 1214.31875 680.716875 \r\n\" style=\"fill:none;stroke:#262626;stroke-linecap:square;stroke-linejoin:miter;stroke-width:2;\"/>\r\n   </g>\r\n   <g id=\"patch_402\">\r\n    <path d=\"M 98.31875 28.396875 \r\nL 1214.31875 28.396875 \r\n\" style=\"fill:none;stroke:#262626;stroke-linecap:square;stroke-linejoin:miter;stroke-width:2;\"/>\r\n   </g>\r\n   <g id=\"text_18\">\r\n    <!-- SHOT DISTANCE DISTRIBUTION -->\r\n    <g style=\"fill:#262626;\" transform=\"translate(500.564062 22.396875)scale(0.2 -0.2)\">\r\n     <defs>\r\n      <path id=\"DejaVuSans-32\"/>\r\n      <path d=\"M 44.390625 34.1875 \r\nQ 47.5625 33.109375 50.5625 29.59375 \r\nQ 53.5625 26.078125 56.59375 19.921875 \r\nL 66.609375 0 \r\nL 56 0 \r\nL 46.6875 18.703125 \r\nQ 43.0625 26.03125 39.671875 28.421875 \r\nQ 36.28125 30.8125 30.421875 30.8125 \r\nL 19.671875 30.8125 \r\nL 19.671875 0 \r\nL 9.8125 0 \r\nL 9.8125 72.90625 \r\nL 32.078125 72.90625 \r\nQ 44.578125 72.90625 50.734375 67.671875 \r\nQ 56.890625 62.453125 56.890625 51.90625 \r\nQ 56.890625 45.015625 53.6875 40.46875 \r\nQ 50.484375 35.9375 44.390625 34.1875 \r\nz\r\nM 19.671875 64.796875 \r\nL 19.671875 38.921875 \r\nL 32.078125 38.921875 \r\nQ 39.203125 38.921875 42.84375 42.21875 \r\nQ 46.484375 45.515625 46.484375 51.90625 \r\nQ 46.484375 58.296875 42.84375 61.546875 \r\nQ 39.203125 64.796875 32.078125 64.796875 \r\nz\r\n\" id=\"DejaVuSans-82\"/>\r\n      <path d=\"M 19.671875 34.8125 \r\nL 19.671875 8.109375 \r\nL 35.5 8.109375 \r\nQ 43.453125 8.109375 47.28125 11.40625 \r\nQ 51.125 14.703125 51.125 21.484375 \r\nQ 51.125 28.328125 47.28125 31.5625 \r\nQ 43.453125 34.8125 35.5 34.8125 \r\nz\r\nM 19.671875 64.796875 \r\nL 19.671875 42.828125 \r\nL 34.28125 42.828125 \r\nQ 41.5 42.828125 45.03125 45.53125 \r\nQ 48.578125 48.25 48.578125 53.8125 \r\nQ 48.578125 59.328125 45.03125 62.0625 \r\nQ 41.5 64.796875 34.28125 64.796875 \r\nz\r\nM 9.8125 72.90625 \r\nL 35.015625 72.90625 \r\nQ 46.296875 72.90625 52.390625 68.21875 \r\nQ 58.5 63.53125 58.5 54.890625 \r\nQ 58.5 48.1875 55.375 44.234375 \r\nQ 52.25 40.28125 46.1875 39.3125 \r\nQ 53.46875 37.75 57.5 32.78125 \r\nQ 61.53125 27.828125 61.53125 20.40625 \r\nQ 61.53125 10.640625 54.890625 5.3125 \r\nQ 48.25 0 35.984375 0 \r\nL 9.8125 0 \r\nz\r\n\" id=\"DejaVuSans-66\"/>\r\n     </defs>\r\n     <use xlink:href=\"#DejaVuSans-83\"/>\r\n     <use x=\"63.476562\" xlink:href=\"#DejaVuSans-72\"/>\r\n     <use x=\"138.671875\" xlink:href=\"#DejaVuSans-79\"/>\r\n     <use x=\"217.382812\" xlink:href=\"#DejaVuSans-84\"/>\r\n     <use x=\"278.466797\" xlink:href=\"#DejaVuSans-32\"/>\r\n     <use x=\"310.253906\" xlink:href=\"#DejaVuSans-68\"/>\r\n     <use x=\"387.255859\" xlink:href=\"#DejaVuSans-73\"/>\r\n     <use x=\"416.748047\" xlink:href=\"#DejaVuSans-83\"/>\r\n     <use x=\"480.224609\" xlink:href=\"#DejaVuSans-84\"/>\r\n     <use x=\"533.558594\" xlink:href=\"#DejaVuSans-65\"/>\r\n     <use x=\"601.966797\" xlink:href=\"#DejaVuSans-78\"/>\r\n     <use x=\"676.771484\" xlink:href=\"#DejaVuSans-67\"/>\r\n     <use x=\"746.595703\" xlink:href=\"#DejaVuSans-69\"/>\r\n     <use x=\"809.779297\" xlink:href=\"#DejaVuSans-32\"/>\r\n     <use x=\"841.566406\" xlink:href=\"#DejaVuSans-68\"/>\r\n     <use x=\"918.568359\" xlink:href=\"#DejaVuSans-73\"/>\r\n     <use x=\"948.060547\" xlink:href=\"#DejaVuSans-83\"/>\r\n     <use x=\"1011.537109\" xlink:href=\"#DejaVuSans-84\"/>\r\n     <use x=\"1072.621094\" xlink:href=\"#DejaVuSans-82\"/>\r\n     <use x=\"1142.103516\" xlink:href=\"#DejaVuSans-73\"/>\r\n     <use x=\"1171.595703\" xlink:href=\"#DejaVuSans-66\"/>\r\n     <use x=\"1240.199219\" xlink:href=\"#DejaVuSans-85\"/>\r\n     <use x=\"1313.392578\" xlink:href=\"#DejaVuSans-84\"/>\r\n     <use x=\"1374.476562\" xlink:href=\"#DejaVuSans-73\"/>\r\n     <use x=\"1403.96875\" xlink:href=\"#DejaVuSans-79\"/>\r\n     <use x=\"1482.679688\" xlink:href=\"#DejaVuSans-78\"/>\r\n    </g>\r\n   </g>\r\n   <g id=\"legend_1\">\r\n    <g id=\"patch_403\">\r\n     <path d=\"M 1099.97625 88.674375 \r\nL 1207.31875 88.674375 \r\nQ 1209.31875 88.674375 1209.31875 86.674375 \r\nL 1209.31875 35.396875 \r\nQ 1209.31875 33.396875 1207.31875 33.396875 \r\nL 1099.97625 33.396875 \r\nQ 1097.97625 33.396875 1097.97625 35.396875 \r\nL 1097.97625 86.674375 \r\nQ 1097.97625 88.674375 1099.97625 88.674375 \r\nz\r\n\" style=\"fill:#ffffff;opacity:0.8;stroke:#cccccc;stroke-linejoin:miter;stroke-width:0.3;\"/>\r\n    </g>\r\n    <g id=\"text_19\">\r\n     <!-- SHOT_TYPE -->\r\n     <g style=\"fill:#262626;\" transform=\"translate(1101.97625 51.074062)scale(0.18 -0.18)\">\r\n      <defs>\r\n       <path d=\"M -0.203125 72.90625 \r\nL 10.40625 72.90625 \r\nL 30.609375 42.921875 \r\nL 50.6875 72.90625 \r\nL 61.28125 72.90625 \r\nL 35.5 34.71875 \r\nL 35.5 0 \r\nL 25.59375 0 \r\nL 25.59375 34.71875 \r\nz\r\n\" id=\"DejaVuSans-89\"/>\r\n       <path d=\"M 19.671875 64.796875 \r\nL 19.671875 37.40625 \r\nL 32.078125 37.40625 \r\nQ 38.96875 37.40625 42.71875 40.96875 \r\nQ 46.484375 44.53125 46.484375 51.125 \r\nQ 46.484375 57.671875 42.71875 61.234375 \r\nQ 38.96875 64.796875 32.078125 64.796875 \r\nz\r\nM 9.8125 72.90625 \r\nL 32.078125 72.90625 \r\nQ 44.34375 72.90625 50.609375 67.359375 \r\nQ 56.890625 61.8125 56.890625 51.125 \r\nQ 56.890625 40.328125 50.609375 34.8125 \r\nQ 44.34375 29.296875 32.078125 29.296875 \r\nL 19.671875 29.296875 \r\nL 19.671875 0 \r\nL 9.8125 0 \r\nz\r\n\" id=\"DejaVuSans-80\"/>\r\n      </defs>\r\n      <use xlink:href=\"#DejaVuSans-83\"/>\r\n      <use x=\"63.476562\" xlink:href=\"#DejaVuSans-72\"/>\r\n      <use x=\"138.671875\" xlink:href=\"#DejaVuSans-79\"/>\r\n      <use x=\"217.382812\" xlink:href=\"#DejaVuSans-84\"/>\r\n      <use x=\"278.466797\" xlink:href=\"#DejaVuSans-95\"/>\r\n      <use x=\"328.466797\" xlink:href=\"#DejaVuSans-84\"/>\r\n      <use x=\"389.550781\" xlink:href=\"#DejaVuSans-89\"/>\r\n      <use x=\"450.634766\" xlink:href=\"#DejaVuSans-80\"/>\r\n      <use x=\"510.9375\" xlink:href=\"#DejaVuSans-69\"/>\r\n     </g>\r\n    </g>\r\n    <g id=\"patch_404\">\r\n     <path d=\"M 1104.290469 67.916562 \r\nL 1124.290469 67.916562 \r\nL 1124.290469 60.916562 \r\nL 1104.290469 60.916562 \r\nz\r\n\" style=\"fill:#1f77b4;fill-opacity:0.5;stroke:#ffffff;stroke-linejoin:miter;stroke-width:0.3;\"/>\r\n    </g>\r\n    <g id=\"text_20\">\r\n     <!-- 3PT Field Goal -->\r\n     <g style=\"fill:#262626;\" transform=\"translate(1132.290469 67.916562)scale(0.1 -0.1)\">\r\n      <defs>\r\n       <path d=\"M 9.8125 72.90625 \r\nL 51.703125 72.90625 \r\nL 51.703125 64.59375 \r\nL 19.671875 64.59375 \r\nL 19.671875 43.109375 \r\nL 48.578125 43.109375 \r\nL 48.578125 34.8125 \r\nL 19.671875 34.8125 \r\nL 19.671875 0 \r\nL 9.8125 0 \r\nz\r\n\" id=\"DejaVuSans-70\"/>\r\n       <path d=\"M 9.421875 54.6875 \r\nL 18.40625 54.6875 \r\nL 18.40625 0 \r\nL 9.421875 0 \r\nz\r\nM 9.421875 75.984375 \r\nL 18.40625 75.984375 \r\nL 18.40625 64.59375 \r\nL 9.421875 64.59375 \r\nz\r\n\" id=\"DejaVuSans-105\"/>\r\n       <path d=\"M 56.203125 29.59375 \r\nL 56.203125 25.203125 \r\nL 14.890625 25.203125 \r\nQ 15.484375 15.921875 20.484375 11.0625 \r\nQ 25.484375 6.203125 34.421875 6.203125 \r\nQ 39.59375 6.203125 44.453125 7.46875 \r\nQ 49.3125 8.734375 54.109375 11.28125 \r\nL 54.109375 2.78125 \r\nQ 49.265625 0.734375 44.1875 -0.34375 \r\nQ 39.109375 -1.421875 33.890625 -1.421875 \r\nQ 20.796875 -1.421875 13.15625 6.1875 \r\nQ 5.515625 13.8125 5.515625 26.8125 \r\nQ 5.515625 40.234375 12.765625 48.109375 \r\nQ 20.015625 56 32.328125 56 \r\nQ 43.359375 56 49.78125 48.890625 \r\nQ 56.203125 41.796875 56.203125 29.59375 \r\nz\r\nM 47.21875 32.234375 \r\nQ 47.125 39.59375 43.09375 43.984375 \r\nQ 39.0625 48.390625 32.421875 48.390625 \r\nQ 24.90625 48.390625 20.390625 44.140625 \r\nQ 15.875 39.890625 15.1875 32.171875 \r\nz\r\n\" id=\"DejaVuSans-101\"/>\r\n       <path d=\"M 9.421875 75.984375 \r\nL 18.40625 75.984375 \r\nL 18.40625 0 \r\nL 9.421875 0 \r\nz\r\n\" id=\"DejaVuSans-108\"/>\r\n       <path d=\"M 45.40625 46.390625 \r\nL 45.40625 75.984375 \r\nL 54.390625 75.984375 \r\nL 54.390625 0 \r\nL 45.40625 0 \r\nL 45.40625 8.203125 \r\nQ 42.578125 3.328125 38.25 0.953125 \r\nQ 33.9375 -1.421875 27.875 -1.421875 \r\nQ 17.96875 -1.421875 11.734375 6.484375 \r\nQ 5.515625 14.40625 5.515625 27.296875 \r\nQ 5.515625 40.1875 11.734375 48.09375 \r\nQ 17.96875 56 27.875 56 \r\nQ 33.9375 56 38.25 53.625 \r\nQ 42.578125 51.265625 45.40625 46.390625 \r\nz\r\nM 14.796875 27.296875 \r\nQ 14.796875 17.390625 18.875 11.75 \r\nQ 22.953125 6.109375 30.078125 6.109375 \r\nQ 37.203125 6.109375 41.296875 11.75 \r\nQ 45.40625 17.390625 45.40625 27.296875 \r\nQ 45.40625 37.203125 41.296875 42.84375 \r\nQ 37.203125 48.484375 30.078125 48.484375 \r\nQ 22.953125 48.484375 18.875 42.84375 \r\nQ 14.796875 37.203125 14.796875 27.296875 \r\nz\r\n\" id=\"DejaVuSans-100\"/>\r\n       <path d=\"M 59.515625 10.40625 \r\nL 59.515625 29.984375 \r\nL 43.40625 29.984375 \r\nL 43.40625 38.09375 \r\nL 69.28125 38.09375 \r\nL 69.28125 6.78125 \r\nQ 63.578125 2.734375 56.6875 0.65625 \r\nQ 49.8125 -1.421875 42 -1.421875 \r\nQ 24.90625 -1.421875 15.25 8.5625 \r\nQ 5.609375 18.5625 5.609375 36.375 \r\nQ 5.609375 54.25 15.25 64.234375 \r\nQ 24.90625 74.21875 42 74.21875 \r\nQ 49.125 74.21875 55.546875 72.453125 \r\nQ 61.96875 70.703125 67.390625 67.28125 \r\nL 67.390625 56.78125 \r\nQ 61.921875 61.421875 55.765625 63.765625 \r\nQ 49.609375 66.109375 42.828125 66.109375 \r\nQ 29.4375 66.109375 22.71875 58.640625 \r\nQ 16.015625 51.171875 16.015625 36.375 \r\nQ 16.015625 21.625 22.71875 14.15625 \r\nQ 29.4375 6.6875 42.828125 6.6875 \r\nQ 48.046875 6.6875 52.140625 7.59375 \r\nQ 56.25 8.5 59.515625 10.40625 \r\nz\r\n\" id=\"DejaVuSans-71\"/>\r\n       <path d=\"M 30.609375 48.390625 \r\nQ 23.390625 48.390625 19.1875 42.75 \r\nQ 14.984375 37.109375 14.984375 27.296875 \r\nQ 14.984375 17.484375 19.15625 11.84375 \r\nQ 23.34375 6.203125 30.609375 6.203125 \r\nQ 37.796875 6.203125 41.984375 11.859375 \r\nQ 46.1875 17.53125 46.1875 27.296875 \r\nQ 46.1875 37.015625 41.984375 42.703125 \r\nQ 37.796875 48.390625 30.609375 48.390625 \r\nz\r\nM 30.609375 56 \r\nQ 42.328125 56 49.015625 48.375 \r\nQ 55.71875 40.765625 55.71875 27.296875 \r\nQ 55.71875 13.875 49.015625 6.21875 \r\nQ 42.328125 -1.421875 30.609375 -1.421875 \r\nQ 18.84375 -1.421875 12.171875 6.21875 \r\nQ 5.515625 13.875 5.515625 27.296875 \r\nQ 5.515625 40.765625 12.171875 48.375 \r\nQ 18.84375 56 30.609375 56 \r\nz\r\n\" id=\"DejaVuSans-111\"/>\r\n       <path d=\"M 34.28125 27.484375 \r\nQ 23.390625 27.484375 19.1875 25 \r\nQ 14.984375 22.515625 14.984375 16.5 \r\nQ 14.984375 11.71875 18.140625 8.90625 \r\nQ 21.296875 6.109375 26.703125 6.109375 \r\nQ 34.1875 6.109375 38.703125 11.40625 \r\nQ 43.21875 16.703125 43.21875 25.484375 \r\nL 43.21875 27.484375 \r\nz\r\nM 52.203125 31.203125 \r\nL 52.203125 0 \r\nL 43.21875 0 \r\nL 43.21875 8.296875 \r\nQ 40.140625 3.328125 35.546875 0.953125 \r\nQ 30.953125 -1.421875 24.3125 -1.421875 \r\nQ 15.921875 -1.421875 10.953125 3.296875 \r\nQ 6 8.015625 6 15.921875 \r\nQ 6 25.140625 12.171875 29.828125 \r\nQ 18.359375 34.515625 30.609375 34.515625 \r\nL 43.21875 34.515625 \r\nL 43.21875 35.40625 \r\nQ 43.21875 41.609375 39.140625 45 \r\nQ 35.0625 48.390625 27.6875 48.390625 \r\nQ 23 48.390625 18.546875 47.265625 \r\nQ 14.109375 46.140625 10.015625 43.890625 \r\nL 10.015625 52.203125 \r\nQ 14.9375 54.109375 19.578125 55.046875 \r\nQ 24.21875 56 28.609375 56 \r\nQ 40.484375 56 46.34375 49.84375 \r\nQ 52.203125 43.703125 52.203125 31.203125 \r\nz\r\n\" id=\"DejaVuSans-97\"/>\r\n      </defs>\r\n      <use xlink:href=\"#DejaVuSans-51\"/>\r\n      <use x=\"63.623047\" xlink:href=\"#DejaVuSans-80\"/>\r\n      <use x=\"123.925781\" xlink:href=\"#DejaVuSans-84\"/>\r\n      <use x=\"185.009766\" xlink:href=\"#DejaVuSans-32\"/>\r\n      <use x=\"216.796875\" xlink:href=\"#DejaVuSans-70\"/>\r\n      <use x=\"267.066406\" xlink:href=\"#DejaVuSans-105\"/>\r\n      <use x=\"294.849609\" xlink:href=\"#DejaVuSans-101\"/>\r\n      <use x=\"356.373047\" xlink:href=\"#DejaVuSans-108\"/>\r\n      <use x=\"384.15625\" xlink:href=\"#DejaVuSans-100\"/>\r\n      <use x=\"447.632812\" xlink:href=\"#DejaVuSans-32\"/>\r\n      <use x=\"479.419922\" xlink:href=\"#DejaVuSans-71\"/>\r\n      <use x=\"556.910156\" xlink:href=\"#DejaVuSans-111\"/>\r\n      <use x=\"618.091797\" xlink:href=\"#DejaVuSans-97\"/>\r\n      <use x=\"679.371094\" xlink:href=\"#DejaVuSans-108\"/>\r\n     </g>\r\n    </g>\r\n    <g id=\"patch_405\">\r\n     <path d=\"M 1104.290469 82.594687 \r\nL 1124.290469 82.594687 \r\nL 1124.290469 75.594687 \r\nL 1104.290469 75.594687 \r\nz\r\n\" style=\"fill:#ff7f0e;fill-opacity:0.5;stroke:#ffffff;stroke-linejoin:miter;stroke-width:0.3;\"/>\r\n    </g>\r\n    <g id=\"text_21\">\r\n     <!-- 2PT Field Goal -->\r\n     <g style=\"fill:#262626;\" transform=\"translate(1132.290469 82.594687)scale(0.1 -0.1)\">\r\n      <use xlink:href=\"#DejaVuSans-50\"/>\r\n      <use x=\"63.623047\" xlink:href=\"#DejaVuSans-80\"/>\r\n      <use x=\"123.925781\" xlink:href=\"#DejaVuSans-84\"/>\r\n      <use x=\"185.009766\" xlink:href=\"#DejaVuSans-32\"/>\r\n      <use x=\"216.796875\" xlink:href=\"#DejaVuSans-70\"/>\r\n      <use x=\"267.066406\" xlink:href=\"#DejaVuSans-105\"/>\r\n      <use x=\"294.849609\" xlink:href=\"#DejaVuSans-101\"/>\r\n      <use x=\"356.373047\" xlink:href=\"#DejaVuSans-108\"/>\r\n      <use x=\"384.15625\" xlink:href=\"#DejaVuSans-100\"/>\r\n      <use x=\"447.632812\" xlink:href=\"#DejaVuSans-32\"/>\r\n      <use x=\"479.419922\" xlink:href=\"#DejaVuSans-71\"/>\r\n      <use x=\"556.910156\" xlink:href=\"#DejaVuSans-111\"/>\r\n      <use x=\"618.091797\" xlink:href=\"#DejaVuSans-97\"/>\r\n      <use x=\"679.371094\" xlink:href=\"#DejaVuSans-108\"/>\r\n     </g>\r\n    </g>\r\n   </g>\r\n  </g>\r\n </g>\r\n <defs>\r\n  <clipPath id=\"p30f4854e1d\">\r\n   <rect height=\"652.32\" width=\"1116\" x=\"98.31875\" y=\"28.396875\"/>\r\n  </clipPath>\r\n </defs>\r\n</svg>\r\n",
            "image/png": "[encoded data removed]"
          },
          "metadata": {}
        }
      ],
      "metadata": {
        "id": "FaLDnIvRaqRG"
      }
    },
    {
      "cell_type": "code",
      "execution_count": 36,
      "source": [
        "# SHOT TYPE BAR PLOT\r\n",
        "\r\n",
        "plt.figure(figsize=(20,12))\r\n",
        "fig2 = sns.countplot(data=nba_shots, x='SHOT_TYPE', palette = 'husl')\r\n",
        "fig2.set_xlabel('SHOT_TYPE', fontsize=20)\r\n",
        "fig2.set_ylabel('COUNT', fontsize=20)\r\n",
        "fig2.tick_params(labelsize=20)\r\n",
        "plt.title('SHOT TYPE', fontsize = 20)\r\n",
        "for p in fig2.patches:\r\n",
        "    txt = str(p.get_height().round(2))\r\n",
        "    txt_x = p.get_x() \r\n",
        "    txt_y = p.get_height()\r\n",
        "    fig2.text(txt_x,txt_y,txt)\r\n",
        "plt.show()"
      ],
      "outputs": [
        {
          "output_type": "display_data",
          "data": {
            "text/plain": [
              "<Figure size 1440x864 with 1 Axes>"
            ],
            "image/svg+xml": "<?xml version=\"1.0\" encoding=\"utf-8\" standalone=\"no\"?>\r\n<!DOCTYPE svg PUBLIC \"-//W3C//DTD SVG 1.1//EN\"\r\n  \"http://www.w3.org/Graphics/SVG/1.1/DTD/svg11.dtd\">\r\n<!-- Created with matplotlib (https://matplotlib.org/) -->\r\n<svg height=\"741.3325pt\" version=\"1.1\" viewBox=\"0 0 1240.60625 741.3325\" width=\"1240.60625pt\" xmlns=\"http://www.w3.org/2000/svg\" xmlns:xlink=\"http://www.w3.org/1999/xlink\">\r\n <metadata>\r\n  <rdf:RDF xmlns:cc=\"http://creativecommons.org/ns#\" xmlns:dc=\"http://purl.org/dc/elements/1.1/\" xmlns:rdf=\"http://www.w3.org/1999/02/22-rdf-syntax-ns#\">\r\n   <cc:Work>\r\n    <dc:type rdf:resource=\"http://purl.org/dc/dcmitype/StillImage\"/>\r\n    <dc:date>2021-09-05T21:59:46.124206</dc:date>\r\n    <dc:format>image/svg+xml</dc:format>\r\n    <dc:creator>\r\n     <cc:Agent>\r\n      <dc:title>Matplotlib v3.3.2, https://matplotlib.org/</dc:title>\r\n     </cc:Agent>\r\n    </dc:creator>\r\n   </cc:Work>\r\n  </rdf:RDF>\r\n </metadata>\r\n <defs>\r\n  <style type=\"text/css\">*{stroke-linecap:butt;stroke-linejoin:round;}</style>\r\n </defs>\r\n <g id=\"figure_1\">\r\n  <g id=\"patch_1\">\r\n   <path d=\"M 0 741.3325 \r\nL 1240.60625 741.3325 \r\nL 1240.60625 0 \r\nL 0 0 \r\nz\r\n\" style=\"fill:#ffffff;\"/>\r\n  </g>\r\n  <g id=\"axes_1\">\r\n   <g id=\"patch_2\">\r\n    <path d=\"M 117.40625 680.716875 \r\nL 1233.40625 680.716875 \r\nL 1233.40625 28.396875 \r\nL 117.40625 28.396875 \r\nz\r\n\" style=\"fill:#ffffff;\"/>\r\n   </g>\r\n   <g id=\"matplotlib.axis_1\">\r\n    <g id=\"xtick_1\">\r\n     <g id=\"text_1\">\r\n      <!-- 3PT Field Goal -->\r\n      <g style=\"fill:#262626;\" transform=\"translate(325.692187 706.41375)scale(0.2 -0.2)\">\r\n       <defs>\r\n        <path d=\"M 40.578125 39.3125 \r\nQ 47.65625 37.796875 51.625 33 \r\nQ 55.609375 28.21875 55.609375 21.1875 \r\nQ 55.609375 10.40625 48.1875 4.484375 \r\nQ 40.765625 -1.421875 27.09375 -1.421875 \r\nQ 22.515625 -1.421875 17.65625 -0.515625 \r\nQ 12.796875 0.390625 7.625 2.203125 \r\nL 7.625 11.71875 \r\nQ 11.71875 9.328125 16.59375 8.109375 \r\nQ 21.484375 6.890625 26.8125 6.890625 \r\nQ 36.078125 6.890625 40.9375 10.546875 \r\nQ 45.796875 14.203125 45.796875 21.1875 \r\nQ 45.796875 27.640625 41.28125 31.265625 \r\nQ 36.765625 34.90625 28.71875 34.90625 \r\nL 20.21875 34.90625 \r\nL 20.21875 43.015625 \r\nL 29.109375 43.015625 \r\nQ 36.375 43.015625 40.234375 45.921875 \r\nQ 44.09375 48.828125 44.09375 54.296875 \r\nQ 44.09375 59.90625 40.109375 62.90625 \r\nQ 36.140625 65.921875 28.71875 65.921875 \r\nQ 24.65625 65.921875 20.015625 65.03125 \r\nQ 15.375 64.15625 9.8125 62.3125 \r\nL 9.8125 71.09375 \r\nQ 15.4375 72.65625 20.34375 73.4375 \r\nQ 25.25 74.21875 29.59375 74.21875 \r\nQ 40.828125 74.21875 47.359375 69.109375 \r\nQ 53.90625 64.015625 53.90625 55.328125 \r\nQ 53.90625 49.265625 50.4375 45.09375 \r\nQ 46.96875 40.921875 40.578125 39.3125 \r\nz\r\n\" id=\"DejaVuSans-51\"/>\r\n        <path d=\"M 19.671875 64.796875 \r\nL 19.671875 37.40625 \r\nL 32.078125 37.40625 \r\nQ 38.96875 37.40625 42.71875 40.96875 \r\nQ 46.484375 44.53125 46.484375 51.125 \r\nQ 46.484375 57.671875 42.71875 61.234375 \r\nQ 38.96875 64.796875 32.078125 64.796875 \r\nz\r\nM 9.8125 72.90625 \r\nL 32.078125 72.90625 \r\nQ 44.34375 72.90625 50.609375 67.359375 \r\nQ 56.890625 61.8125 56.890625 51.125 \r\nQ 56.890625 40.328125 50.609375 34.8125 \r\nQ 44.34375 29.296875 32.078125 29.296875 \r\nL 19.671875 29.296875 \r\nL 19.671875 0 \r\nL 9.8125 0 \r\nz\r\n\" id=\"DejaVuSans-80\"/>\r\n        <path d=\"M -0.296875 72.90625 \r\nL 61.375 72.90625 \r\nL 61.375 64.59375 \r\nL 35.5 64.59375 \r\nL 35.5 0 \r\nL 25.59375 0 \r\nL 25.59375 64.59375 \r\nL -0.296875 64.59375 \r\nz\r\n\" id=\"DejaVuSans-84\"/>\r\n        <path id=\"DejaVuSans-32\"/>\r\n        <path d=\"M 9.8125 72.90625 \r\nL 51.703125 72.90625 \r\nL 51.703125 64.59375 \r\nL 19.671875 64.59375 \r\nL 19.671875 43.109375 \r\nL 48.578125 43.109375 \r\nL 48.578125 34.8125 \r\nL 19.671875 34.8125 \r\nL 19.671875 0 \r\nL 9.8125 0 \r\nz\r\n\" id=\"DejaVuSans-70\"/>\r\n        <path d=\"M 9.421875 54.6875 \r\nL 18.40625 54.6875 \r\nL 18.40625 0 \r\nL 9.421875 0 \r\nz\r\nM 9.421875 75.984375 \r\nL 18.40625 75.984375 \r\nL 18.40625 64.59375 \r\nL 9.421875 64.59375 \r\nz\r\n\" id=\"DejaVuSans-105\"/>\r\n        <path d=\"M 56.203125 29.59375 \r\nL 56.203125 25.203125 \r\nL 14.890625 25.203125 \r\nQ 15.484375 15.921875 20.484375 11.0625 \r\nQ 25.484375 6.203125 34.421875 6.203125 \r\nQ 39.59375 6.203125 44.453125 7.46875 \r\nQ 49.3125 8.734375 54.109375 11.28125 \r\nL 54.109375 2.78125 \r\nQ 49.265625 0.734375 44.1875 -0.34375 \r\nQ 39.109375 -1.421875 33.890625 -1.421875 \r\nQ 20.796875 -1.421875 13.15625 6.1875 \r\nQ 5.515625 13.8125 5.515625 26.8125 \r\nQ 5.515625 40.234375 12.765625 48.109375 \r\nQ 20.015625 56 32.328125 56 \r\nQ 43.359375 56 49.78125 48.890625 \r\nQ 56.203125 41.796875 56.203125 29.59375 \r\nz\r\nM 47.21875 32.234375 \r\nQ 47.125 39.59375 43.09375 43.984375 \r\nQ 39.0625 48.390625 32.421875 48.390625 \r\nQ 24.90625 48.390625 20.390625 44.140625 \r\nQ 15.875 39.890625 15.1875 32.171875 \r\nz\r\n\" id=\"DejaVuSans-101\"/>\r\n        <path d=\"M 9.421875 75.984375 \r\nL 18.40625 75.984375 \r\nL 18.40625 0 \r\nL 9.421875 0 \r\nz\r\n\" id=\"DejaVuSans-108\"/>\r\n        <path d=\"M 45.40625 46.390625 \r\nL 45.40625 75.984375 \r\nL 54.390625 75.984375 \r\nL 54.390625 0 \r\nL 45.40625 0 \r\nL 45.40625 8.203125 \r\nQ 42.578125 3.328125 38.25 0.953125 \r\nQ 33.9375 -1.421875 27.875 -1.421875 \r\nQ 17.96875 -1.421875 11.734375 6.484375 \r\nQ 5.515625 14.40625 5.515625 27.296875 \r\nQ 5.515625 40.1875 11.734375 48.09375 \r\nQ 17.96875 56 27.875 56 \r\nQ 33.9375 56 38.25 53.625 \r\nQ 42.578125 51.265625 45.40625 46.390625 \r\nz\r\nM 14.796875 27.296875 \r\nQ 14.796875 17.390625 18.875 11.75 \r\nQ 22.953125 6.109375 30.078125 6.109375 \r\nQ 37.203125 6.109375 41.296875 11.75 \r\nQ 45.40625 17.390625 45.40625 27.296875 \r\nQ 45.40625 37.203125 41.296875 42.84375 \r\nQ 37.203125 48.484375 30.078125 48.484375 \r\nQ 22.953125 48.484375 18.875 42.84375 \r\nQ 14.796875 37.203125 14.796875 27.296875 \r\nz\r\n\" id=\"DejaVuSans-100\"/>\r\n        <path d=\"M 59.515625 10.40625 \r\nL 59.515625 29.984375 \r\nL 43.40625 29.984375 \r\nL 43.40625 38.09375 \r\nL 69.28125 38.09375 \r\nL 69.28125 6.78125 \r\nQ 63.578125 2.734375 56.6875 0.65625 \r\nQ 49.8125 -1.421875 42 -1.421875 \r\nQ 24.90625 -1.421875 15.25 8.5625 \r\nQ 5.609375 18.5625 5.609375 36.375 \r\nQ 5.609375 54.25 15.25 64.234375 \r\nQ 24.90625 74.21875 42 74.21875 \r\nQ 49.125 74.21875 55.546875 72.453125 \r\nQ 61.96875 70.703125 67.390625 67.28125 \r\nL 67.390625 56.78125 \r\nQ 61.921875 61.421875 55.765625 63.765625 \r\nQ 49.609375 66.109375 42.828125 66.109375 \r\nQ 29.4375 66.109375 22.71875 58.640625 \r\nQ 16.015625 51.171875 16.015625 36.375 \r\nQ 16.015625 21.625 22.71875 14.15625 \r\nQ 29.4375 6.6875 42.828125 6.6875 \r\nQ 48.046875 6.6875 52.140625 7.59375 \r\nQ 56.25 8.5 59.515625 10.40625 \r\nz\r\n\" id=\"DejaVuSans-71\"/>\r\n        <path d=\"M 30.609375 48.390625 \r\nQ 23.390625 48.390625 19.1875 42.75 \r\nQ 14.984375 37.109375 14.984375 27.296875 \r\nQ 14.984375 17.484375 19.15625 11.84375 \r\nQ 23.34375 6.203125 30.609375 6.203125 \r\nQ 37.796875 6.203125 41.984375 11.859375 \r\nQ 46.1875 17.53125 46.1875 27.296875 \r\nQ 46.1875 37.015625 41.984375 42.703125 \r\nQ 37.796875 48.390625 30.609375 48.390625 \r\nz\r\nM 30.609375 56 \r\nQ 42.328125 56 49.015625 48.375 \r\nQ 55.71875 40.765625 55.71875 27.296875 \r\nQ 55.71875 13.875 49.015625 6.21875 \r\nQ 42.328125 -1.421875 30.609375 -1.421875 \r\nQ 18.84375 -1.421875 12.171875 6.21875 \r\nQ 5.515625 13.875 5.515625 27.296875 \r\nQ 5.515625 40.765625 12.171875 48.375 \r\nQ 18.84375 56 30.609375 56 \r\nz\r\n\" id=\"DejaVuSans-111\"/>\r\n        <path d=\"M 34.28125 27.484375 \r\nQ 23.390625 27.484375 19.1875 25 \r\nQ 14.984375 22.515625 14.984375 16.5 \r\nQ 14.984375 11.71875 18.140625 8.90625 \r\nQ 21.296875 6.109375 26.703125 6.109375 \r\nQ 34.1875 6.109375 38.703125 11.40625 \r\nQ 43.21875 16.703125 43.21875 25.484375 \r\nL 43.21875 27.484375 \r\nz\r\nM 52.203125 31.203125 \r\nL 52.203125 0 \r\nL 43.21875 0 \r\nL 43.21875 8.296875 \r\nQ 40.140625 3.328125 35.546875 0.953125 \r\nQ 30.953125 -1.421875 24.3125 -1.421875 \r\nQ 15.921875 -1.421875 10.953125 3.296875 \r\nQ 6 8.015625 6 15.921875 \r\nQ 6 25.140625 12.171875 29.828125 \r\nQ 18.359375 34.515625 30.609375 34.515625 \r\nL 43.21875 34.515625 \r\nL 43.21875 35.40625 \r\nQ 43.21875 41.609375 39.140625 45 \r\nQ 35.0625 48.390625 27.6875 48.390625 \r\nQ 23 48.390625 18.546875 47.265625 \r\nQ 14.109375 46.140625 10.015625 43.890625 \r\nL 10.015625 52.203125 \r\nQ 14.9375 54.109375 19.578125 55.046875 \r\nQ 24.21875 56 28.609375 56 \r\nQ 40.484375 56 46.34375 49.84375 \r\nQ 52.203125 43.703125 52.203125 31.203125 \r\nz\r\n\" id=\"DejaVuSans-97\"/>\r\n       </defs>\r\n       <use xlink:href=\"#DejaVuSans-51\"/>\r\n       <use x=\"63.623047\" xlink:href=\"#DejaVuSans-80\"/>\r\n       <use x=\"123.925781\" xlink:href=\"#DejaVuSans-84\"/>\r\n       <use x=\"185.009766\" xlink:href=\"#DejaVuSans-32\"/>\r\n       <use x=\"216.796875\" xlink:href=\"#DejaVuSans-70\"/>\r\n       <use x=\"267.066406\" xlink:href=\"#DejaVuSans-105\"/>\r\n       <use x=\"294.849609\" xlink:href=\"#DejaVuSans-101\"/>\r\n       <use x=\"356.373047\" xlink:href=\"#DejaVuSans-108\"/>\r\n       <use x=\"384.15625\" xlink:href=\"#DejaVuSans-100\"/>\r\n       <use x=\"447.632812\" xlink:href=\"#DejaVuSans-32\"/>\r\n       <use x=\"479.419922\" xlink:href=\"#DejaVuSans-71\"/>\r\n       <use x=\"556.910156\" xlink:href=\"#DejaVuSans-111\"/>\r\n       <use x=\"618.091797\" xlink:href=\"#DejaVuSans-97\"/>\r\n       <use x=\"679.371094\" xlink:href=\"#DejaVuSans-108\"/>\r\n      </g>\r\n     </g>\r\n    </g>\r\n    <g id=\"xtick_2\">\r\n     <g id=\"text_2\">\r\n      <!-- 2PT Field Goal -->\r\n      <g style=\"fill:#262626;\" transform=\"translate(883.692188 706.41375)scale(0.2 -0.2)\">\r\n       <defs>\r\n        <path d=\"M 19.1875 8.296875 \r\nL 53.609375 8.296875 \r\nL 53.609375 0 \r\nL 7.328125 0 \r\nL 7.328125 8.296875 \r\nQ 12.9375 14.109375 22.625 23.890625 \r\nQ 32.328125 33.6875 34.8125 36.53125 \r\nQ 39.546875 41.84375 41.421875 45.53125 \r\nQ 43.3125 49.21875 43.3125 52.78125 \r\nQ 43.3125 58.59375 39.234375 62.25 \r\nQ 35.15625 65.921875 28.609375 65.921875 \r\nQ 23.96875 65.921875 18.8125 64.3125 \r\nQ 13.671875 62.703125 7.8125 59.421875 \r\nL 7.8125 69.390625 \r\nQ 13.765625 71.78125 18.9375 73 \r\nQ 24.125 74.21875 28.421875 74.21875 \r\nQ 39.75 74.21875 46.484375 68.546875 \r\nQ 53.21875 62.890625 53.21875 53.421875 \r\nQ 53.21875 48.921875 51.53125 44.890625 \r\nQ 49.859375 40.875 45.40625 35.40625 \r\nQ 44.1875 33.984375 37.640625 27.21875 \r\nQ 31.109375 20.453125 19.1875 8.296875 \r\nz\r\n\" id=\"DejaVuSans-50\"/>\r\n       </defs>\r\n       <use xlink:href=\"#DejaVuSans-50\"/>\r\n       <use x=\"63.623047\" xlink:href=\"#DejaVuSans-80\"/>\r\n       <use x=\"123.925781\" xlink:href=\"#DejaVuSans-84\"/>\r\n       <use x=\"185.009766\" xlink:href=\"#DejaVuSans-32\"/>\r\n       <use x=\"216.796875\" xlink:href=\"#DejaVuSans-70\"/>\r\n       <use x=\"267.066406\" xlink:href=\"#DejaVuSans-105\"/>\r\n       <use x=\"294.849609\" xlink:href=\"#DejaVuSans-101\"/>\r\n       <use x=\"356.373047\" xlink:href=\"#DejaVuSans-108\"/>\r\n       <use x=\"384.15625\" xlink:href=\"#DejaVuSans-100\"/>\r\n       <use x=\"447.632812\" xlink:href=\"#DejaVuSans-32\"/>\r\n       <use x=\"479.419922\" xlink:href=\"#DejaVuSans-71\"/>\r\n       <use x=\"556.910156\" xlink:href=\"#DejaVuSans-111\"/>\r\n       <use x=\"618.091797\" xlink:href=\"#DejaVuSans-97\"/>\r\n       <use x=\"679.371094\" xlink:href=\"#DejaVuSans-108\"/>\r\n      </g>\r\n     </g>\r\n    </g>\r\n    <g id=\"text_3\">\r\n     <!-- SHOT_TYPE -->\r\n     <g style=\"fill:#262626;\" transform=\"translate(617.99375 729.416875)scale(0.2 -0.2)\">\r\n      <defs>\r\n       <path d=\"M 53.515625 70.515625 \r\nL 53.515625 60.890625 \r\nQ 47.90625 63.578125 42.921875 64.890625 \r\nQ 37.9375 66.21875 33.296875 66.21875 \r\nQ 25.25 66.21875 20.875 63.09375 \r\nQ 16.5 59.96875 16.5 54.203125 \r\nQ 16.5 49.359375 19.40625 46.890625 \r\nQ 22.3125 44.4375 30.421875 42.921875 \r\nL 36.375 41.703125 \r\nQ 47.40625 39.59375 52.65625 34.296875 \r\nQ 57.90625 29 57.90625 20.125 \r\nQ 57.90625 9.515625 50.796875 4.046875 \r\nQ 43.703125 -1.421875 29.984375 -1.421875 \r\nQ 24.8125 -1.421875 18.96875 -0.25 \r\nQ 13.140625 0.921875 6.890625 3.21875 \r\nL 6.890625 13.375 \r\nQ 12.890625 10.015625 18.65625 8.296875 \r\nQ 24.421875 6.59375 29.984375 6.59375 \r\nQ 38.421875 6.59375 43.015625 9.90625 \r\nQ 47.609375 13.234375 47.609375 19.390625 \r\nQ 47.609375 24.75 44.3125 27.78125 \r\nQ 41.015625 30.8125 33.5 32.328125 \r\nL 27.484375 33.5 \r\nQ 16.453125 35.6875 11.515625 40.375 \r\nQ 6.59375 45.0625 6.59375 53.421875 \r\nQ 6.59375 63.09375 13.40625 68.65625 \r\nQ 20.21875 74.21875 32.171875 74.21875 \r\nQ 37.3125 74.21875 42.625 73.28125 \r\nQ 47.953125 72.359375 53.515625 70.515625 \r\nz\r\n\" id=\"DejaVuSans-83\"/>\r\n       <path d=\"M 9.8125 72.90625 \r\nL 19.671875 72.90625 \r\nL 19.671875 43.015625 \r\nL 55.515625 43.015625 \r\nL 55.515625 72.90625 \r\nL 65.375 72.90625 \r\nL 65.375 0 \r\nL 55.515625 0 \r\nL 55.515625 34.71875 \r\nL 19.671875 34.71875 \r\nL 19.671875 0 \r\nL 9.8125 0 \r\nz\r\n\" id=\"DejaVuSans-72\"/>\r\n       <path d=\"M 39.40625 66.21875 \r\nQ 28.65625 66.21875 22.328125 58.203125 \r\nQ 16.015625 50.203125 16.015625 36.375 \r\nQ 16.015625 22.609375 22.328125 14.59375 \r\nQ 28.65625 6.59375 39.40625 6.59375 \r\nQ 50.140625 6.59375 56.421875 14.59375 \r\nQ 62.703125 22.609375 62.703125 36.375 \r\nQ 62.703125 50.203125 56.421875 58.203125 \r\nQ 50.140625 66.21875 39.40625 66.21875 \r\nz\r\nM 39.40625 74.21875 \r\nQ 54.734375 74.21875 63.90625 63.9375 \r\nQ 73.09375 53.65625 73.09375 36.375 \r\nQ 73.09375 19.140625 63.90625 8.859375 \r\nQ 54.734375 -1.421875 39.40625 -1.421875 \r\nQ 24.03125 -1.421875 14.8125 8.828125 \r\nQ 5.609375 19.09375 5.609375 36.375 \r\nQ 5.609375 53.65625 14.8125 63.9375 \r\nQ 24.03125 74.21875 39.40625 74.21875 \r\nz\r\n\" id=\"DejaVuSans-79\"/>\r\n       <path d=\"M 50.984375 -16.609375 \r\nL 50.984375 -23.578125 \r\nL -0.984375 -23.578125 \r\nL -0.984375 -16.609375 \r\nz\r\n\" id=\"DejaVuSans-95\"/>\r\n       <path d=\"M -0.203125 72.90625 \r\nL 10.40625 72.90625 \r\nL 30.609375 42.921875 \r\nL 50.6875 72.90625 \r\nL 61.28125 72.90625 \r\nL 35.5 34.71875 \r\nL 35.5 0 \r\nL 25.59375 0 \r\nL 25.59375 34.71875 \r\nz\r\n\" id=\"DejaVuSans-89\"/>\r\n       <path d=\"M 9.8125 72.90625 \r\nL 55.90625 72.90625 \r\nL 55.90625 64.59375 \r\nL 19.671875 64.59375 \r\nL 19.671875 43.015625 \r\nL 54.390625 43.015625 \r\nL 54.390625 34.71875 \r\nL 19.671875 34.71875 \r\nL 19.671875 8.296875 \r\nL 56.78125 8.296875 \r\nL 56.78125 0 \r\nL 9.8125 0 \r\nz\r\n\" id=\"DejaVuSans-69\"/>\r\n      </defs>\r\n      <use xlink:href=\"#DejaVuSans-83\"/>\r\n      <use x=\"63.476562\" xlink:href=\"#DejaVuSans-72\"/>\r\n      <use x=\"138.671875\" xlink:href=\"#DejaVuSans-79\"/>\r\n      <use x=\"217.382812\" xlink:href=\"#DejaVuSans-84\"/>\r\n      <use x=\"278.466797\" xlink:href=\"#DejaVuSans-95\"/>\r\n      <use x=\"328.466797\" xlink:href=\"#DejaVuSans-84\"/>\r\n      <use x=\"389.550781\" xlink:href=\"#DejaVuSans-89\"/>\r\n      <use x=\"450.634766\" xlink:href=\"#DejaVuSans-80\"/>\r\n      <use x=\"510.9375\" xlink:href=\"#DejaVuSans-69\"/>\r\n     </g>\r\n    </g>\r\n   </g>\r\n   <g id=\"matplotlib.axis_2\">\r\n    <g id=\"ytick_1\">\r\n     <g id=\"text_4\">\r\n      <!-- 0 -->\r\n      <g style=\"fill:#262626;\" transform=\"translate(94.18125 688.315313)scale(0.2 -0.2)\">\r\n       <defs>\r\n        <path d=\"M 31.78125 66.40625 \r\nQ 24.171875 66.40625 20.328125 58.90625 \r\nQ 16.5 51.421875 16.5 36.375 \r\nQ 16.5 21.390625 20.328125 13.890625 \r\nQ 24.171875 6.390625 31.78125 6.390625 \r\nQ 39.453125 6.390625 43.28125 13.890625 \r\nQ 47.125 21.390625 47.125 36.375 \r\nQ 47.125 51.421875 43.28125 58.90625 \r\nQ 39.453125 66.40625 31.78125 66.40625 \r\nz\r\nM 31.78125 74.21875 \r\nQ 44.046875 74.21875 50.515625 64.515625 \r\nQ 56.984375 54.828125 56.984375 36.375 \r\nQ 56.984375 17.96875 50.515625 8.265625 \r\nQ 44.046875 -1.421875 31.78125 -1.421875 \r\nQ 19.53125 -1.421875 13.0625 8.265625 \r\nQ 6.59375 17.96875 6.59375 36.375 \r\nQ 6.59375 54.828125 13.0625 64.515625 \r\nQ 19.53125 74.21875 31.78125 74.21875 \r\nz\r\n\" id=\"DejaVuSans-48\"/>\r\n       </defs>\r\n       <use xlink:href=\"#DejaVuSans-48\"/>\r\n      </g>\r\n     </g>\r\n    </g>\r\n    <g id=\"ytick_2\">\r\n     <g id=\"text_5\">\r\n      <!-- 100000 -->\r\n      <g style=\"fill:#262626;\" transform=\"translate(30.55625 592.447327)scale(0.2 -0.2)\">\r\n       <defs>\r\n        <path d=\"M 12.40625 8.296875 \r\nL 28.515625 8.296875 \r\nL 28.515625 63.921875 \r\nL 10.984375 60.40625 \r\nL 10.984375 69.390625 \r\nL 28.421875 72.90625 \r\nL 38.28125 72.90625 \r\nL 38.28125 8.296875 \r\nL 54.390625 8.296875 \r\nL 54.390625 0 \r\nL 12.40625 0 \r\nz\r\n\" id=\"DejaVuSans-49\"/>\r\n       </defs>\r\n       <use xlink:href=\"#DejaVuSans-49\"/>\r\n       <use x=\"63.623047\" xlink:href=\"#DejaVuSans-48\"/>\r\n       <use x=\"127.246094\" xlink:href=\"#DejaVuSans-48\"/>\r\n       <use x=\"190.869141\" xlink:href=\"#DejaVuSans-48\"/>\r\n       <use x=\"254.492188\" xlink:href=\"#DejaVuSans-48\"/>\r\n       <use x=\"318.115234\" xlink:href=\"#DejaVuSans-48\"/>\r\n      </g>\r\n     </g>\r\n    </g>\r\n    <g id=\"ytick_3\">\r\n     <g id=\"text_6\">\r\n      <!-- 200000 -->\r\n      <g style=\"fill:#262626;\" transform=\"translate(30.55625 496.579341)scale(0.2 -0.2)\">\r\n       <use xlink:href=\"#DejaVuSans-50\"/>\r\n       <use x=\"63.623047\" xlink:href=\"#DejaVuSans-48\"/>\r\n       <use x=\"127.246094\" xlink:href=\"#DejaVuSans-48\"/>\r\n       <use x=\"190.869141\" xlink:href=\"#DejaVuSans-48\"/>\r\n       <use x=\"254.492188\" xlink:href=\"#DejaVuSans-48\"/>\r\n       <use x=\"318.115234\" xlink:href=\"#DejaVuSans-48\"/>\r\n      </g>\r\n     </g>\r\n    </g>\r\n    <g id=\"ytick_4\">\r\n     <g id=\"text_7\">\r\n      <!-- 300000 -->\r\n      <g style=\"fill:#262626;\" transform=\"translate(30.55625 400.711355)scale(0.2 -0.2)\">\r\n       <use xlink:href=\"#DejaVuSans-51\"/>\r\n       <use x=\"63.623047\" xlink:href=\"#DejaVuSans-48\"/>\r\n       <use x=\"127.246094\" xlink:href=\"#DejaVuSans-48\"/>\r\n       <use x=\"190.869141\" xlink:href=\"#DejaVuSans-48\"/>\r\n       <use x=\"254.492188\" xlink:href=\"#DejaVuSans-48\"/>\r\n       <use x=\"318.115234\" xlink:href=\"#DejaVuSans-48\"/>\r\n      </g>\r\n     </g>\r\n    </g>\r\n    <g id=\"ytick_5\">\r\n     <g id=\"text_8\">\r\n      <!-- 400000 -->\r\n      <g style=\"fill:#262626;\" transform=\"translate(30.55625 304.843369)scale(0.2 -0.2)\">\r\n       <defs>\r\n        <path d=\"M 37.796875 64.3125 \r\nL 12.890625 25.390625 \r\nL 37.796875 25.390625 \r\nz\r\nM 35.203125 72.90625 \r\nL 47.609375 72.90625 \r\nL 47.609375 25.390625 \r\nL 58.015625 25.390625 \r\nL 58.015625 17.1875 \r\nL 47.609375 17.1875 \r\nL 47.609375 0 \r\nL 37.796875 0 \r\nL 37.796875 17.1875 \r\nL 4.890625 17.1875 \r\nL 4.890625 26.703125 \r\nz\r\n\" id=\"DejaVuSans-52\"/>\r\n       </defs>\r\n       <use xlink:href=\"#DejaVuSans-52\"/>\r\n       <use x=\"63.623047\" xlink:href=\"#DejaVuSans-48\"/>\r\n       <use x=\"127.246094\" xlink:href=\"#DejaVuSans-48\"/>\r\n       <use x=\"190.869141\" xlink:href=\"#DejaVuSans-48\"/>\r\n       <use x=\"254.492188\" xlink:href=\"#DejaVuSans-48\"/>\r\n       <use x=\"318.115234\" xlink:href=\"#DejaVuSans-48\"/>\r\n      </g>\r\n     </g>\r\n    </g>\r\n    <g id=\"ytick_6\">\r\n     <g id=\"text_9\">\r\n      <!-- 500000 -->\r\n      <g style=\"fill:#262626;\" transform=\"translate(30.55625 208.975384)scale(0.2 -0.2)\">\r\n       <defs>\r\n        <path d=\"M 10.796875 72.90625 \r\nL 49.515625 72.90625 \r\nL 49.515625 64.59375 \r\nL 19.828125 64.59375 \r\nL 19.828125 46.734375 \r\nQ 21.96875 47.46875 24.109375 47.828125 \r\nQ 26.265625 48.1875 28.421875 48.1875 \r\nQ 40.625 48.1875 47.75 41.5 \r\nQ 54.890625 34.8125 54.890625 23.390625 \r\nQ 54.890625 11.625 47.5625 5.09375 \r\nQ 40.234375 -1.421875 26.90625 -1.421875 \r\nQ 22.3125 -1.421875 17.546875 -0.640625 \r\nQ 12.796875 0.140625 7.71875 1.703125 \r\nL 7.71875 11.625 \r\nQ 12.109375 9.234375 16.796875 8.0625 \r\nQ 21.484375 6.890625 26.703125 6.890625 \r\nQ 35.15625 6.890625 40.078125 11.328125 \r\nQ 45.015625 15.765625 45.015625 23.390625 \r\nQ 45.015625 31 40.078125 35.4375 \r\nQ 35.15625 39.890625 26.703125 39.890625 \r\nQ 22.75 39.890625 18.8125 39.015625 \r\nQ 14.890625 38.140625 10.796875 36.28125 \r\nz\r\n\" id=\"DejaVuSans-53\"/>\r\n       </defs>\r\n       <use xlink:href=\"#DejaVuSans-53\"/>\r\n       <use x=\"63.623047\" xlink:href=\"#DejaVuSans-48\"/>\r\n       <use x=\"127.246094\" xlink:href=\"#DejaVuSans-48\"/>\r\n       <use x=\"190.869141\" xlink:href=\"#DejaVuSans-48\"/>\r\n       <use x=\"254.492188\" xlink:href=\"#DejaVuSans-48\"/>\r\n       <use x=\"318.115234\" xlink:href=\"#DejaVuSans-48\"/>\r\n      </g>\r\n     </g>\r\n    </g>\r\n    <g id=\"ytick_7\">\r\n     <g id=\"text_10\">\r\n      <!-- 600000 -->\r\n      <g style=\"fill:#262626;\" transform=\"translate(30.55625 113.107398)scale(0.2 -0.2)\">\r\n       <defs>\r\n        <path d=\"M 33.015625 40.375 \r\nQ 26.375 40.375 22.484375 35.828125 \r\nQ 18.609375 31.296875 18.609375 23.390625 \r\nQ 18.609375 15.53125 22.484375 10.953125 \r\nQ 26.375 6.390625 33.015625 6.390625 \r\nQ 39.65625 6.390625 43.53125 10.953125 \r\nQ 47.40625 15.53125 47.40625 23.390625 \r\nQ 47.40625 31.296875 43.53125 35.828125 \r\nQ 39.65625 40.375 33.015625 40.375 \r\nz\r\nM 52.59375 71.296875 \r\nL 52.59375 62.3125 \r\nQ 48.875 64.0625 45.09375 64.984375 \r\nQ 41.3125 65.921875 37.59375 65.921875 \r\nQ 27.828125 65.921875 22.671875 59.328125 \r\nQ 17.53125 52.734375 16.796875 39.40625 \r\nQ 19.671875 43.65625 24.015625 45.921875 \r\nQ 28.375 48.1875 33.59375 48.1875 \r\nQ 44.578125 48.1875 50.953125 41.515625 \r\nQ 57.328125 34.859375 57.328125 23.390625 \r\nQ 57.328125 12.15625 50.6875 5.359375 \r\nQ 44.046875 -1.421875 33.015625 -1.421875 \r\nQ 20.359375 -1.421875 13.671875 8.265625 \r\nQ 6.984375 17.96875 6.984375 36.375 \r\nQ 6.984375 53.65625 15.1875 63.9375 \r\nQ 23.390625 74.21875 37.203125 74.21875 \r\nQ 40.921875 74.21875 44.703125 73.484375 \r\nQ 48.484375 72.75 52.59375 71.296875 \r\nz\r\n\" id=\"DejaVuSans-54\"/>\r\n       </defs>\r\n       <use xlink:href=\"#DejaVuSans-54\"/>\r\n       <use x=\"63.623047\" xlink:href=\"#DejaVuSans-48\"/>\r\n       <use x=\"127.246094\" xlink:href=\"#DejaVuSans-48\"/>\r\n       <use x=\"190.869141\" xlink:href=\"#DejaVuSans-48\"/>\r\n       <use x=\"254.492188\" xlink:href=\"#DejaVuSans-48\"/>\r\n       <use x=\"318.115234\" xlink:href=\"#DejaVuSans-48\"/>\r\n      </g>\r\n     </g>\r\n    </g>\r\n    <g id=\"text_11\">\r\n     <!-- COUNT -->\r\n     <g style=\"fill:#262626;\" transform=\"translate(22.396875 390.319375)rotate(-90)scale(0.2 -0.2)\">\r\n      <defs>\r\n       <path d=\"M 64.40625 67.28125 \r\nL 64.40625 56.890625 \r\nQ 59.421875 61.53125 53.78125 63.8125 \r\nQ 48.140625 66.109375 41.796875 66.109375 \r\nQ 29.296875 66.109375 22.65625 58.46875 \r\nQ 16.015625 50.828125 16.015625 36.375 \r\nQ 16.015625 21.96875 22.65625 14.328125 \r\nQ 29.296875 6.6875 41.796875 6.6875 \r\nQ 48.140625 6.6875 53.78125 8.984375 \r\nQ 59.421875 11.28125 64.40625 15.921875 \r\nL 64.40625 5.609375 \r\nQ 59.234375 2.09375 53.4375 0.328125 \r\nQ 47.65625 -1.421875 41.21875 -1.421875 \r\nQ 24.65625 -1.421875 15.125 8.703125 \r\nQ 5.609375 18.84375 5.609375 36.375 \r\nQ 5.609375 53.953125 15.125 64.078125 \r\nQ 24.65625 74.21875 41.21875 74.21875 \r\nQ 47.75 74.21875 53.53125 72.484375 \r\nQ 59.328125 70.75 64.40625 67.28125 \r\nz\r\n\" id=\"DejaVuSans-67\"/>\r\n       <path d=\"M 8.6875 72.90625 \r\nL 18.609375 72.90625 \r\nL 18.609375 28.609375 \r\nQ 18.609375 16.890625 22.84375 11.734375 \r\nQ 27.09375 6.59375 36.625 6.59375 \r\nQ 46.09375 6.59375 50.34375 11.734375 \r\nQ 54.59375 16.890625 54.59375 28.609375 \r\nL 54.59375 72.90625 \r\nL 64.5 72.90625 \r\nL 64.5 27.390625 \r\nQ 64.5 13.140625 57.4375 5.859375 \r\nQ 50.390625 -1.421875 36.625 -1.421875 \r\nQ 22.796875 -1.421875 15.734375 5.859375 \r\nQ 8.6875 13.140625 8.6875 27.390625 \r\nz\r\n\" id=\"DejaVuSans-85\"/>\r\n       <path d=\"M 9.8125 72.90625 \r\nL 23.09375 72.90625 \r\nL 55.421875 11.921875 \r\nL 55.421875 72.90625 \r\nL 64.984375 72.90625 \r\nL 64.984375 0 \r\nL 51.703125 0 \r\nL 19.390625 60.984375 \r\nL 19.390625 0 \r\nL 9.8125 0 \r\nz\r\n\" id=\"DejaVuSans-78\"/>\r\n      </defs>\r\n      <use xlink:href=\"#DejaVuSans-67\"/>\r\n      <use x=\"69.824219\" xlink:href=\"#DejaVuSans-79\"/>\r\n      <use x=\"148.535156\" xlink:href=\"#DejaVuSans-85\"/>\r\n      <use x=\"221.728516\" xlink:href=\"#DejaVuSans-78\"/>\r\n      <use x=\"296.533203\" xlink:href=\"#DejaVuSans-84\"/>\r\n     </g>\r\n    </g>\r\n   </g>\r\n   <g id=\"patch_3\">\r\n    <path clip-path=\"url(#p001f2ce528)\" d=\"M 173.20625 680.716875 \r\nL 619.60625 680.716875 \r\nL 619.60625 353.248133 \r\nL 173.20625 353.248133 \r\nz\r\n\" style=\"fill:#e68193;stroke:#ffffff;stroke-linejoin:miter;stroke-width:0.3;\"/>\r\n   </g>\r\n   <g id=\"patch_4\">\r\n    <path clip-path=\"url(#p001f2ce528)\" d=\"M 731.20625 680.716875 \r\nL 1177.60625 680.716875 \r\nL 1177.60625 59.459732 \r\nL 731.20625 59.459732 \r\nz\r\n\" style=\"fill:#459e97;stroke:#ffffff;stroke-linejoin:miter;stroke-width:0.3;\"/>\r\n   </g>\r\n   <g id=\"patch_5\">\r\n    <path d=\"M 117.40625 680.716875 \r\nL 117.40625 28.396875 \r\n\" style=\"fill:none;stroke:#262626;stroke-linecap:square;stroke-linejoin:miter;stroke-width:2;\"/>\r\n   </g>\r\n   <g id=\"patch_6\">\r\n    <path d=\"M 1233.40625 680.716875 \r\nL 1233.40625 28.396875 \r\n\" style=\"fill:none;stroke:#262626;stroke-linecap:square;stroke-linejoin:miter;stroke-width:2;\"/>\r\n   </g>\r\n   <g id=\"patch_7\">\r\n    <path d=\"M 117.40625 680.716875 \r\nL 1233.40625 680.716875 \r\n\" style=\"fill:none;stroke:#262626;stroke-linecap:square;stroke-linejoin:miter;stroke-width:2;\"/>\r\n   </g>\r\n   <g id=\"patch_8\">\r\n    <path d=\"M 117.40625 28.396875 \r\nL 1233.40625 28.396875 \r\n\" style=\"fill:none;stroke:#262626;stroke-linecap:square;stroke-linejoin:miter;stroke-width:2;\"/>\r\n   </g>\r\n   <g id=\"text_12\">\r\n    <!-- 341583 -->\r\n    <g style=\"fill:#262626;\" transform=\"translate(173.20625 353.248133)scale(0.18 -0.18)\">\r\n     <defs>\r\n      <path d=\"M 31.78125 34.625 \r\nQ 24.75 34.625 20.71875 30.859375 \r\nQ 16.703125 27.09375 16.703125 20.515625 \r\nQ 16.703125 13.921875 20.71875 10.15625 \r\nQ 24.75 6.390625 31.78125 6.390625 \r\nQ 38.8125 6.390625 42.859375 10.171875 \r\nQ 46.921875 13.96875 46.921875 20.515625 \r\nQ 46.921875 27.09375 42.890625 30.859375 \r\nQ 38.875 34.625 31.78125 34.625 \r\nz\r\nM 21.921875 38.8125 \r\nQ 15.578125 40.375 12.03125 44.71875 \r\nQ 8.5 49.078125 8.5 55.328125 \r\nQ 8.5 64.0625 14.71875 69.140625 \r\nQ 20.953125 74.21875 31.78125 74.21875 \r\nQ 42.671875 74.21875 48.875 69.140625 \r\nQ 55.078125 64.0625 55.078125 55.328125 \r\nQ 55.078125 49.078125 51.53125 44.71875 \r\nQ 48 40.375 41.703125 38.8125 \r\nQ 48.828125 37.15625 52.796875 32.3125 \r\nQ 56.78125 27.484375 56.78125 20.515625 \r\nQ 56.78125 9.90625 50.3125 4.234375 \r\nQ 43.84375 -1.421875 31.78125 -1.421875 \r\nQ 19.734375 -1.421875 13.25 4.234375 \r\nQ 6.78125 9.90625 6.78125 20.515625 \r\nQ 6.78125 27.484375 10.78125 32.3125 \r\nQ 14.796875 37.15625 21.921875 38.8125 \r\nz\r\nM 18.3125 54.390625 \r\nQ 18.3125 48.734375 21.84375 45.5625 \r\nQ 25.390625 42.390625 31.78125 42.390625 \r\nQ 38.140625 42.390625 41.71875 45.5625 \r\nQ 45.3125 48.734375 45.3125 54.390625 \r\nQ 45.3125 60.0625 41.71875 63.234375 \r\nQ 38.140625 66.40625 31.78125 66.40625 \r\nQ 25.390625 66.40625 21.84375 63.234375 \r\nQ 18.3125 60.0625 18.3125 54.390625 \r\nz\r\n\" id=\"DejaVuSans-56\"/>\r\n     </defs>\r\n     <use xlink:href=\"#DejaVuSans-51\"/>\r\n     <use x=\"63.623047\" xlink:href=\"#DejaVuSans-52\"/>\r\n     <use x=\"127.246094\" xlink:href=\"#DejaVuSans-49\"/>\r\n     <use x=\"190.869141\" xlink:href=\"#DejaVuSans-53\"/>\r\n     <use x=\"254.492188\" xlink:href=\"#DejaVuSans-56\"/>\r\n     <use x=\"318.115234\" xlink:href=\"#DejaVuSans-51\"/>\r\n    </g>\r\n   </g>\r\n   <g id=\"text_13\">\r\n    <!-- 648034 -->\r\n    <g style=\"fill:#262626;\" transform=\"translate(731.20625 59.459732)scale(0.18 -0.18)\">\r\n     <use xlink:href=\"#DejaVuSans-54\"/>\r\n     <use x=\"63.623047\" xlink:href=\"#DejaVuSans-52\"/>\r\n     <use x=\"127.246094\" xlink:href=\"#DejaVuSans-56\"/>\r\n     <use x=\"190.869141\" xlink:href=\"#DejaVuSans-48\"/>\r\n     <use x=\"254.492188\" xlink:href=\"#DejaVuSans-51\"/>\r\n     <use x=\"318.115234\" xlink:href=\"#DejaVuSans-52\"/>\r\n    </g>\r\n   </g>\r\n   <g id=\"text_14\">\r\n    <!-- SHOT TYPE -->\r\n    <g style=\"fill:#262626;\" transform=\"translate(619.815625 22.396875)scale(0.2 -0.2)\">\r\n     <use xlink:href=\"#DejaVuSans-83\"/>\r\n     <use x=\"63.476562\" xlink:href=\"#DejaVuSans-72\"/>\r\n     <use x=\"138.671875\" xlink:href=\"#DejaVuSans-79\"/>\r\n     <use x=\"217.382812\" xlink:href=\"#DejaVuSans-84\"/>\r\n     <use x=\"278.466797\" xlink:href=\"#DejaVuSans-32\"/>\r\n     <use x=\"310.253906\" xlink:href=\"#DejaVuSans-84\"/>\r\n     <use x=\"371.337891\" xlink:href=\"#DejaVuSans-89\"/>\r\n     <use x=\"432.421875\" xlink:href=\"#DejaVuSans-80\"/>\r\n     <use x=\"492.724609\" xlink:href=\"#DejaVuSans-69\"/>\r\n    </g>\r\n   </g>\r\n  </g>\r\n </g>\r\n <defs>\r\n  <clipPath id=\"p001f2ce528\">\r\n   <rect height=\"652.32\" width=\"1116\" x=\"117.40625\" y=\"28.396875\"/>\r\n  </clipPath>\r\n </defs>\r\n</svg>\r\n",
            "image/png": "[encoded data removed]"
          },
          "metadata": {}
        }
      ],
      "metadata": {
        "id": "rcKFcJTbaqRG"
      }
    },
    {
      "cell_type": "code",
      "execution_count": null,
      "source": [
        "# SHOT TYPE (MADE/MISSED) BAR PLOT\r\n",
        "\r\n",
        "plt.figure(figsize=(20,12))\r\n",
        "fig3 = sns.countplot(data=nba_shots, x='SHOT_TYPE', palette = 'husl', hue = 'EVENT_TYPE')\r\n",
        "fig3.set_xlabel('SHOT_TYPE', fontsize=20)\r\n",
        "fig3.set_ylabel('COUNT', fontsize=20)\r\n",
        "fig3.tick_params(labelsize=20)\r\n",
        "plt.title('SHOT TYPE', fontsize = 20)\r\n",
        "for p in fig3.patches:\r\n",
        "    txt = str(p.get_height().round(2))\r\n",
        "    txt_x = p.get_x() \r\n",
        "    txt_y = p.get_height()\r\n",
        "    fig3.text(txt_x,txt_y,txt)\r\n",
        "plt.show()"
      ],
      "outputs": [],
      "metadata": {
        "id": "HgNhjvUaaqRH"
      }
    },
    {
      "cell_type": "code",
      "execution_count": null,
      "source": [
        "# SHOT ACTION TYPE BAR PLOT\r\n",
        "\r\n",
        "plt.figure(figsize=(45,12))\r\n",
        "fig4 = sns.countplot(data=nba_shots, x='ACTION_TYPE', palette = 'husl') \r\n",
        "fig4.set_xlabel('ACTION_TYPE', fontsize=20)\r\n",
        "fig4.set_ylabel('COUNT', fontsize=20)\r\n",
        "fig4.tick_params(labelsize=20)\r\n",
        "fig4.tick_params(axis = 'x', rotation = 90)\r\n",
        "plt.title('SHOT ACTION TYPE', fontsize = 20)\r\n",
        "for p in fig4.patches:\r\n",
        "    txt = str(p.get_height().round(2))\r\n",
        "    txt_x = p.get_x() \r\n",
        "    txt_y = p.get_height()\r\n",
        "    fig4.text(txt_x,txt_y,txt)\r\n",
        "plt.show()"
      ],
      "outputs": [],
      "metadata": {
        "id": "QcIJau6zaqRH"
      }
    },
    {
      "cell_type": "markdown",
      "source": [
        "#Create player sub dataset"
      ],
      "metadata": {}
    },
    {
      "cell_type": "code",
      "execution_count": null,
      "source": [
        "# Due to the large amount of the dataset, everything past this point you be done per player. The function below creates a sub dataset from nba_shots with the data form the chosen player. \r\n",
        "\r\n",
        "def choose_player (player_name):\r\n",
        "    player_shots = nba_shots[nba_shots['PLAYER_NAME'] == player_name]\r\n",
        "    print(player_shots.head())\r\n",
        "    \r\n",
        "    # Dimensional Reduction: Columns PLAYER_ID and PLAYER_NAME carry the same type of information, PLAYER_NAME is going to be droped. \r\n",
        "    # The same happens to columns EVENT_TYPE and SHOT_MADE_FLAG, EVENT_TYPE is going to be droped.\r\n",
        "    # It also happens for TEAM_ID and TEAM_NAME, TEAM_NAME is going to be droped.\r\n",
        "\r\n",
        "    nba_shots_ml = player_shots.drop(['PLAYER_NAME', 'EVENT_TYPE', 'TEAM_NAME'], axis = 1)\r\n",
        "    \r\n",
        "    # Apply Dummy Coding to the categorial attributes of the dataset\r\n",
        "\r\n",
        "    categorical_columns = ['GRID_TYPE', 'ACTION_TYPE', 'SHOT_TYPE', 'SHOT_ZONE_BASIC', \r\n",
        "    'SHOT_ZONE_AREA', 'SHOT_ZONE_RANGE', 'HTM', 'VTM', 'SEASON_ID']\r\n",
        "\r\n",
        "    for i in categorical_columns:\r\n",
        "\r\n",
        "        nba_shots_ml = pd.get_dummies(nba_shots_ml, columns=[i], drop_first=True)\r\n",
        "\r\n",
        "    #Train/Test split\r\n",
        "\r\n",
        "    X = nba_shots_ml.loc[:, nba_shots_ml.columns != 'SHOT_MADE_FLAG']\r\n",
        "    y = nba_shots_ml['SHOT_MADE_FLAG']\r\n",
        "    X_train, X_test, y_train, y_test = train_test_split(X, y, \r\n",
        "                                                        test_size= 0.3, \r\n",
        "                                                        random_state = 100, \r\n",
        "                                                        stratify = y,\r\n",
        "                                                        )\r\n",
        "\r\n",
        "    # Check columns with variance equal to zero and drop them\r\n",
        "\r\n",
        "    zero_var_filter = VarianceThreshold()\r\n",
        "    X_train = zero_var_filter.fit_transform(X_train)\r\n",
        "    X_test = zero_var_filter.transform(X_test)\r\n",
        "    print('X_train e X_test possuíam', (zero_var_filter.variances_ == 0).sum(), 'atributo(s) com variância igual a zero')\r\n",
        "\r\n",
        "    print('X_train:', X_train.shape)\r\n",
        "    print('X_test:', X_test.shape)\r\n",
        "    print('y_train:', y_train.shape)\r\n",
        "    print('y_test:', y_test.shape)\r\n",
        "\r\n",
        "    # Normalize the data\r\n",
        "\r\n",
        "    scaler = StandardScaler().fit(X_train)\r\n",
        "    X_train = scaler.transform(X_train)\r\n",
        "    X_test = scaler.transform(X_test)\r\n",
        "\r\n",
        "    return X_train, X_test, y_train, y_test\r\n",
        "\r\n",
        "X_train, X_test, y_train, y_test = choose_player('Stephen Curry')"
      ],
      "outputs": [],
      "metadata": {}
    },
    {
      "cell_type": "markdown",
      "source": [
        "#Create season sub dataset"
      ],
      "metadata": {}
    },
    {
      "cell_type": "code",
      "execution_count": null,
      "source": [
        "# Due to the large amount of the dataset, everything past this point you be done per season. The function below creates a sub dataset from nba_shots with the data form the chosen season. \r\n",
        "\r\n",
        "def choose_season (season_id):\r\n",
        "    season_shots = nba_shots[nba_shots['SEASON_ID'] == season_id]\r\n",
        "    print(season_shots.head())\r\n",
        "    \r\n",
        "    # Dimensional Reduction: Columns PLAYER_ID and PLAYER_NAME carry the same type of information, PLAYER_NAME is going to be droped. \r\n",
        "    # The same happens to columns EVENT_TYPE and SHOT_MADE_FLAG, EVENT_TYPE is going to be droped.\r\n",
        "    # It also happens for TEAM_ID and TEAM_NAME, TEAM_NAME is going to be droped.\r\n",
        "\r\n",
        "    nba_shots_ml = season_shots.drop(['PLAYER_NAME', 'EVENT_TYPE', 'TEAM_NAME'], axis = 1)\r\n",
        "    \r\n",
        "    # Apply Dummy Coding to the categorial attributes of the dataset\r\n",
        "\r\n",
        "    categorical_columns = ['GRID_TYPE', 'ACTION_TYPE', 'SHOT_TYPE', 'SHOT_ZONE_BASIC', \r\n",
        "    'SHOT_ZONE_AREA', 'SHOT_ZONE_RANGE', 'HTM', 'VTM', 'SEASON_ID']\r\n",
        "\r\n",
        "    for i in categorical_columns:\r\n",
        "\r\n",
        "        nba_shots_ml = pd.get_dummies(nba_shots_ml, columns=[i], drop_first=True)\r\n",
        "\r\n",
        "    #Train/Test split\r\n",
        "\r\n",
        "    X = nba_shots_ml.loc[:, nba_shots_ml.columns != 'SHOT_MADE_FLAG']\r\n",
        "    y = nba_shots_ml['SHOT_MADE_FLAG']\r\n",
        "    X_train, X_test, y_train, y_test = train_test_split(X, y, \r\n",
        "                                                        test_size= 0.2, \r\n",
        "                                                        random_state = 100, \r\n",
        "                                                        #stratify = y\r\n",
        "                                                        )\r\n",
        "\r\n",
        "    # Check columns with variance equal to zero and drop them\r\n",
        "\r\n",
        "    zero_var_filter = VarianceThreshold()\r\n",
        "    X_train = zero_var_filter.fit_transform(X_train)\r\n",
        "    X_test = zero_var_filter.transform(X_test)\r\n",
        "    print('X_train e X_test possuíam', (zero_var_filter.variances_ == 0).sum(), 'atributo(s) com variância igual a zero')\r\n",
        "\r\n",
        "    print('X_train:', X_train.shape)\r\n",
        "    print('X_test:', X_test.shape)\r\n",
        "    print('y_train:', y_train.shape)\r\n",
        "    print('y_test:', y_test.shape)\r\n",
        "\r\n",
        "    # Normalize the data\r\n",
        "\r\n",
        "    scaler = StandardScaler().fit(X_train)\r\n",
        "    X_train = scaler.transform(X_train)\r\n",
        "    X_test = scaler.transform(X_test)\r\n",
        "\r\n",
        "    return X_train, X_test, y_train, y_test\r\n",
        "\r\n",
        "X_train, X_test, y_train, y_test = choose_season('2020-21')"
      ],
      "outputs": [],
      "metadata": {}
    },
    {
      "cell_type": "markdown",
      "source": [
        "#SVM"
      ],
      "metadata": {}
    },
    {
      "cell_type": "code",
      "execution_count": null,
      "source": [
        "# Train and predict SVM model\r\n",
        "\r\n",
        "def train_SVM(X_train, y_train):\r\n",
        "  model = SVC(random_state=100)\r\n",
        "  model.fit(X_train, y_train)\r\n",
        "  return model\r\n",
        "\r\n",
        "model_SVM = train_SVM(X_train, y_train)\r\n",
        "y_pred_SVM = model_SVM.predict(X_test)"
      ],
      "outputs": [],
      "metadata": {}
    },
    {
      "cell_type": "code",
      "execution_count": null,
      "source": [
        "# Evaluate SVM model\r\n",
        "\r\n",
        "def evaluate_SVM(X_test, y_test):\r\n",
        "\r\n",
        "  # Acurácia\r\n",
        "  from sklearn.metrics import accuracy_score\r\n",
        "  accuracy = accuracy_score(y_test, y_pred_SVM)\r\n",
        "  print('Acurácia: ', accuracy)\r\n",
        "\r\n",
        "  # Kappa\r\n",
        "  from sklearn.metrics import cohen_kappa_score\r\n",
        "  kappa = cohen_kappa_score(y_test, y_pred_SVM)\r\n",
        "  print('Kappa: ', kappa)\r\n",
        "\r\n",
        "  # F1\r\n",
        "  from sklearn.metrics import f1_score\r\n",
        "  f1 = f1_score(y_test, y_pred_SVM)\r\n",
        "  print('F1: ', f1)\r\n",
        "\r\n",
        "  # Matriz de confusão\r\n",
        "  from sklearn.metrics import confusion_matrix\r\n",
        "  confMatrix = confusion_matrix(y_pred_SVM, y_test)\r\n",
        "\r\n",
        "  plt.figure(figsize=(20,12))\r\n",
        "  ax = plt.subplot()\r\n",
        "  sns.heatmap(confMatrix, annot=True, fmt=\".0f\", cmap =\"YlGnBu\")\r\n",
        "  plt.xlabel('REAL')\r\n",
        "  plt.ylabel('PRED')\r\n",
        "  plt.title('CONFUSION MATRIX')\r\n",
        "\r\n",
        "  # Colocar os nomes\r\n",
        "  ax.xaxis.set_ticklabels(['OUT', 'IN']) \r\n",
        "  ax.yaxis.set_ticklabels(['OUT', 'IN'])\r\n",
        "\r\n",
        "evaluate_SVM(X_test, y_test)"
      ],
      "outputs": [],
      "metadata": {}
    },
    {
      "cell_type": "code",
      "execution_count": null,
      "source": [
        "# Train and predict SVM model with hyper-parameters tuning (GridSearchCV)\r\n",
        "\r\n",
        "\r\n",
        "tuned_parameters = [{'kernel': ['rbf', 'poly', 'linear'],\r\n",
        "                    'gamma': [100, 10, 1, 1e-1, 1e-2, 1e-3, 1e-4],\r\n",
        "                    'C': [0.001, 0.01, 0.1, 1, 10, 100, 1000, 10000]}]\r\n",
        "                     \r\n",
        "print(\"Hyperparameter Tuning for accuracy\")\r\n",
        "print()\r\n",
        "\r\n",
        "model = GridSearchCV(SVC(random_state=100), tuned_parameters, scoring='accuracy')\r\n",
        "model.fit(X_train, y_train)\r\n",
        "\r\n",
        "y_pred_SVM_GS = model.predict(X_test)\r\n",
        "print(classification_report(y_test, y_pred_SVM_GS))\r\n",
        "print()\r\n",
        "print(\"BEST TUNED PARAMETERS\", model.best_params_)"
      ],
      "outputs": [],
      "metadata": {}
    },
    {
      "cell_type": "code",
      "execution_count": null,
      "source": [
        "# Evaluate SVM model with hyper-parameters tuning (GridSearchCV)\r\n",
        "\r\n",
        "def evaluate_SVM_GS(y_test, y_pred_SVM_GS):\r\n",
        "\r\n",
        "  # Acurácia\r\n",
        "  from sklearn.metrics import accuracy_score\r\n",
        "  accuracy = accuracy_score(y_test, y_pred_SVM_GS)\r\n",
        "  print('Acurácia: ', accuracy)\r\n",
        "\r\n",
        "  # Kappa\r\n",
        "  from sklearn.metrics import cohen_kappa_score\r\n",
        "  kappa = cohen_kappa_score(y_test, y_pred_SVM_GS)\r\n",
        "  print('Kappa: ', kappa)\r\n",
        "\r\n",
        "  # F1\r\n",
        "  from sklearn.metrics import f1_score\r\n",
        "  f1 = f1_score(y_test, y_pred_SVM_GS)\r\n",
        "  print('F1: ', f1)\r\n",
        "\r\n",
        "  # Matriz de confusão\r\n",
        "  from sklearn.metrics import confusion_matrix\r\n",
        "  confMatrix = confusion_matrix(y_pred_SVM_GS, y_test)\r\n",
        "\r\n",
        "  plt.figure(figsize=(20,12))\r\n",
        "  ax = plt.subplot()\r\n",
        "  sns.heatmap(confMatrix, annot=True, fmt=\".0f\", cmap =\"YlGnBu\")\r\n",
        "  plt.xlabel('REAL')\r\n",
        "  plt.ylabel('PRED')\r\n",
        "  plt.title('CONFUSION MATRIX')\r\n",
        "\r\n",
        "  # Colocar os nomes\r\n",
        "  ax.xaxis.set_ticklabels(['OUT', 'IN']) \r\n",
        "  ax.yaxis.set_ticklabels(['OUT', 'IN'])\r\n",
        "\r\n",
        "evaluate_SVM_GS(y_test, y_pred_SVM_GS)"
      ],
      "outputs": [],
      "metadata": {}
    },
    {
      "cell_type": "markdown",
      "source": [
        "#Decision Tree"
      ],
      "metadata": {}
    },
    {
      "cell_type": "code",
      "execution_count": null,
      "source": [
        "# Train and predict Decision Tree model\r\n",
        "\r\n",
        "def train_DT(X_train, y_train):\r\n",
        "  model = DecisionTreeClassifier(max_depth = 8, min_samples_leaf = 5, random_state=100)\r\n",
        "  model.fit(X_train, y_train);\r\n",
        "  return model\r\n",
        "\r\n",
        "model_DT = train_DT(X_train, y_train)\r\n",
        "y_pred_DT = model_DT.predict(X_test)"
      ],
      "outputs": [],
      "metadata": {}
    },
    {
      "cell_type": "code",
      "execution_count": null,
      "source": [
        "# Plot decision tree\r\n",
        "\r\n",
        "plt.figure(figsize=(20, 10))\r\n",
        "tree.plot_tree(model_DT, class_names=[\"OUT\", \"IN\"], filled=True, rounded=True);"
      ],
      "outputs": [],
      "metadata": {}
    },
    {
      "cell_type": "code",
      "execution_count": null,
      "source": [
        "# Train and predict Decision Tree model with hyper-parameters tuning (GridSearchCV)\r\n",
        "\r\n",
        "tuned_parameters = [{'max_depth': [1, 2, 3, 4, 5, 6, 7, 8, 9, 10, 11, 12, 13, 14, 15, 16, 17, 18, 19, 20], \r\n",
        "                        'min_samples_leaf': [1, 2, 3, 4, 5, 6, 7, 8, 9, 10, 11, 12, 13, 14, 15, 16, 17, 18, 19, 20]}]\r\n",
        "\r\n",
        "print(\"Hyperparameter Tuning for accuracy\")\r\n",
        "print()\r\n",
        "\r\n",
        "model = GridSearchCV(DecisionTreeClassifier(random_state=100), tuned_parameters, scoring='accuracy')\r\n",
        "model.fit(X_train, y_train)\r\n",
        "\r\n",
        "y_pred_DT_GS = model.predict(X_test)\r\n",
        "print(classification_report(y_test, y_pred_DT))\r\n",
        "print()\r\n",
        "print(\"BEST TUNED PARAMETERS\", model.best_params_)"
      ],
      "outputs": [],
      "metadata": {}
    },
    {
      "cell_type": "code",
      "execution_count": null,
      "source": [
        "# Evaluate Decision Tree model with hyper-parameters tuning (GridSearchCV)\r\n",
        "\r\n",
        "def evaluate_DT_GS(y_test, y_pred_DT):  \r\n",
        "\r\n",
        "  # Acurácia\r\n",
        "  from sklearn.metrics import accuracy_score\r\n",
        "  accuracy = accuracy_score(y_test, y_pred_DT)\r\n",
        "  print('Acurácia: ', accuracy)\r\n",
        "\r\n",
        "  # Kappa\r\n",
        "  from sklearn.metrics import cohen_kappa_score\r\n",
        "  kappa = cohen_kappa_score(y_test, y_pred_DT)\r\n",
        "  print('Kappa: ', kappa)\r\n",
        "\r\n",
        "  # F1\r\n",
        "  from sklearn.metrics import f1_score\r\n",
        "  f1 = f1_score(y_test, y_pred_DT, average='weighted')\r\n",
        "  print('F1: ', f1)\r\n",
        "\r\n",
        "  # Matriz de confusão\r\n",
        "  from sklearn.metrics import confusion_matrix\r\n",
        "  confMatrix = confusion_matrix(y_pred_DT, y_test)\r\n",
        "\r\n",
        "  plt.figure(figsize=(20,12))\r\n",
        "  ax = plt.subplot()\r\n",
        "  sns.heatmap(confMatrix, annot=True, fmt=\".0f\", cmap =\"YlGnBu\")\r\n",
        "  plt.xlabel('REAL')\r\n",
        "  plt.ylabel('PRED')\r\n",
        "  plt.title('CONFUSION MATRIX')\r\n",
        "\r\n",
        "  # Colocar os nomes\r\n",
        "  ax.xaxis.set_ticklabels(['OUT', 'IN']) \r\n",
        "  ax.yaxis.set_ticklabels(['OUT', 'IN'])\r\n",
        "  plt.show()\r\n",
        "\r\n",
        "evaluate_DT_GS(y_test, y_pred_DT)"
      ],
      "outputs": [],
      "metadata": {}
    },
    {
      "cell_type": "markdown",
      "source": [
        "#Random Forest"
      ],
      "metadata": {}
    },
    {
      "cell_type": "code",
      "execution_count": null,
      "source": [
        "# Train and predict Random Forest model\r\n",
        "\r\n",
        "def train_RF(X_train, y_train):\r\n",
        "  model = RandomForestClassifier(min_samples_leaf=5, random_state=100)\r\n",
        "  model.fit(X_train, y_train);\r\n",
        "  return model\r\n",
        "\r\n",
        "model_RF = train_RF(X_train, y_train)\r\n",
        "y_pred_RF = model_RF.predict(X_test)"
      ],
      "outputs": [],
      "metadata": {}
    },
    {
      "cell_type": "code",
      "execution_count": null,
      "source": [
        "model_RF.feature_importances_"
      ],
      "outputs": [],
      "metadata": {}
    },
    {
      "cell_type": "code",
      "execution_count": null,
      "source": [
        "# Evaluate Random Forest model\r\n",
        "\r\n",
        "def evaluate_RF(y_test, y_pred_RF):  \r\n",
        "\r\n",
        "  # Acurácia\r\n",
        "  from sklearn.metrics import accuracy_score\r\n",
        "  accuracy = accuracy_score(y_test, y_pred_RF)\r\n",
        "  print('Acurácia: ', accuracy)\r\n",
        "\r\n",
        "  # Kappa\r\n",
        "  from sklearn.metrics import cohen_kappa_score\r\n",
        "  kappa = cohen_kappa_score(y_test, y_pred_RF)\r\n",
        "  print('Kappa: ', kappa)\r\n",
        "\r\n",
        "  # F1\r\n",
        "  from sklearn.metrics import f1_score\r\n",
        "  f1 = f1_score(y_test, y_pred_RF, average='weighted')\r\n",
        "  print('F1: ', f1)\r\n",
        "\r\n",
        "  # Matriz de confusão\r\n",
        "  from sklearn.metrics import confusion_matrix\r\n",
        "  confMatrix = confusion_matrix(y_pred_RF, y_test)\r\n",
        "\r\n",
        "  plt.figure(figsize=(20,12))\r\n",
        "  ax = plt.subplot()\r\n",
        "  sns.heatmap(confMatrix, annot=True, fmt=\".0f\", cmap=\"YlGnBu\")\r\n",
        "  plt.xlabel('REAL')\r\n",
        "  plt.ylabel('PRED')\r\n",
        "  plt.title('CONFUSION MATRIX')\r\n",
        "\r\n",
        "  # Colocar os nomes\r\n",
        "  ax.xaxis.set_ticklabels(['OUT', 'IN']) \r\n",
        "  ax.yaxis.set_ticklabels(['OUT', 'IN'])\r\n",
        "  plt.show()\r\n",
        "\r\n",
        "evaluate_RF(y_test, y_pred_RF)"
      ],
      "outputs": [],
      "metadata": {}
    },
    {
      "cell_type": "code",
      "execution_count": null,
      "source": [
        "# Plot the importance of the attributes to the model\r\n",
        "\r\n",
        "importances = model_RF.feature_importances_\r\n",
        "std = np.std([tree.feature_importances_ for tree in model_RF.estimators_],\r\n",
        "             axis=0)\r\n",
        "indices = np.argsort(importances)\r\n",
        "\r\n",
        "# Plot the feature importances of the forest\r\n",
        "plt.figure(figsize=(20,50))\r\n",
        "plt.title(\"Feature importances\")\r\n",
        "plt.barh(range(X_train.shape[1]), importances[indices],\r\n",
        "       color=\"g\", align=\"center\")\r\n",
        "# If you want to define your own labels,\r\n",
        "# change indices to a list of labels on the following line.\r\n",
        "plt.yticks(range(X_train.shape[1]), indices)\r\n",
        "plt.ylim([-1, X_train.shape[1]])\r\n",
        "plt.show()"
      ],
      "outputs": [],
      "metadata": {}
    },
    {
      "cell_type": "code",
      "execution_count": null,
      "source": [
        "# Train and predict Random Forest model with hyper-parameters tuning (GridSearchCV)\r\n",
        "\r\n",
        "tuned_parameters = [{'n_estimators': [20, 50, 100, 150, 200, 300, 400, 500],\r\n",
        "                     'max_features': [3,4,8,9,10,11]}]\r\n",
        "\r\n",
        "print(\"Hyperparameter Tuning for accuracy\")\r\n",
        "print()\r\n",
        "\r\n",
        "model = GridSearchCV(RandomForestClassifier(n_jobs=50, verbose=1, random_state=100), tuned_parameters, scoring='accuracy')\r\n",
        "model.fit(X_train, y_train)\r\n",
        "\r\n",
        "y_pred_RF = model.predict(X_test)\r\n",
        "print(classification_report(y_pred, y_test))\r\n",
        "print()\r\n",
        "print(\"BEST TUNED PARAMETERS\", model_XGB_GS.best_params_)"
      ],
      "outputs": [],
      "metadata": {}
    },
    {
      "cell_type": "code",
      "execution_count": null,
      "source": [
        "# Evaluate Random Forest model with hyper-parameters tuning (GridSearchCV)\r\n",
        "\r\n",
        "def evaluate_RF_GS(y_test, y_pred_RF):  \r\n",
        "\r\n",
        "  # Acurácia\r\n",
        "  from sklearn.metrics import accuracy_score\r\n",
        "  accuracy = accuracy_score(y_test, y_pred_RF)\r\n",
        "  print('Acurácia: ', accuracy)\r\n",
        "\r\n",
        "  # Kappa\r\n",
        "  from sklearn.metrics import cohen_kappa_score\r\n",
        "  kappa = cohen_kappa_score(y_test, y_pred_RF)\r\n",
        "  print('Kappa: ', kappa)\r\n",
        "\r\n",
        "  # F1\r\n",
        "  from sklearn.metrics import f1_score\r\n",
        "  f1 = f1_score(y_test, y_pred_RF, average='weighted')\r\n",
        "  print('F1: ', f1)\r\n",
        "\r\n",
        "  # Matriz de confusão\r\n",
        "  from sklearn.metrics import confusion_matrix\r\n",
        "  confMatrix = confusion_matrix(y_pred_RF, y_test)\r\n",
        "\r\n",
        "  plt.figure(figsize=(20,12))\r\n",
        "  ax = plt.subplot()\r\n",
        "  sns.heatmap(confMatrix, annot=True, fmt=\".0f\", cmap=\"YlGnBu\")\r\n",
        "  plt.xlabel('REAL')\r\n",
        "  plt.ylabel('PRED')\r\n",
        "  plt.title('CONFUSION MATRIX')\r\n",
        "\r\n",
        "  # Colocar os nomes\r\n",
        "  ax.xaxis.set_ticklabels(['OUT', 'IN']) \r\n",
        "  ax.yaxis.set_ticklabels(['OUT', 'IN'])\r\n",
        "  plt.show()\r\n",
        "\r\n",
        "evaluate_RF_GS(y_test, y_pred_RF)"
      ],
      "outputs": [],
      "metadata": {}
    },
    {
      "cell_type": "markdown",
      "source": [
        "#Gradient Boosting Classifier"
      ],
      "metadata": {}
    },
    {
      "cell_type": "code",
      "execution_count": null,
      "source": [
        "# Train and predict Gradient Boosting Classifier\r\n",
        "\r\n",
        "def train_GBC (X_train, y_train):\r\n",
        "    model = GradientBoostingClassifier(n_estimators=1,\r\n",
        "                                        min_samples_leaf=5,\r\n",
        "                                        learning_rate=0.1,\r\n",
        "                                        loss='deviance',\r\n",
        "                                        subsample=1.0,\r\n",
        "                                        criterion='fiedman_mse',\r\n",
        "                                        min_samples_split=2,\r\n",
        "                                        max_depth=8,\r\n",
        "                                        random_state=100\r\n",
        "                                        )\r\n",
        "    model.fit(X_train, y_train)\r\n",
        "    return model\r\n",
        "\r\n",
        "model_GBC = train_GBC(X_train, y_train)\r\n",
        "y_pred_GBC = model_GBC.predict(X_test)"
      ],
      "outputs": [],
      "metadata": {}
    },
    {
      "cell_type": "code",
      "execution_count": null,
      "source": [
        "# Evaluate Gradient Boosting Classifier model\r\n",
        "\r\n",
        "def evaluate_GBC(y_test, y_pred_GBC):\r\n",
        "\r\n",
        "  # Acurácia\r\n",
        "  from sklearn.metrics import accuracy_score\r\n",
        "  accuracy = accuracy_score(y_test, y_pred_GBC)\r\n",
        "  print('Acurácia: ', accuracy)\r\n",
        "\r\n",
        "  # Kappa\r\n",
        "  from sklearn.metrics import cohen_kappa_score\r\n",
        "  kappa = cohen_kappa_score(y_test, y_pred_GBC)\r\n",
        "  print('Kappa: ', kappa)\r\n",
        "\r\n",
        "  # F1\r\n",
        "  from sklearn.metrics import f1_score\r\n",
        "  f1 = f1_score(y_test, y_pred_GBC)\r\n",
        "  print('F1: ', f1)\r\n",
        "\r\n",
        "  # Matriz de confusão\r\n",
        "  from sklearn.metrics import confusion_matrix\r\n",
        "  confMatrix = confusion_matrix(y_pred_GBC, y_test)\r\n",
        "\r\n",
        "  plt.figure(figsize=(20,12))\r\n",
        "  ax = plt.subplot()\r\n",
        "  sns.heatmap(confMatrix, annot=True, fmt=\".0f\", cmap =\"YlGnBu\")\r\n",
        "  plt.xlabel('REAL')\r\n",
        "  plt.ylabel('PRED')\r\n",
        "  plt.title('CONFUSION MATRIX')\r\n",
        "\r\n",
        "  # Colocar os nomes\r\n",
        "  ax.xaxis.set_ticklabels(['OUT', 'IN']) \r\n",
        "  ax.yaxis.set_ticklabels(['OUT', 'IN'])\r\n",
        "\r\n",
        "evaluate_GBC(X_test, y_test)"
      ],
      "outputs": [],
      "metadata": {}
    },
    {
      "cell_type": "markdown",
      "source": [
        "#XGBOOST"
      ],
      "metadata": {}
    },
    {
      "cell_type": "code",
      "execution_count": null,
      "source": [
        "# Train and predict XGBOOST model\r\n",
        "\r\n",
        "def train_XGB (X_train, y_train):\r\n",
        "    model = xgb.XGBClassifier(n_estimators=2000, \r\n",
        "                              objective=\"reg:logistic\", \r\n",
        "                              booster='gbtree', \r\n",
        "                              alpha=10, \r\n",
        "                              max_depth=8,\r\n",
        "                              gamma=1e-2,\r\n",
        "                              colsample_bytree=0.8,\r\n",
        "                              random_state=100)\r\n",
        "    model.fit(X_train, y_train)\r\n",
        "    return model\r\n",
        "\r\n",
        "model_XGB = train_XGB(X_train, y_train)\r\n",
        "y_pred_XGB = model_XGB.predict(X_test)"
      ],
      "outputs": [],
      "metadata": {}
    },
    {
      "cell_type": "code",
      "execution_count": null,
      "source": [
        "# Evaluate XGBOOST model\r\n",
        "\r\n",
        "def evaluate_XGB(X_test, y_test):\r\n",
        "\r\n",
        "  # Acurácia\r\n",
        "  from sklearn.metrics import accuracy_score\r\n",
        "  accuracy = accuracy_score(y_test, y_pred_XGB)\r\n",
        "  print('Acurácia: ', accuracy)\r\n",
        "\r\n",
        "  # Kappa\r\n",
        "  from sklearn.metrics import cohen_kappa_score\r\n",
        "  kappa = cohen_kappa_score(y_test, y_pred_XGB)\r\n",
        "  print('Kappa: ', kappa)\r\n",
        "\r\n",
        "  # F1\r\n",
        "  from sklearn.metrics import f1_score\r\n",
        "  f1 = f1_score(y_test, y_pred_XGB)\r\n",
        "  print('F1: ', f1)\r\n",
        "\r\n",
        "  # Matriz de confusão\r\n",
        "  from sklearn.metrics import confusion_matrix\r\n",
        "  confMatrix = confusion_matrix(y_pred_XGB, y_test)\r\n",
        "\r\n",
        "  plt.figure(figsize=(20,12))\r\n",
        "  ax = plt.subplot()\r\n",
        "  sns.heatmap(confMatrix, annot=True, fmt=\".0f\", cmap =\"YlGnBu\")\r\n",
        "  plt.xlabel('REAL')\r\n",
        "  plt.ylabel('PRED')\r\n",
        "  plt.title('CONFUSION MATRIX')\r\n",
        "\r\n",
        "  # Colocar os nomes\r\n",
        "  ax.xaxis.set_ticklabels(['OUT', 'IN']) \r\n",
        "  ax.yaxis.set_ticklabels(['OUT', 'IN'])\r\n",
        "\r\n",
        "evaluate_XGB(X_test, y_test)"
      ],
      "outputs": [],
      "metadata": {}
    },
    {
      "cell_type": "code",
      "execution_count": null,
      "source": [
        "# Plot the importance of the attributes to the model\r\n",
        "\r\n",
        "xgb.plot_importance(model_XGB)\r\n",
        "plt.rcParams['figure.figsize'] = [5, 5]\r\n",
        "plt.show()\r\n"
      ],
      "outputs": [],
      "metadata": {}
    },
    {
      "cell_type": "code",
      "execution_count": null,
      "source": [
        "# Train and predict XGBOOST model with hyper-parameters tuning (GridSearchCV)\r\n",
        "\r\n",
        "tuned_parameters = {\r\n",
        "                    #'learning_rate': [0.1, 0.3, 0.5, 0.7, 0.9],\r\n",
        "                    #'max_depth': [8,9,10,11,12,13], \r\n",
        "                    #'alpha': [5,6,7,8,9,10,11,12,13,14,15,17,18,19,20],\r\n",
        "                    #'lambda': [5,6,7,8,9,10,11,12,13,14,15,17,18,19,20]\r\n",
        "                    #'min_child_weight': [1, 5, 10],\r\n",
        "                    #'colsample_bytree': [0.6, 0.8, 1.0]\r\n",
        "                    #'gamma': [1e-1, 1e-2, 1e-3, 1e-4],\r\n",
        "                    #'n_estimators': [50, 100, 200, 300, 400, 500, 1000]\r\n",
        "                    }\r\n",
        "\r\n",
        "print('Hyperparameter Tuning for accuracy')\r\n",
        "\r\n",
        "model_XGB_GS = GridSearchCV(xgb.XGBClassifier(\r\n",
        "                                            objective='reg:squarederror',\r\n",
        "                                            n_estimators=100,\r\n",
        "                                            use_label_encoder=False,\r\n",
        "                                            random_state=100,\r\n",
        "                                            alpha=10,\r\n",
        "                                            max_depth=8,\r\n",
        "                                            gamma=1e-3,\r\n",
        "                                            learning_rate=0.3,\r\n",
        "                                            min_child_weight=0.0001,\r\n",
        "                                            #lambda=7,\r\n",
        "                                            ), \r\n",
        "                                              tuned_parameters, )\r\n",
        "model_XGB_GS.fit(X_train, y_train)\r\n",
        "\r\n",
        "y_pred_XGB_GS = model_XGB_GS.predict(X_test)\r\n",
        "print(classification_report(y_test, y_pred_XGB_GS))\r\n",
        "print()\r\n",
        "print(\"BEST TUNED PARAMETERS\", model_XGB_GS.best_params_)\r\n",
        "                    "
      ],
      "outputs": [],
      "metadata": {}
    },
    {
      "cell_type": "code",
      "execution_count": null,
      "source": [
        "# Evaluate XGBOOST model with hyper-parameters tuning (GridSearchCV)\r\n",
        "\r\n",
        "def evaluate_XGB_CV(y_test, y_pred_XGB_GS):\r\n",
        "\r\n",
        "  # Acurácia\r\n",
        "  from sklearn.metrics import accuracy_score\r\n",
        "  accuracy = accuracy_score(y_test, y_pred_XGB_GS)\r\n",
        "  print('Acurácia: ', accuracy)\r\n",
        "\r\n",
        "  # Kappa\r\n",
        "  from sklearn.metrics import cohen_kappa_score\r\n",
        "  kappa = cohen_kappa_score(y_test, y_pred_XGB_GS)\r\n",
        "  print('Kappa: ', kappa)\r\n",
        "\r\n",
        "  # F1\r\n",
        "  from sklearn.metrics import f1_score\r\n",
        "  f1 = f1_score(y_test, y_pred_XGB_GS)\r\n",
        "  print('F1: ', f1)\r\n",
        "\r\n",
        "  # Matriz de confusão\r\n",
        "  from sklearn.metrics import confusion_matrix\r\n",
        "  confMatrix = confusion_matrix(y_pred_XGB_GS, y_test)\r\n",
        "\r\n",
        "  plt.figure(figsize=(20,12))\r\n",
        "  ax = plt.subplot()\r\n",
        "  sns.heatmap(confMatrix, annot=True, fmt=\".0f\", cmap =\"YlGnBu\")\r\n",
        "  plt.xlabel('REAL')\r\n",
        "  plt.ylabel('PRED')\r\n",
        "  plt.title('CONFUSION MATRIX')\r\n",
        "\r\n",
        "  # Colocar os nomes\r\n",
        "  ax.xaxis.set_ticklabels(['OUT', 'IN']) \r\n",
        "  ax.yaxis.set_ticklabels(['OUT', 'IN'])\r\n",
        "\r\n",
        "evaluate_XGB_CV(y_test, y_pred_XGB_GS)"
      ],
      "outputs": [],
      "metadata": {}
    }
  ]
}